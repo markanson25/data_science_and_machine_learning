{
 "cells": [
  {
   "cell_type": "code",
   "execution_count": 1,
   "metadata": {},
   "outputs": [],
   "source": [
    "import numpy as np\n",
    "import pandas as pd\n",
    "import matplotlib.pyplot as plt\n",
    "import seaborn as sns\n",
    "sns.set()\n",
    "\n",
    "\n",
    "# classifier we will use\n",
    "from sklearn.tree import DecisionTreeClassifier\n",
    "\n",
    "# model selection bits\n",
    "from sklearn.model_selection import GridSearchCV, RandomizedSearchCV, train_test_split\n",
    "from sklearn.model_selection import cross_val_score\n",
    "from sklearn.model_selection import StratifiedShuffleSplit, StratifiedKFold\n",
    "from sklearn.model_selection import learning_curve, validation_curve\n",
    "\n",
    "# evaluation\n",
    "from sklearn.metrics import f1_score\n",
    "\n",
    "# plotting\n",
    "from plotting import plot_learning_curve, plot_validation_curve\n",
    "\n"
   ]
  },
  {
   "cell_type": "markdown",
   "metadata": {},
   "source": [
    "# Detecting Spam with Decision Trees\n",
    "\n",
    "In the last assignment we worked with the spam database. We are going to do the same thing in this assignment and we will practice with the correct tools this time around. "
   ]
  },
  {
   "cell_type": "code",
   "execution_count": 2,
   "metadata": {},
   "outputs": [],
   "source": [
    "## we are going to hardcode the column names, because this just makes it a little easier to use pandas.\n",
    "\n",
    "names = ['word_freq_make:        ',\n",
    "'word_freq_address:     ',\n",
    "'word_freq_all:         ',\n",
    "'word_freq_3d:          ',\n",
    "'word_freq_our:         ',\n",
    "'word_freq_over:        ',\n",
    "'word_freq_remove:      ',\n",
    "'word_freq_internet:    ',\n",
    "'word_freq_order:       ',\n",
    "'word_freq_mail:        ',\n",
    "'word_freq_receive:     ',\n",
    "'word_freq_will:        ',\n",
    "'word_freq_people:      ',\n",
    "'word_freq_report:      ',\n",
    "'word_freq_addresses:   ',\n",
    "'word_freq_free:        ',\n",
    "'word_freq_business:    ',\n",
    "'word_freq_email:       ',\n",
    "'word_freq_you:         ',\n",
    "'word_freq_credit:      ',\n",
    "'word_freq_your:        ',\n",
    "'word_freq_font:        ',\n",
    "'word_freq_000:         ',\n",
    "'word_freq_money:       ',\n",
    "'word_freq_hp:          ',\n",
    "'word_freq_hpl:         ',\n",
    "'word_freq_george:      ',\n",
    "'word_freq_650:         ',\n",
    "'word_freq_lab:         ',\n",
    "'word_freq_labs:        ',\n",
    "'word_freq_telnet:      ',\n",
    "'word_freq_857:         ',\n",
    "'word_freq_data:        ',\n",
    "'word_freq_415:         ',\n",
    "'word_freq_85:          ',\n",
    "'word_freq_technology:  ',\n",
    "'word_freq_1999:        ',\n",
    "'word_freq_parts:       ',\n",
    "'word_freq_pm:          ',\n",
    "'word_freq_direct:      ',\n",
    "'word_freq_cs:          ',\n",
    "'word_freq_meeting:     ',\n",
    "'word_freq_original:    ',\n",
    "'word_freq_project:     ',\n",
    "'word_freq_re:          ',\n",
    "'word_freq_edu:         ',\n",
    "'word_freq_table:       ',\n",
    "'word_freq_conference:  ',\n",
    "'char_freq_;:           ',\n",
    "'char_freq_(:           ',\n",
    "'char_freq_[:           ',\n",
    "'char_freq_!:           ',\n",
    "'char_freq_$:           ',\n",
    "'char_freq_#:           ',\n",
    "'capital_run_length_average',\n",
    "'capital_run_length_longest',\n",
    "'capital_run_length_total: ',\n",
    "'label']\n",
    "          "
   ]
  },
  {
   "cell_type": "code",
   "execution_count": 3,
   "metadata": {},
   "outputs": [
    {
     "data": {
      "text/html": [
       "<div>\n",
       "<style scoped>\n",
       "    .dataframe tbody tr th:only-of-type {\n",
       "        vertical-align: middle;\n",
       "    }\n",
       "\n",
       "    .dataframe tbody tr th {\n",
       "        vertical-align: top;\n",
       "    }\n",
       "\n",
       "    .dataframe thead th {\n",
       "        text-align: right;\n",
       "    }\n",
       "</style>\n",
       "<table border=\"1\" class=\"dataframe\">\n",
       "  <thead>\n",
       "    <tr style=\"text-align: right;\">\n",
       "      <th></th>\n",
       "      <th>word_freq_make:</th>\n",
       "      <th>word_freq_address:</th>\n",
       "      <th>word_freq_all:</th>\n",
       "      <th>word_freq_3d:</th>\n",
       "      <th>word_freq_our:</th>\n",
       "      <th>word_freq_over:</th>\n",
       "      <th>word_freq_remove:</th>\n",
       "      <th>word_freq_internet:</th>\n",
       "      <th>word_freq_order:</th>\n",
       "      <th>word_freq_mail:</th>\n",
       "      <th>...</th>\n",
       "      <th>char_freq_;:</th>\n",
       "      <th>char_freq_(:</th>\n",
       "      <th>char_freq_[:</th>\n",
       "      <th>char_freq_!:</th>\n",
       "      <th>char_freq_$:</th>\n",
       "      <th>char_freq_#:</th>\n",
       "      <th>capital_run_length_average</th>\n",
       "      <th>capital_run_length_longest</th>\n",
       "      <th>capital_run_length_total:</th>\n",
       "      <th>label</th>\n",
       "    </tr>\n",
       "  </thead>\n",
       "  <tbody>\n",
       "    <tr>\n",
       "      <th>0</th>\n",
       "      <td>0.00</td>\n",
       "      <td>0.64</td>\n",
       "      <td>0.64</td>\n",
       "      <td>0.0</td>\n",
       "      <td>0.32</td>\n",
       "      <td>0.00</td>\n",
       "      <td>0.00</td>\n",
       "      <td>0.00</td>\n",
       "      <td>0.00</td>\n",
       "      <td>0.00</td>\n",
       "      <td>...</td>\n",
       "      <td>0.00</td>\n",
       "      <td>0.000</td>\n",
       "      <td>0.0</td>\n",
       "      <td>0.778</td>\n",
       "      <td>0.000</td>\n",
       "      <td>0.000</td>\n",
       "      <td>3.756</td>\n",
       "      <td>61</td>\n",
       "      <td>278</td>\n",
       "      <td>1</td>\n",
       "    </tr>\n",
       "    <tr>\n",
       "      <th>1</th>\n",
       "      <td>0.21</td>\n",
       "      <td>0.28</td>\n",
       "      <td>0.50</td>\n",
       "      <td>0.0</td>\n",
       "      <td>0.14</td>\n",
       "      <td>0.28</td>\n",
       "      <td>0.21</td>\n",
       "      <td>0.07</td>\n",
       "      <td>0.00</td>\n",
       "      <td>0.94</td>\n",
       "      <td>...</td>\n",
       "      <td>0.00</td>\n",
       "      <td>0.132</td>\n",
       "      <td>0.0</td>\n",
       "      <td>0.372</td>\n",
       "      <td>0.180</td>\n",
       "      <td>0.048</td>\n",
       "      <td>5.114</td>\n",
       "      <td>101</td>\n",
       "      <td>1028</td>\n",
       "      <td>1</td>\n",
       "    </tr>\n",
       "    <tr>\n",
       "      <th>2</th>\n",
       "      <td>0.06</td>\n",
       "      <td>0.00</td>\n",
       "      <td>0.71</td>\n",
       "      <td>0.0</td>\n",
       "      <td>1.23</td>\n",
       "      <td>0.19</td>\n",
       "      <td>0.19</td>\n",
       "      <td>0.12</td>\n",
       "      <td>0.64</td>\n",
       "      <td>0.25</td>\n",
       "      <td>...</td>\n",
       "      <td>0.01</td>\n",
       "      <td>0.143</td>\n",
       "      <td>0.0</td>\n",
       "      <td>0.276</td>\n",
       "      <td>0.184</td>\n",
       "      <td>0.010</td>\n",
       "      <td>9.821</td>\n",
       "      <td>485</td>\n",
       "      <td>2259</td>\n",
       "      <td>1</td>\n",
       "    </tr>\n",
       "    <tr>\n",
       "      <th>3</th>\n",
       "      <td>0.00</td>\n",
       "      <td>0.00</td>\n",
       "      <td>0.00</td>\n",
       "      <td>0.0</td>\n",
       "      <td>0.63</td>\n",
       "      <td>0.00</td>\n",
       "      <td>0.31</td>\n",
       "      <td>0.63</td>\n",
       "      <td>0.31</td>\n",
       "      <td>0.63</td>\n",
       "      <td>...</td>\n",
       "      <td>0.00</td>\n",
       "      <td>0.137</td>\n",
       "      <td>0.0</td>\n",
       "      <td>0.137</td>\n",
       "      <td>0.000</td>\n",
       "      <td>0.000</td>\n",
       "      <td>3.537</td>\n",
       "      <td>40</td>\n",
       "      <td>191</td>\n",
       "      <td>1</td>\n",
       "    </tr>\n",
       "    <tr>\n",
       "      <th>4</th>\n",
       "      <td>0.00</td>\n",
       "      <td>0.00</td>\n",
       "      <td>0.00</td>\n",
       "      <td>0.0</td>\n",
       "      <td>0.63</td>\n",
       "      <td>0.00</td>\n",
       "      <td>0.31</td>\n",
       "      <td>0.63</td>\n",
       "      <td>0.31</td>\n",
       "      <td>0.63</td>\n",
       "      <td>...</td>\n",
       "      <td>0.00</td>\n",
       "      <td>0.135</td>\n",
       "      <td>0.0</td>\n",
       "      <td>0.135</td>\n",
       "      <td>0.000</td>\n",
       "      <td>0.000</td>\n",
       "      <td>3.537</td>\n",
       "      <td>40</td>\n",
       "      <td>191</td>\n",
       "      <td>1</td>\n",
       "    </tr>\n",
       "    <tr>\n",
       "      <th>5</th>\n",
       "      <td>0.00</td>\n",
       "      <td>0.00</td>\n",
       "      <td>0.00</td>\n",
       "      <td>0.0</td>\n",
       "      <td>1.85</td>\n",
       "      <td>0.00</td>\n",
       "      <td>0.00</td>\n",
       "      <td>1.85</td>\n",
       "      <td>0.00</td>\n",
       "      <td>0.00</td>\n",
       "      <td>...</td>\n",
       "      <td>0.00</td>\n",
       "      <td>0.223</td>\n",
       "      <td>0.0</td>\n",
       "      <td>0.000</td>\n",
       "      <td>0.000</td>\n",
       "      <td>0.000</td>\n",
       "      <td>3.000</td>\n",
       "      <td>15</td>\n",
       "      <td>54</td>\n",
       "      <td>1</td>\n",
       "    </tr>\n",
       "    <tr>\n",
       "      <th>6</th>\n",
       "      <td>0.00</td>\n",
       "      <td>0.00</td>\n",
       "      <td>0.00</td>\n",
       "      <td>0.0</td>\n",
       "      <td>1.92</td>\n",
       "      <td>0.00</td>\n",
       "      <td>0.00</td>\n",
       "      <td>0.00</td>\n",
       "      <td>0.00</td>\n",
       "      <td>0.64</td>\n",
       "      <td>...</td>\n",
       "      <td>0.00</td>\n",
       "      <td>0.054</td>\n",
       "      <td>0.0</td>\n",
       "      <td>0.164</td>\n",
       "      <td>0.054</td>\n",
       "      <td>0.000</td>\n",
       "      <td>1.671</td>\n",
       "      <td>4</td>\n",
       "      <td>112</td>\n",
       "      <td>1</td>\n",
       "    </tr>\n",
       "    <tr>\n",
       "      <th>7</th>\n",
       "      <td>0.00</td>\n",
       "      <td>0.00</td>\n",
       "      <td>0.00</td>\n",
       "      <td>0.0</td>\n",
       "      <td>1.88</td>\n",
       "      <td>0.00</td>\n",
       "      <td>0.00</td>\n",
       "      <td>1.88</td>\n",
       "      <td>0.00</td>\n",
       "      <td>0.00</td>\n",
       "      <td>...</td>\n",
       "      <td>0.00</td>\n",
       "      <td>0.206</td>\n",
       "      <td>0.0</td>\n",
       "      <td>0.000</td>\n",
       "      <td>0.000</td>\n",
       "      <td>0.000</td>\n",
       "      <td>2.450</td>\n",
       "      <td>11</td>\n",
       "      <td>49</td>\n",
       "      <td>1</td>\n",
       "    </tr>\n",
       "    <tr>\n",
       "      <th>8</th>\n",
       "      <td>0.15</td>\n",
       "      <td>0.00</td>\n",
       "      <td>0.46</td>\n",
       "      <td>0.0</td>\n",
       "      <td>0.61</td>\n",
       "      <td>0.00</td>\n",
       "      <td>0.30</td>\n",
       "      <td>0.00</td>\n",
       "      <td>0.92</td>\n",
       "      <td>0.76</td>\n",
       "      <td>...</td>\n",
       "      <td>0.00</td>\n",
       "      <td>0.271</td>\n",
       "      <td>0.0</td>\n",
       "      <td>0.181</td>\n",
       "      <td>0.203</td>\n",
       "      <td>0.022</td>\n",
       "      <td>9.744</td>\n",
       "      <td>445</td>\n",
       "      <td>1257</td>\n",
       "      <td>1</td>\n",
       "    </tr>\n",
       "    <tr>\n",
       "      <th>9</th>\n",
       "      <td>0.06</td>\n",
       "      <td>0.12</td>\n",
       "      <td>0.77</td>\n",
       "      <td>0.0</td>\n",
       "      <td>0.19</td>\n",
       "      <td>0.32</td>\n",
       "      <td>0.38</td>\n",
       "      <td>0.00</td>\n",
       "      <td>0.06</td>\n",
       "      <td>0.00</td>\n",
       "      <td>...</td>\n",
       "      <td>0.04</td>\n",
       "      <td>0.030</td>\n",
       "      <td>0.0</td>\n",
       "      <td>0.244</td>\n",
       "      <td>0.081</td>\n",
       "      <td>0.000</td>\n",
       "      <td>1.729</td>\n",
       "      <td>43</td>\n",
       "      <td>749</td>\n",
       "      <td>1</td>\n",
       "    </tr>\n",
       "  </tbody>\n",
       "</table>\n",
       "<p>10 rows × 58 columns</p>\n",
       "</div>"
      ],
      "text/plain": [
       "   word_freq_make:          word_freq_address:       word_freq_all:           \\\n",
       "0                     0.00                     0.64                     0.64   \n",
       "1                     0.21                     0.28                     0.50   \n",
       "2                     0.06                     0.00                     0.71   \n",
       "3                     0.00                     0.00                     0.00   \n",
       "4                     0.00                     0.00                     0.00   \n",
       "5                     0.00                     0.00                     0.00   \n",
       "6                     0.00                     0.00                     0.00   \n",
       "7                     0.00                     0.00                     0.00   \n",
       "8                     0.15                     0.00                     0.46   \n",
       "9                     0.06                     0.12                     0.77   \n",
       "\n",
       "   word_freq_3d:            word_freq_our:           word_freq_over:          \\\n",
       "0                      0.0                     0.32                     0.00   \n",
       "1                      0.0                     0.14                     0.28   \n",
       "2                      0.0                     1.23                     0.19   \n",
       "3                      0.0                     0.63                     0.00   \n",
       "4                      0.0                     0.63                     0.00   \n",
       "5                      0.0                     1.85                     0.00   \n",
       "6                      0.0                     1.92                     0.00   \n",
       "7                      0.0                     1.88                     0.00   \n",
       "8                      0.0                     0.61                     0.00   \n",
       "9                      0.0                     0.19                     0.32   \n",
       "\n",
       "   word_freq_remove:        word_freq_internet:      word_freq_order:         \\\n",
       "0                     0.00                     0.00                     0.00   \n",
       "1                     0.21                     0.07                     0.00   \n",
       "2                     0.19                     0.12                     0.64   \n",
       "3                     0.31                     0.63                     0.31   \n",
       "4                     0.31                     0.63                     0.31   \n",
       "5                     0.00                     1.85                     0.00   \n",
       "6                     0.00                     0.00                     0.00   \n",
       "7                     0.00                     1.88                     0.00   \n",
       "8                     0.30                     0.00                     0.92   \n",
       "9                     0.38                     0.00                     0.06   \n",
       "\n",
       "   word_freq_mail:          ...  char_freq_;:             \\\n",
       "0                     0.00  ...                     0.00   \n",
       "1                     0.94  ...                     0.00   \n",
       "2                     0.25  ...                     0.01   \n",
       "3                     0.63  ...                     0.00   \n",
       "4                     0.63  ...                     0.00   \n",
       "5                     0.00  ...                     0.00   \n",
       "6                     0.64  ...                     0.00   \n",
       "7                     0.00  ...                     0.00   \n",
       "8                     0.76  ...                     0.00   \n",
       "9                     0.00  ...                     0.04   \n",
       "\n",
       "   char_freq_(:             char_freq_[:             char_freq_!:             \\\n",
       "0                    0.000                      0.0                    0.778   \n",
       "1                    0.132                      0.0                    0.372   \n",
       "2                    0.143                      0.0                    0.276   \n",
       "3                    0.137                      0.0                    0.137   \n",
       "4                    0.135                      0.0                    0.135   \n",
       "5                    0.223                      0.0                    0.000   \n",
       "6                    0.054                      0.0                    0.164   \n",
       "7                    0.206                      0.0                    0.000   \n",
       "8                    0.271                      0.0                    0.181   \n",
       "9                    0.030                      0.0                    0.244   \n",
       "\n",
       "   char_freq_$:             char_freq_#:             \\\n",
       "0                    0.000                    0.000   \n",
       "1                    0.180                    0.048   \n",
       "2                    0.184                    0.010   \n",
       "3                    0.000                    0.000   \n",
       "4                    0.000                    0.000   \n",
       "5                    0.000                    0.000   \n",
       "6                    0.054                    0.000   \n",
       "7                    0.000                    0.000   \n",
       "8                    0.203                    0.022   \n",
       "9                    0.081                    0.000   \n",
       "\n",
       "   capital_run_length_average  capital_run_length_longest  \\\n",
       "0                       3.756                          61   \n",
       "1                       5.114                         101   \n",
       "2                       9.821                         485   \n",
       "3                       3.537                          40   \n",
       "4                       3.537                          40   \n",
       "5                       3.000                          15   \n",
       "6                       1.671                           4   \n",
       "7                       2.450                          11   \n",
       "8                       9.744                         445   \n",
       "9                       1.729                          43   \n",
       "\n",
       "   capital_run_length_total:   label  \n",
       "0                         278      1  \n",
       "1                        1028      1  \n",
       "2                        2259      1  \n",
       "3                         191      1  \n",
       "4                         191      1  \n",
       "5                          54      1  \n",
       "6                         112      1  \n",
       "7                          49      1  \n",
       "8                        1257      1  \n",
       "9                         749      1  \n",
       "\n",
       "[10 rows x 58 columns]"
      ]
     },
     "execution_count": 3,
     "metadata": {},
     "output_type": "execute_result"
    }
   ],
   "source": [
    "data = pd.read_csv('spambase/spambase.csv', names = names)\n",
    "data.head(10)"
   ]
  },
  {
   "cell_type": "code",
   "execution_count": 4,
   "metadata": {},
   "outputs": [],
   "source": [
    "## Load in the dataset here \n",
    "\n",
    "data = pd.read_csv('spambase/spambase.csv', names = names)\n",
    "X = data.drop('label', axis = 1)\n",
    "y = data.label"
   ]
  },
  {
   "cell_type": "code",
   "execution_count": 5,
   "metadata": {},
   "outputs": [],
   "source": [
    "# this time we will keep a bit more data for training and validation.\n",
    "X_train, X_test, y_train, y_test = train_test_split(X, y, train_size=.8, stratify = y)"
   ]
  },
  {
   "cell_type": "markdown",
   "metadata": {},
   "source": [
    "## 1. Evaluate your classifier using 5 fold cross validation.\n",
    "\n",
    "Do you see any variance in different runs?\n",
    "Why do you think this is happening?\n"
   ]
  },
  {
   "cell_type": "code",
   "execution_count": 6,
   "metadata": {},
   "outputs": [],
   "source": [
    "# create a default decision tree model\n",
    "clf = DecisionTreeClassifier()\n",
    "# clf.fit(X_train, y_train)\n",
    "# train_predictions = dtc.predict(X_train)\n",
    "\n",
    "# create a stratifiedKfold cv object -- we want stratified to keep the class balance across folds\n",
    "cv = StratifiedKFold(n_splits = 5)  # set it for 5 folds\n",
    "\n",
    "# get the scores back using the helper function, make sure to pass a scoring function string - otherwise you default to accuracy\n",
    "scores = cross_val_score(clf, X_train, y_train, scoring = 'f1', cv = cv)"
   ]
  },
  {
   "cell_type": "code",
   "execution_count": 7,
   "metadata": {},
   "outputs": [
    {
     "name": "stdout",
     "output_type": "stream",
     "text": [
      "[0.85223368 0.89965398 0.89948893 0.91065292 0.89198606]\n"
     ]
    }
   ],
   "source": [
    "print(scores)"
   ]
  },
  {
   "cell_type": "code",
   "execution_count": 8,
   "metadata": {},
   "outputs": [
    {
     "name": "stdout",
     "output_type": "stream",
     "text": [
      "0.8908031133281671\n"
     ]
    }
   ],
   "source": [
    "print(scores.mean())"
   ]
  },
  {
   "cell_type": "markdown",
   "metadata": {},
   "source": [
    "### Looking for variance in the runs\n",
    "\n",
    "How much do the runs change over time? Let's run a for-loop and check.  In fact, that's exactly what shuffle split will do for us, so we can just run 100 iterations with 25% held out as validations - this will mimick 5-fold CV in the long run. "
   ]
  },
  {
   "cell_type": "code",
   "execution_count": 9,
   "metadata": {},
   "outputs": [],
   "source": [
    "sss_split = StratifiedShuffleSplit(n_splits = 100, test_size=.25) # fill in the params\n",
    "scores_sss = cross_val_score(clf, X_train, y_train, scoring = 'f1', cv = sss_split)"
   ]
  },
  {
   "cell_type": "code",
   "execution_count": 10,
   "metadata": {},
   "outputs": [
    {
     "name": "stdout",
     "output_type": "stream",
     "text": [
      "[0.87824897 0.88219178 0.89580514 0.88333333 0.88734353 0.85714286\n",
      " 0.89863014 0.89367429 0.88739946 0.86145405 0.87637363 0.87924016\n",
      " 0.87550201 0.88033012 0.8579235  0.88043478 0.89163237 0.88219178\n",
      " 0.88435374 0.87585266 0.88365651 0.8989071  0.88235294 0.89344262\n",
      " 0.87621697 0.88771466 0.87798036 0.87431694 0.88346883 0.90482759\n",
      " 0.87567568 0.89487871 0.86766712 0.89012517 0.89812332 0.90040928\n",
      " 0.87172414 0.89430894 0.88461538 0.84823848 0.89349931 0.87087912\n",
      " 0.89932886 0.89344262 0.90260631 0.88145049 0.88466757 0.88283379\n",
      " 0.89042996 0.90612245 0.88676671 0.87123288 0.89437586 0.88372093\n",
      " 0.86750349 0.87362637 0.89711934 0.87637363 0.90785908 0.89466484\n",
      " 0.89256198 0.88555858 0.88858322 0.86263736 0.86908078 0.87483176\n",
      " 0.88709677 0.89424364 0.8840382  0.88195387 0.88       0.89285714\n",
      " 0.87878788 0.88919289 0.89073306 0.88950276 0.89290682 0.87222222\n",
      " 0.90983607 0.87327824 0.9076087  0.88300836 0.89823609 0.90633609\n",
      " 0.89768076 0.88858322 0.88948787 0.8815427  0.90223464 0.88429752\n",
      " 0.87899861 0.87450462 0.89276139 0.87603306 0.89100817 0.88978495\n",
      " 0.87878788 0.86684783 0.89256198 0.87785235]\n"
     ]
    }
   ],
   "source": [
    "# print at your own risk!\n",
    "print (scores_sss)"
   ]
  },
  {
   "cell_type": "code",
   "execution_count": 11,
   "metadata": {},
   "outputs": [
    {
     "data": {
      "text/plain": [
       "0.8850427270525931"
      ]
     },
     "execution_count": 11,
     "metadata": {},
     "output_type": "execute_result"
    }
   ],
   "source": [
    "scores_sss.mean()"
   ]
  },
  {
   "cell_type": "markdown",
   "metadata": {},
   "source": [
    "### Plotting a histogram of the runs\n",
    "\n",
    "So we want to look for variance or variation in the runs. It's not easy to just look at a large list of scores and get any idea, so I will plot a histogram which should show us the distribution of results."
   ]
  },
  {
   "cell_type": "code",
   "execution_count": 12,
   "metadata": {},
   "outputs": [
    {
     "name": "stderr",
     "output_type": "stream",
     "text": [
      "/home/mark/anaconda3/envs/cn_ml_course/lib/python3.9/site-packages/seaborn/distributions.py:2557: FutureWarning: `distplot` is a deprecated function and will be removed in a future version. Please adapt your code to use either `displot` (a figure-level function with similar flexibility) or `histplot` (an axes-level function for histograms).\n",
      "  warnings.warn(msg, FutureWarning)\n"
     ]
    },
    {
     "data": {
      "image/png": "[encoded data removed]",
      "text/plain": [
       "<Figure size 720x432 with 1 Axes>"
      ]
     },
     "metadata": {},
     "output_type": "display_data"
    }
   ],
   "source": [
    "plt.figure(figsize=(10,6))\n",
    "sns.distplot(scores_sss, bins=15);  # go ahead and try different bins"
   ]
  },
  {
   "cell_type": "markdown",
   "metadata": {},
   "source": [
    "### What does the histogram tell you?\n",
    "\n",
    "What is the mean of the our model? What kind of variation can we expect?\n",
    "\n",
    "#### Your answer below : "
   ]
  },
  {
   "cell_type": "markdown",
   "metadata": {},
   "source": [
    "0.8814559849305782 is the mean.  It looks like the standard deviation would be something like 2%."
   ]
  },
  {
   "cell_type": "markdown",
   "metadata": {},
   "source": [
    "## 2. Tune your models hyper-parameters with Gridsearch\n",
    "\n",
    "Choose at least **3** parameters with **3** values each (total **9**) to search over\n",
    "When you create your GridSearchCV object make sure to set the following\n",
    "\n",
    "1. cv object - which CV do you want to use? This will be run for every experiment, so if you do 100 sss, then you get 100 experiments for every parameter setting! This will add up fast. So make sure to choose something reasonable.\n",
    "2. scoring parameter - never forget this!\n",
    "\n",
    "If you don't set the above, GridSearchCV will default to kfold=5 for the CV and accuracy for the scoring parameter.  kfold=5 isn't the worst (stratifiedkfold is better for us), but accuracy is really wrong for this dataset since it's unbalanced and a spam dataset.\n",
    "\n",
    "Quiz Question: How many different trees will get made during your grid-search? You need to do the math on the number of splits per CV * number of combination from your grid-search.\n",
    "\n"
   ]
  },
  {
   "cell_type": "code",
   "execution_count": 13,
   "metadata": {},
   "outputs": [],
   "source": [
    "# you need to setup a paramgrid.  I will give you one example\n",
    "\n",
    "#param_grid = {'max_depth':[2,10,20,30]} # will check max depth for those four parameters."
   ]
  },
  {
   "cell_type": "code",
   "execution_count": 14,
   "metadata": {},
   "outputs": [],
   "source": [
    "## make a gridsearch object and pass all the needed parameters.\n",
    "#clf = clf = DecisionTreeClassifier()\n",
    "#clf.fit(X_train, y_train)\n",
    "param_grid = [{'min_samples_split':[2, 4, 8]}, {'min_samples_leaf':[2, 4, 8]}, {'max_depth':[10, 20, 40]}]\n",
    "ss_split = StratifiedShuffleSplit(n_splits = 25, test_size=.25)\n",
    "grid_search_scores = GridSearchCV(clf, param_grid = param_grid, scoring = 'f1', cv = ss_split)"
   ]
  },
  {
   "cell_type": "code",
   "execution_count": 15,
   "metadata": {},
   "outputs": [
    {
     "data": {
      "text/plain": [
       "GridSearchCV(cv=StratifiedShuffleSplit(n_splits=25, random_state=None, test_size=0.25,\n",
       "            train_size=None),\n",
       "             estimator=DecisionTreeClassifier(),\n",
       "             param_grid=[{'min_samples_split': [2, 4, 8]},\n",
       "                         {'min_samples_leaf': [2, 4, 8]},\n",
       "                         {'max_depth': [10, 20, 40]}],\n",
       "             scoring='f1')"
      ]
     },
     "execution_count": 15,
     "metadata": {},
     "output_type": "execute_result"
    }
   ],
   "source": [
    "# fit your grid-search! - it's an estimator so you fit it like a normal model.\n",
    "grid_search_scores.fit(X_train, y_train)"
   ]
  },
  {
   "cell_type": "code",
   "execution_count": null,
   "metadata": {},
   "outputs": [],
   "source": []
  },
  {
   "cell_type": "markdown",
   "metadata": {},
   "source": [
    "## 2.1: Gridsearch Results \n",
    "\n",
    "1. What are the final parameters that were best?  (grid.best_params_)\n",
    "2. What was your models best score? (grid.best_score_)\n",
    "3. You can also print out the best estimator with grid.best_estimator_\n",
    "4. Go ahead and put your grid results into a dataframe. \n",
    "\n"
   ]
  },
  {
   "cell_type": "code",
   "execution_count": 16,
   "metadata": {},
   "outputs": [
    {
     "data": {
      "text/plain": [
       "{'max_depth': 10}"
      ]
     },
     "execution_count": 16,
     "metadata": {},
     "output_type": "execute_result"
    }
   ],
   "source": [
    "grid_search_scores.best_params_"
   ]
  },
  {
   "cell_type": "code",
   "execution_count": 17,
   "metadata": {},
   "outputs": [
    {
     "data": {
      "text/plain": [
       "0.8884570931199189"
      ]
     },
     "execution_count": 17,
     "metadata": {},
     "output_type": "execute_result"
    }
   ],
   "source": [
    "grid_search_scores.best_score_"
   ]
  },
  {
   "cell_type": "code",
   "execution_count": 18,
   "metadata": {},
   "outputs": [
    {
     "data": {
      "text/plain": [
       "DecisionTreeClassifier(max_depth=10)"
      ]
     },
     "execution_count": 18,
     "metadata": {},
     "output_type": "execute_result"
    }
   ],
   "source": [
    "grid_search_scores.best_estimator_"
   ]
  },
  {
   "cell_type": "code",
   "execution_count": null,
   "metadata": {},
   "outputs": [],
   "source": []
  },
  {
   "cell_type": "code",
   "execution_count": 19,
   "metadata": {
    "tags": []
   },
   "outputs": [],
   "source": [
    "results = pd.DataFrame(grid_search_scores.cv_results_)"
   ]
  },
  {
   "cell_type": "code",
   "execution_count": 24,
   "metadata": {
    "tags": []
   },
   "outputs": [
    {
     "data": {
      "text/html": [
       "<div>\n",
       "<style scoped>\n",
       "    .dataframe tbody tr th:only-of-type {\n",
       "        vertical-align: middle;\n",
       "    }\n",
       "\n",
       "    .dataframe tbody tr th {\n",
       "        vertical-align: top;\n",
       "    }\n",
       "\n",
       "    .dataframe thead th {\n",
       "        text-align: right;\n",
       "    }\n",
       "</style>\n",
       "<table border=\"1\" class=\"dataframe\">\n",
       "  <thead>\n",
       "    <tr style=\"text-align: right;\">\n",
       "      <th></th>\n",
       "      <th>mean_fit_time</th>\n",
       "      <th>std_fit_time</th>\n",
       "      <th>mean_score_time</th>\n",
       "      <th>std_score_time</th>\n",
       "      <th>param_min_samples_split</th>\n",
       "      <th>param_min_samples_leaf</th>\n",
       "      <th>param_max_depth</th>\n",
       "      <th>params</th>\n",
       "      <th>split0_test_score</th>\n",
       "      <th>split1_test_score</th>\n",
       "      <th>...</th>\n",
       "      <th>split18_test_score</th>\n",
       "      <th>split19_test_score</th>\n",
       "      <th>split20_test_score</th>\n",
       "      <th>split21_test_score</th>\n",
       "      <th>split22_test_score</th>\n",
       "      <th>split23_test_score</th>\n",
       "      <th>split24_test_score</th>\n",
       "      <th>mean_test_score</th>\n",
       "      <th>std_test_score</th>\n",
       "      <th>rank_test_score</th>\n",
       "    </tr>\n",
       "  </thead>\n",
       "  <tbody>\n",
       "    <tr>\n",
       "      <th>0</th>\n",
       "      <td>0.033343</td>\n",
       "      <td>0.002724</td>\n",
       "      <td>0.002211</td>\n",
       "      <td>0.000319</td>\n",
       "      <td>2</td>\n",
       "      <td>NaN</td>\n",
       "      <td>NaN</td>\n",
       "      <td>{'min_samples_split': 2}</td>\n",
       "      <td>0.874494</td>\n",
       "      <td>0.879567</td>\n",
       "      <td>...</td>\n",
       "      <td>0.892857</td>\n",
       "      <td>0.856760</td>\n",
       "      <td>0.890710</td>\n",
       "      <td>0.905767</td>\n",
       "      <td>0.881020</td>\n",
       "      <td>0.877241</td>\n",
       "      <td>0.891304</td>\n",
       "      <td>0.883396</td>\n",
       "      <td>0.013452</td>\n",
       "      <td>3</td>\n",
       "    </tr>\n",
       "    <tr>\n",
       "      <th>1</th>\n",
       "      <td>0.033502</td>\n",
       "      <td>0.002993</td>\n",
       "      <td>0.002177</td>\n",
       "      <td>0.000173</td>\n",
       "      <td>4</td>\n",
       "      <td>NaN</td>\n",
       "      <td>NaN</td>\n",
       "      <td>{'min_samples_split': 4}</td>\n",
       "      <td>0.887363</td>\n",
       "      <td>0.883784</td>\n",
       "      <td>...</td>\n",
       "      <td>0.890125</td>\n",
       "      <td>0.851752</td>\n",
       "      <td>0.893151</td>\n",
       "      <td>0.897328</td>\n",
       "      <td>0.878745</td>\n",
       "      <td>0.891967</td>\n",
       "      <td>0.884882</td>\n",
       "      <td>0.882600</td>\n",
       "      <td>0.013147</td>\n",
       "      <td>6</td>\n",
       "    </tr>\n",
       "    <tr>\n",
       "      <th>2</th>\n",
       "      <td>0.033064</td>\n",
       "      <td>0.002612</td>\n",
       "      <td>0.002167</td>\n",
       "      <td>0.000171</td>\n",
       "      <td>8</td>\n",
       "      <td>NaN</td>\n",
       "      <td>NaN</td>\n",
       "      <td>{'min_samples_split': 8}</td>\n",
       "      <td>0.867769</td>\n",
       "      <td>0.895028</td>\n",
       "      <td>...</td>\n",
       "      <td>0.891667</td>\n",
       "      <td>0.856369</td>\n",
       "      <td>0.883657</td>\n",
       "      <td>0.894811</td>\n",
       "      <td>0.886981</td>\n",
       "      <td>0.874302</td>\n",
       "      <td>0.877980</td>\n",
       "      <td>0.880766</td>\n",
       "      <td>0.013153</td>\n",
       "      <td>7</td>\n",
       "    </tr>\n",
       "    <tr>\n",
       "      <th>3</th>\n",
       "      <td>0.030645</td>\n",
       "      <td>0.002909</td>\n",
       "      <td>0.002192</td>\n",
       "      <td>0.000257</td>\n",
       "      <td>NaN</td>\n",
       "      <td>2</td>\n",
       "      <td>NaN</td>\n",
       "      <td>{'min_samples_leaf': 2}</td>\n",
       "      <td>0.876560</td>\n",
       "      <td>0.859551</td>\n",
       "      <td>...</td>\n",
       "      <td>0.883008</td>\n",
       "      <td>0.834031</td>\n",
       "      <td>0.890756</td>\n",
       "      <td>0.888571</td>\n",
       "      <td>0.886957</td>\n",
       "      <td>0.870056</td>\n",
       "      <td>0.887624</td>\n",
       "      <td>0.876824</td>\n",
       "      <td>0.014628</td>\n",
       "      <td>9</td>\n",
       "    </tr>\n",
       "    <tr>\n",
       "      <th>4</th>\n",
       "      <td>0.027150</td>\n",
       "      <td>0.002383</td>\n",
       "      <td>0.002158</td>\n",
       "      <td>0.000247</td>\n",
       "      <td>NaN</td>\n",
       "      <td>4</td>\n",
       "      <td>NaN</td>\n",
       "      <td>{'min_samples_leaf': 4}</td>\n",
       "      <td>0.878116</td>\n",
       "      <td>0.876902</td>\n",
       "      <td>...</td>\n",
       "      <td>0.893918</td>\n",
       "      <td>0.851240</td>\n",
       "      <td>0.859890</td>\n",
       "      <td>0.894286</td>\n",
       "      <td>0.878261</td>\n",
       "      <td>0.890733</td>\n",
       "      <td>0.867816</td>\n",
       "      <td>0.880697</td>\n",
       "      <td>0.012081</td>\n",
       "      <td>8</td>\n",
       "    </tr>\n",
       "    <tr>\n",
       "      <th>5</th>\n",
       "      <td>0.026504</td>\n",
       "      <td>0.003255</td>\n",
       "      <td>0.002507</td>\n",
       "      <td>0.000370</td>\n",
       "      <td>NaN</td>\n",
       "      <td>8</td>\n",
       "      <td>NaN</td>\n",
       "      <td>{'min_samples_leaf': 8}</td>\n",
       "      <td>0.886686</td>\n",
       "      <td>0.879090</td>\n",
       "      <td>...</td>\n",
       "      <td>0.889197</td>\n",
       "      <td>0.879433</td>\n",
       "      <td>0.873786</td>\n",
       "      <td>0.906815</td>\n",
       "      <td>0.881159</td>\n",
       "      <td>0.878322</td>\n",
       "      <td>0.892608</td>\n",
       "      <td>0.882994</td>\n",
       "      <td>0.014095</td>\n",
       "      <td>4</td>\n",
       "    </tr>\n",
       "    <tr>\n",
       "      <th>6</th>\n",
       "      <td>0.024240</td>\n",
       "      <td>0.002077</td>\n",
       "      <td>0.002417</td>\n",
       "      <td>0.000324</td>\n",
       "      <td>NaN</td>\n",
       "      <td>NaN</td>\n",
       "      <td>10</td>\n",
       "      <td>{'max_depth': 10}</td>\n",
       "      <td>0.890469</td>\n",
       "      <td>0.902778</td>\n",
       "      <td>...</td>\n",
       "      <td>0.898305</td>\n",
       "      <td>0.866667</td>\n",
       "      <td>0.889510</td>\n",
       "      <td>0.893314</td>\n",
       "      <td>0.889213</td>\n",
       "      <td>0.885794</td>\n",
       "      <td>0.898426</td>\n",
       "      <td>0.888457</td>\n",
       "      <td>0.012460</td>\n",
       "      <td>1</td>\n",
       "    </tr>\n",
       "    <tr>\n",
       "      <th>7</th>\n",
       "      <td>0.032852</td>\n",
       "      <td>0.002372</td>\n",
       "      <td>0.002337</td>\n",
       "      <td>0.000351</td>\n",
       "      <td>NaN</td>\n",
       "      <td>NaN</td>\n",
       "      <td>20</td>\n",
       "      <td>{'max_depth': 20}</td>\n",
       "      <td>0.873626</td>\n",
       "      <td>0.886145</td>\n",
       "      <td>...</td>\n",
       "      <td>0.892265</td>\n",
       "      <td>0.855586</td>\n",
       "      <td>0.901099</td>\n",
       "      <td>0.904494</td>\n",
       "      <td>0.888889</td>\n",
       "      <td>0.895978</td>\n",
       "      <td>0.900141</td>\n",
       "      <td>0.886249</td>\n",
       "      <td>0.014692</td>\n",
       "      <td>2</td>\n",
       "    </tr>\n",
       "    <tr>\n",
       "      <th>8</th>\n",
       "      <td>0.035177</td>\n",
       "      <td>0.003236</td>\n",
       "      <td>0.002305</td>\n",
       "      <td>0.000178</td>\n",
       "      <td>NaN</td>\n",
       "      <td>NaN</td>\n",
       "      <td>40</td>\n",
       "      <td>{'max_depth': 40}</td>\n",
       "      <td>0.875676</td>\n",
       "      <td>0.877717</td>\n",
       "      <td>...</td>\n",
       "      <td>0.896836</td>\n",
       "      <td>0.851007</td>\n",
       "      <td>0.896175</td>\n",
       "      <td>0.900277</td>\n",
       "      <td>0.886686</td>\n",
       "      <td>0.877437</td>\n",
       "      <td>0.892857</td>\n",
       "      <td>0.882885</td>\n",
       "      <td>0.015051</td>\n",
       "      <td>5</td>\n",
       "    </tr>\n",
       "  </tbody>\n",
       "</table>\n",
       "<p>9 rows × 36 columns</p>\n",
       "</div>"
      ],
      "text/plain": [
       "   mean_fit_time  std_fit_time  mean_score_time  std_score_time  \\\n",
       "0       0.033343      0.002724         0.002211        0.000319   \n",
       "1       0.033502      0.002993         0.002177        0.000173   \n",
       "2       0.033064      0.002612         0.002167        0.000171   \n",
       "3       0.030645      0.002909         0.002192        0.000257   \n",
       "4       0.027150      0.002383         0.002158        0.000247   \n",
       "5       0.026504      0.003255         0.002507        0.000370   \n",
       "6       0.024240      0.002077         0.002417        0.000324   \n",
       "7       0.032852      0.002372         0.002337        0.000351   \n",
       "8       0.035177      0.003236         0.002305        0.000178   \n",
       "\n",
       "  param_min_samples_split param_min_samples_leaf param_max_depth  \\\n",
       "0                       2                    NaN             NaN   \n",
       "1                       4                    NaN             NaN   \n",
       "2                       8                    NaN             NaN   \n",
       "3                     NaN                      2             NaN   \n",
       "4                     NaN                      4             NaN   \n",
       "5                     NaN                      8             NaN   \n",
       "6                     NaN                    NaN              10   \n",
       "7                     NaN                    NaN              20   \n",
       "8                     NaN                    NaN              40   \n",
       "\n",
       "                     params  split0_test_score  split1_test_score  ...  \\\n",
       "0  {'min_samples_split': 2}           0.874494           0.879567  ...   \n",
       "1  {'min_samples_split': 4}           0.887363           0.883784  ...   \n",
       "2  {'min_samples_split': 8}           0.867769           0.895028  ...   \n",
       "3   {'min_samples_leaf': 2}           0.876560           0.859551  ...   \n",
       "4   {'min_samples_leaf': 4}           0.878116           0.876902  ...   \n",
       "5   {'min_samples_leaf': 8}           0.886686           0.879090  ...   \n",
       "6         {'max_depth': 10}           0.890469           0.902778  ...   \n",
       "7         {'max_depth': 20}           0.873626           0.886145  ...   \n",
       "8         {'max_depth': 40}           0.875676           0.877717  ...   \n",
       "\n",
       "   split18_test_score  split19_test_score  split20_test_score  \\\n",
       "0            0.892857            0.856760            0.890710   \n",
       "1            0.890125            0.851752            0.893151   \n",
       "2            0.891667            0.856369            0.883657   \n",
       "3            0.883008            0.834031            0.890756   \n",
       "4            0.893918            0.851240            0.859890   \n",
       "5            0.889197            0.879433            0.873786   \n",
       "6            0.898305            0.866667            0.889510   \n",
       "7            0.892265            0.855586            0.901099   \n",
       "8            0.896836            0.851007            0.896175   \n",
       "\n",
       "   split21_test_score  split22_test_score  split23_test_score  \\\n",
       "0            0.905767            0.881020            0.877241   \n",
       "1            0.897328            0.878745            0.891967   \n",
       "2            0.894811            0.886981            0.874302   \n",
       "3            0.888571            0.886957            0.870056   \n",
       "4            0.894286            0.878261            0.890733   \n",
       "5            0.906815            0.881159            0.878322   \n",
       "6            0.893314            0.889213            0.885794   \n",
       "7            0.904494            0.888889            0.895978   \n",
       "8            0.900277            0.886686            0.877437   \n",
       "\n",
       "   split24_test_score  mean_test_score  std_test_score  rank_test_score  \n",
       "0            0.891304         0.883396        0.013452                3  \n",
       "1            0.884882         0.882600        0.013147                6  \n",
       "2            0.877980         0.880766        0.013153                7  \n",
       "3            0.887624         0.876824        0.014628                9  \n",
       "4            0.867816         0.880697        0.012081                8  \n",
       "5            0.892608         0.882994        0.014095                4  \n",
       "6            0.898426         0.888457        0.012460                1  \n",
       "7            0.900141         0.886249        0.014692                2  \n",
       "8            0.892857         0.882885        0.015051                5  \n",
       "\n",
       "[9 rows x 36 columns]"
      ]
     },
     "execution_count": 24,
     "metadata": {},
     "output_type": "execute_result"
    }
   ],
   "source": [
    "results.head(10)"
   ]
  },
  {
   "cell_type": "code",
   "execution_count": 21,
   "metadata": {
    "tags": []
   },
   "outputs": [
    {
     "data": {
      "text/plain": [
       "(9, 36)"
      ]
     },
     "execution_count": 21,
     "metadata": {},
     "output_type": "execute_result"
    }
   ],
   "source": [
    "results.shape"
   ]
  },
  {
   "cell_type": "code",
   "execution_count": 22,
   "metadata": {},
   "outputs": [
    {
     "data": {
      "text/plain": [
       "0    3\n",
       "1    6\n",
       "2    7\n",
       "3    9\n",
       "4    8\n",
       "5    4\n",
       "6    1\n",
       "7    2\n",
       "8    5\n",
       "Name: rank_test_score, dtype: int32"
      ]
     },
     "execution_count": 22,
     "metadata": {},
     "output_type": "execute_result"
    }
   ],
   "source": [
    "results['rank_test_score']"
   ]
  },
  {
   "cell_type": "markdown",
   "metadata": {},
   "source": [
    "## 3.  Randomized Search\n",
    "\n",
    "#### Step 1, Distributions\n",
    "In order to do randomized search we need to draw from a distribution.  This can be a bit confusing so I will first just plot some distributions for you, then it will be pretty clear which ones we want to draw from.\n",
    "\n",
    "For decision trees most of the parameters we want to try out are integers. `min_samples_split`, `max_depth`, etc they are all integer numbers. So I will focus on distributions which draw integers"
   ]
  },
  {
   "cell_type": "code",
   "execution_count": 25,
   "metadata": {},
   "outputs": [],
   "source": [
    "import scipy"
   ]
  },
  {
   "cell_type": "code",
   "execution_count": 26,
   "metadata": {},
   "outputs": [
    {
     "name": "stderr",
     "output_type": "stream",
     "text": [
      "/home/mark/anaconda3/envs/cn_ml_course/lib/python3.9/site-packages/seaborn/distributions.py:2557: FutureWarning: `distplot` is a deprecated function and will be removed in a future version. Please adapt your code to use either `displot` (a figure-level function with similar flexibility) or `histplot` (an axes-level function for histograms).\n",
      "  warnings.warn(msg, FutureWarning)\n"
     ]
    },
    {
     "data": {
      "image/png": "[encoded data removed]",
      "text/plain": [
       "<Figure size 432x288 with 1 Axes>"
      ]
     },
     "metadata": {},
     "output_type": "display_data"
    }
   ],
   "source": [
    "sns.distplot(scipy.stats.norm(5, scale=2).rvs(1000));"
   ]
  },
  {
   "cell_type": "markdown",
   "metadata": {},
   "source": [
    "This is the gaussian or normal distribution.  In fact, we can't use it because it doesn't draw integers-- but I just wanted to show it to you! Well I suppose we could use it and then convert the output to integers."
   ]
  },
  {
   "cell_type": "code",
   "execution_count": 27,
   "metadata": {},
   "outputs": [
    {
     "name": "stderr",
     "output_type": "stream",
     "text": [
      "/home/mark/anaconda3/envs/cn_ml_course/lib/python3.9/site-packages/seaborn/distributions.py:2557: FutureWarning: `distplot` is a deprecated function and will be removed in a future version. Please adapt your code to use either `displot` (a figure-level function with similar flexibility) or `histplot` (an axes-level function for histograms).\n",
      "  warnings.warn(msg, FutureWarning)\n"
     ]
    },
    {
     "data": {
      "image/png": "[encoded data removed]",
      "text/plain": [
       "<Figure size 432x288 with 1 Axes>"
      ]
     },
     "metadata": {},
     "output_type": "display_data"
    }
   ],
   "source": [
    "numbers = scipy.stats.norm(5, scale=2).rvs(1000)\n",
    "sns.distplot(numbers.astype(int)); "
   ]
  },
  {
   "cell_type": "markdown",
   "metadata": {},
   "source": [
    "So we can use the gaussian and convert to integers, or we can draw from a uniform random distribution. That's plotted below. It basically says \"pick a random number! Any random number!\""
   ]
  },
  {
   "cell_type": "code",
   "execution_count": 28,
   "metadata": {},
   "outputs": [
    {
     "name": "stderr",
     "output_type": "stream",
     "text": [
      "/home/mark/anaconda3/envs/cn_ml_course/lib/python3.9/site-packages/seaborn/distributions.py:2557: FutureWarning: `distplot` is a deprecated function and will be removed in a future version. Please adapt your code to use either `displot` (a figure-level function with similar flexibility) or `histplot` (an axes-level function for histograms).\n",
      "  warnings.warn(msg, FutureWarning)\n"
     ]
    },
    {
     "data": {
      "image/png": "[encoded data removed]",
      "text/plain": [
       "<Figure size 432x288 with 1 Axes>"
      ]
     },
     "metadata": {},
     "output_type": "display_data"
    }
   ],
   "source": [
    "sns.distplot(scipy.stats.randint(0,50).rvs(1000));"
   ]
  },
  {
   "cell_type": "markdown",
   "metadata": {},
   "source": [
    "So we need to choose a distribution for our grid-search. Based on what area we want to search we can choose uniform or int-converted gaussian. If we choose guassian we can \"target\" it by adjusting the mean and std, similarly we can set the range on the uniform distribution (the low and high ends).  You can decide what you want for your distribution. I will give you on example of how to setup the paramter grid for randomized search below."
   ]
  },
  {
   "cell_type": "code",
   "execution_count": 30,
   "metadata": {},
   "outputs": [],
   "source": [
    "rand_params = [{'min_samples_split': scipy.stats.randint(2,20)}, {'min_samples_leaf': scipy.stats.randint(2,20)}, {'max_depth': scipy.stats.randint(2,100)}]\n",
    "\n",
    "## note that we don't say \"how many\" samples to draw in the param grid.\n",
    "## We will do that below when we create the RandomizedSearchCV object"
   ]
  },
  {
   "cell_type": "markdown",
   "metadata": {},
   "source": [
    "Note that we don't say \"how many\" samples to draw in the param grid. We will do that below when we create the RandomizedSearchCV object. You need to set the following\n",
    "* estimator\n",
    "* params\n",
    "* n_iters (this decides how many times to sample from the distribution per setting)\n",
    "* scoring\n",
    "* cv"
   ]
  },
  {
   "cell_type": "code",
   "execution_count": 31,
   "metadata": {},
   "outputs": [],
   "source": [
    "rand_search = RandomizedSearchCV(clf, rand_params, n_jobs = -1, n_iter = 10, scoring = 'f1', cv = ss_split)"
   ]
  },
  {
   "cell_type": "code",
   "execution_count": 32,
   "metadata": {},
   "outputs": [
    {
     "data": {
      "text/plain": [
       "RandomizedSearchCV(cv=StratifiedShuffleSplit(n_splits=25, random_state=None, test_size=0.25,\n",
       "            train_size=None),\n",
       "                   estimator=DecisionTreeClassifier(), n_jobs=-1,\n",
       "                   param_distributions=[{'min_samples_split': <scipy.stats._distn_infrastructure.rv_frozen object at 0x7f269a4ccbe0>},\n",
       "                                        {'min_samples_leaf': <scipy.stats._distn_infrastructure.rv_frozen object at 0x7f26a2cc2fd0>},\n",
       "                                        {'max_depth': <scipy.stats._distn_infrastructure.rv_frozen object at 0x7f269a4cc1f0>}],\n",
       "                   scoring='f1')"
      ]
     },
     "execution_count": 32,
     "metadata": {},
     "output_type": "execute_result"
    }
   ],
   "source": [
    "rand_search.fit(X_train, y_train)"
   ]
  },
  {
   "cell_type": "code",
   "execution_count": 39,
   "metadata": {},
   "outputs": [],
   "source": [
    "rand_search_results = pd.DataFrame(rand_search.cv_results_)"
   ]
  },
  {
   "cell_type": "code",
   "execution_count": 43,
   "metadata": {
    "tags": []
   },
   "outputs": [
    {
     "data": {
      "text/html": [
       "<div>\n",
       "<style scoped>\n",
       "    .dataframe tbody tr th:only-of-type {\n",
       "        vertical-align: middle;\n",
       "    }\n",
       "\n",
       "    .dataframe tbody tr th {\n",
       "        vertical-align: top;\n",
       "    }\n",
       "\n",
       "    .dataframe thead th {\n",
       "        text-align: right;\n",
       "    }\n",
       "</style>\n",
       "<table border=\"1\" class=\"dataframe\">\n",
       "  <thead>\n",
       "    <tr style=\"text-align: right;\">\n",
       "      <th></th>\n",
       "      <th>mean_fit_time</th>\n",
       "      <th>std_fit_time</th>\n",
       "      <th>mean_score_time</th>\n",
       "      <th>std_score_time</th>\n",
       "      <th>param_min_samples_split</th>\n",
       "      <th>param_max_depth</th>\n",
       "      <th>param_min_samples_leaf</th>\n",
       "      <th>params</th>\n",
       "      <th>split0_test_score</th>\n",
       "      <th>split1_test_score</th>\n",
       "      <th>...</th>\n",
       "      <th>split18_test_score</th>\n",
       "      <th>split19_test_score</th>\n",
       "      <th>split20_test_score</th>\n",
       "      <th>split21_test_score</th>\n",
       "      <th>split22_test_score</th>\n",
       "      <th>split23_test_score</th>\n",
       "      <th>split24_test_score</th>\n",
       "      <th>mean_test_score</th>\n",
       "      <th>std_test_score</th>\n",
       "      <th>rank_test_score</th>\n",
       "    </tr>\n",
       "  </thead>\n",
       "  <tbody>\n",
       "    <tr>\n",
       "      <th>0</th>\n",
       "      <td>0.061012</td>\n",
       "      <td>0.005091</td>\n",
       "      <td>0.004623</td>\n",
       "      <td>0.000572</td>\n",
       "      <td>6</td>\n",
       "      <td>NaN</td>\n",
       "      <td>NaN</td>\n",
       "      <td>{'min_samples_split': 6}</td>\n",
       "      <td>0.912088</td>\n",
       "      <td>0.854795</td>\n",
       "      <td>...</td>\n",
       "      <td>0.887344</td>\n",
       "      <td>0.898752</td>\n",
       "      <td>0.875872</td>\n",
       "      <td>0.873082</td>\n",
       "      <td>0.888587</td>\n",
       "      <td>0.884240</td>\n",
       "      <td>0.887363</td>\n",
       "      <td>0.883635</td>\n",
       "      <td>0.015012</td>\n",
       "      <td>4</td>\n",
       "    </tr>\n",
       "    <tr>\n",
       "      <th>1</th>\n",
       "      <td>0.057970</td>\n",
       "      <td>0.004275</td>\n",
       "      <td>0.004075</td>\n",
       "      <td>0.000381</td>\n",
       "      <td>NaN</td>\n",
       "      <td>81</td>\n",
       "      <td>NaN</td>\n",
       "      <td>{'max_depth': 81}</td>\n",
       "      <td>0.903401</td>\n",
       "      <td>0.848980</td>\n",
       "      <td>...</td>\n",
       "      <td>0.889807</td>\n",
       "      <td>0.887075</td>\n",
       "      <td>0.882108</td>\n",
       "      <td>0.871233</td>\n",
       "      <td>0.889193</td>\n",
       "      <td>0.896266</td>\n",
       "      <td>0.891632</td>\n",
       "      <td>0.882590</td>\n",
       "      <td>0.014047</td>\n",
       "      <td>7</td>\n",
       "    </tr>\n",
       "    <tr>\n",
       "      <th>2</th>\n",
       "      <td>0.037296</td>\n",
       "      <td>0.003083</td>\n",
       "      <td>0.003881</td>\n",
       "      <td>0.000445</td>\n",
       "      <td>NaN</td>\n",
       "      <td>NaN</td>\n",
       "      <td>12</td>\n",
       "      <td>{'min_samples_leaf': 12}</td>\n",
       "      <td>0.889819</td>\n",
       "      <td>0.860274</td>\n",
       "      <td>...</td>\n",
       "      <td>0.878661</td>\n",
       "      <td>0.889197</td>\n",
       "      <td>0.866760</td>\n",
       "      <td>0.891061</td>\n",
       "      <td>0.900552</td>\n",
       "      <td>0.883978</td>\n",
       "      <td>0.878187</td>\n",
       "      <td>0.877220</td>\n",
       "      <td>0.012915</td>\n",
       "      <td>9</td>\n",
       "    </tr>\n",
       "    <tr>\n",
       "      <th>3</th>\n",
       "      <td>0.036959</td>\n",
       "      <td>0.003063</td>\n",
       "      <td>0.004113</td>\n",
       "      <td>0.000349</td>\n",
       "      <td>NaN</td>\n",
       "      <td>NaN</td>\n",
       "      <td>14</td>\n",
       "      <td>{'min_samples_leaf': 14}</td>\n",
       "      <td>0.887967</td>\n",
       "      <td>0.845417</td>\n",
       "      <td>...</td>\n",
       "      <td>0.878873</td>\n",
       "      <td>0.875706</td>\n",
       "      <td>0.862691</td>\n",
       "      <td>0.883333</td>\n",
       "      <td>0.878661</td>\n",
       "      <td>0.883853</td>\n",
       "      <td>0.862857</td>\n",
       "      <td>0.870500</td>\n",
       "      <td>0.012926</td>\n",
       "      <td>10</td>\n",
       "    </tr>\n",
       "    <tr>\n",
       "      <th>4</th>\n",
       "      <td>0.057355</td>\n",
       "      <td>0.004290</td>\n",
       "      <td>0.004096</td>\n",
       "      <td>0.000361</td>\n",
       "      <td>NaN</td>\n",
       "      <td>26</td>\n",
       "      <td>NaN</td>\n",
       "      <td>{'max_depth': 26}</td>\n",
       "      <td>0.900000</td>\n",
       "      <td>0.861035</td>\n",
       "      <td>...</td>\n",
       "      <td>0.883333</td>\n",
       "      <td>0.888583</td>\n",
       "      <td>0.874652</td>\n",
       "      <td>0.886427</td>\n",
       "      <td>0.891275</td>\n",
       "      <td>0.885201</td>\n",
       "      <td>0.891632</td>\n",
       "      <td>0.883934</td>\n",
       "      <td>0.011571</td>\n",
       "      <td>3</td>\n",
       "    </tr>\n",
       "    <tr>\n",
       "      <th>5</th>\n",
       "      <td>0.038591</td>\n",
       "      <td>0.001312</td>\n",
       "      <td>0.004225</td>\n",
       "      <td>0.000417</td>\n",
       "      <td>NaN</td>\n",
       "      <td>10</td>\n",
       "      <td>NaN</td>\n",
       "      <td>{'max_depth': 10}</td>\n",
       "      <td>0.909859</td>\n",
       "      <td>0.859527</td>\n",
       "      <td>...</td>\n",
       "      <td>0.885387</td>\n",
       "      <td>0.900000</td>\n",
       "      <td>0.898716</td>\n",
       "      <td>0.889518</td>\n",
       "      <td>0.896747</td>\n",
       "      <td>0.905767</td>\n",
       "      <td>0.887029</td>\n",
       "      <td>0.891084</td>\n",
       "      <td>0.011768</td>\n",
       "      <td>1</td>\n",
       "    </tr>\n",
       "    <tr>\n",
       "      <th>6</th>\n",
       "      <td>0.057274</td>\n",
       "      <td>0.003755</td>\n",
       "      <td>0.003964</td>\n",
       "      <td>0.000183</td>\n",
       "      <td>NaN</td>\n",
       "      <td>87</td>\n",
       "      <td>NaN</td>\n",
       "      <td>{'max_depth': 87}</td>\n",
       "      <td>0.900680</td>\n",
       "      <td>0.856361</td>\n",
       "      <td>...</td>\n",
       "      <td>0.887671</td>\n",
       "      <td>0.884980</td>\n",
       "      <td>0.870166</td>\n",
       "      <td>0.885832</td>\n",
       "      <td>0.892183</td>\n",
       "      <td>0.892857</td>\n",
       "      <td>0.900137</td>\n",
       "      <td>0.883493</td>\n",
       "      <td>0.013880</td>\n",
       "      <td>5</td>\n",
       "    </tr>\n",
       "    <tr>\n",
       "      <th>7</th>\n",
       "      <td>0.057552</td>\n",
       "      <td>0.003641</td>\n",
       "      <td>0.004102</td>\n",
       "      <td>0.000227</td>\n",
       "      <td>3</td>\n",
       "      <td>NaN</td>\n",
       "      <td>NaN</td>\n",
       "      <td>{'min_samples_split': 3}</td>\n",
       "      <td>0.907609</td>\n",
       "      <td>0.853261</td>\n",
       "      <td>...</td>\n",
       "      <td>0.891334</td>\n",
       "      <td>0.891632</td>\n",
       "      <td>0.881780</td>\n",
       "      <td>0.876560</td>\n",
       "      <td>0.894309</td>\n",
       "      <td>0.887052</td>\n",
       "      <td>0.887029</td>\n",
       "      <td>0.882806</td>\n",
       "      <td>0.014287</td>\n",
       "      <td>6</td>\n",
       "    </tr>\n",
       "    <tr>\n",
       "      <th>8</th>\n",
       "      <td>0.053436</td>\n",
       "      <td>0.004195</td>\n",
       "      <td>0.004109</td>\n",
       "      <td>0.000439</td>\n",
       "      <td>NaN</td>\n",
       "      <td>NaN</td>\n",
       "      <td>2</td>\n",
       "      <td>{'min_samples_leaf': 2}</td>\n",
       "      <td>0.899863</td>\n",
       "      <td>0.842541</td>\n",
       "      <td>...</td>\n",
       "      <td>0.872310</td>\n",
       "      <td>0.895775</td>\n",
       "      <td>0.878531</td>\n",
       "      <td>0.881020</td>\n",
       "      <td>0.907586</td>\n",
       "      <td>0.884181</td>\n",
       "      <td>0.871148</td>\n",
       "      <td>0.878449</td>\n",
       "      <td>0.013571</td>\n",
       "      <td>8</td>\n",
       "    </tr>\n",
       "    <tr>\n",
       "      <th>9</th>\n",
       "      <td>0.053836</td>\n",
       "      <td>0.006237</td>\n",
       "      <td>0.003476</td>\n",
       "      <td>0.000651</td>\n",
       "      <td>15</td>\n",
       "      <td>NaN</td>\n",
       "      <td>NaN</td>\n",
       "      <td>{'min_samples_split': 15}</td>\n",
       "      <td>0.896739</td>\n",
       "      <td>0.854396</td>\n",
       "      <td>...</td>\n",
       "      <td>0.888268</td>\n",
       "      <td>0.891365</td>\n",
       "      <td>0.890125</td>\n",
       "      <td>0.886076</td>\n",
       "      <td>0.888583</td>\n",
       "      <td>0.893258</td>\n",
       "      <td>0.881935</td>\n",
       "      <td>0.887723</td>\n",
       "      <td>0.012788</td>\n",
       "      <td>2</td>\n",
       "    </tr>\n",
       "  </tbody>\n",
       "</table>\n",
       "<p>10 rows × 36 columns</p>\n",
       "</div>"
      ],
      "text/plain": [
       "   mean_fit_time  std_fit_time  mean_score_time  std_score_time  \\\n",
       "0       0.061012      0.005091         0.004623        0.000572   \n",
       "1       0.057970      0.004275         0.004075        0.000381   \n",
       "2       0.037296      0.003083         0.003881        0.000445   \n",
       "3       0.036959      0.003063         0.004113        0.000349   \n",
       "4       0.057355      0.004290         0.004096        0.000361   \n",
       "5       0.038591      0.001312         0.004225        0.000417   \n",
       "6       0.057274      0.003755         0.003964        0.000183   \n",
       "7       0.057552      0.003641         0.004102        0.000227   \n",
       "8       0.053436      0.004195         0.004109        0.000439   \n",
       "9       0.053836      0.006237         0.003476        0.000651   \n",
       "\n",
       "  param_min_samples_split param_max_depth param_min_samples_leaf  \\\n",
       "0                       6             NaN                    NaN   \n",
       "1                     NaN              81                    NaN   \n",
       "2                     NaN             NaN                     12   \n",
       "3                     NaN             NaN                     14   \n",
       "4                     NaN              26                    NaN   \n",
       "5                     NaN              10                    NaN   \n",
       "6                     NaN              87                    NaN   \n",
       "7                       3             NaN                    NaN   \n",
       "8                     NaN             NaN                      2   \n",
       "9                      15             NaN                    NaN   \n",
       "\n",
       "                      params  split0_test_score  split1_test_score  ...  \\\n",
       "0   {'min_samples_split': 6}           0.912088           0.854795  ...   \n",
       "1          {'max_depth': 81}           0.903401           0.848980  ...   \n",
       "2   {'min_samples_leaf': 12}           0.889819           0.860274  ...   \n",
       "3   {'min_samples_leaf': 14}           0.887967           0.845417  ...   \n",
       "4          {'max_depth': 26}           0.900000           0.861035  ...   \n",
       "5          {'max_depth': 10}           0.909859           0.859527  ...   \n",
       "6          {'max_depth': 87}           0.900680           0.856361  ...   \n",
       "7   {'min_samples_split': 3}           0.907609           0.853261  ...   \n",
       "8    {'min_samples_leaf': 2}           0.899863           0.842541  ...   \n",
       "9  {'min_samples_split': 15}           0.896739           0.854396  ...   \n",
       "\n",
       "   split18_test_score  split19_test_score  split20_test_score  \\\n",
       "0            0.887344            0.898752            0.875872   \n",
       "1            0.889807            0.887075            0.882108   \n",
       "2            0.878661            0.889197            0.866760   \n",
       "3            0.878873            0.875706            0.862691   \n",
       "4            0.883333            0.888583            0.874652   \n",
       "5            0.885387            0.900000            0.898716   \n",
       "6            0.887671            0.884980            0.870166   \n",
       "7            0.891334            0.891632            0.881780   \n",
       "8            0.872310            0.895775            0.878531   \n",
       "9            0.888268            0.891365            0.890125   \n",
       "\n",
       "   split21_test_score  split22_test_score  split23_test_score  \\\n",
       "0            0.873082            0.888587            0.884240   \n",
       "1            0.871233            0.889193            0.896266   \n",
       "2            0.891061            0.900552            0.883978   \n",
       "3            0.883333            0.878661            0.883853   \n",
       "4            0.886427            0.891275            0.885201   \n",
       "5            0.889518            0.896747            0.905767   \n",
       "6            0.885832            0.892183            0.892857   \n",
       "7            0.876560            0.894309            0.887052   \n",
       "8            0.881020            0.907586            0.884181   \n",
       "9            0.886076            0.888583            0.893258   \n",
       "\n",
       "   split24_test_score  mean_test_score  std_test_score  rank_test_score  \n",
       "0            0.887363         0.883635        0.015012                4  \n",
       "1            0.891632         0.882590        0.014047                7  \n",
       "2            0.878187         0.877220        0.012915                9  \n",
       "3            0.862857         0.870500        0.012926               10  \n",
       "4            0.891632         0.883934        0.011571                3  \n",
       "5            0.887029         0.891084        0.011768                1  \n",
       "6            0.900137         0.883493        0.013880                5  \n",
       "7            0.887029         0.882806        0.014287                6  \n",
       "8            0.871148         0.878449        0.013571                8  \n",
       "9            0.881935         0.887723        0.012788                2  \n",
       "\n",
       "[10 rows x 36 columns]"
      ]
     },
     "execution_count": 43,
     "metadata": {},
     "output_type": "execute_result"
    }
   ],
   "source": [
    "rand_search_results.head(10)"
   ]
  },
  {
   "cell_type": "code",
   "execution_count": 41,
   "metadata": {},
   "outputs": [
    {
     "data": {
      "text/plain": [
       "0     4\n",
       "1     7\n",
       "2     9\n",
       "3    10\n",
       "4     3\n",
       "5     1\n",
       "6     5\n",
       "7     6\n",
       "8     8\n",
       "9     2\n",
       "Name: rank_test_score, dtype: int32"
      ]
     },
     "execution_count": 41,
     "metadata": {},
     "output_type": "execute_result"
    }
   ],
   "source": [
    "rand_search_results['rank_test_score']"
   ]
  },
  {
   "cell_type": "code",
   "execution_count": 42,
   "metadata": {},
   "outputs": [
    {
     "data": {
      "text/plain": [
       "(9, 36)"
      ]
     },
     "execution_count": 42,
     "metadata": {},
     "output_type": "execute_result"
    }
   ],
   "source": [
    "results.shape"
   ]
  },
  {
   "cell_type": "code",
   "execution_count": 33,
   "metadata": {},
   "outputs": [
    {
     "data": {
      "text/plain": [
       "{'max_depth': 10}"
      ]
     },
     "execution_count": 33,
     "metadata": {},
     "output_type": "execute_result"
    }
   ],
   "source": [
    "rand_search.best_params_"
   ]
  },
  {
   "cell_type": "code",
   "execution_count": 34,
   "metadata": {},
   "outputs": [
    {
     "data": {
      "text/plain": [
       "0.8910844770622721"
      ]
     },
     "execution_count": 34,
     "metadata": {},
     "output_type": "execute_result"
    }
   ],
   "source": [
    "rand_search.best_score_"
   ]
  },
  {
   "cell_type": "code",
   "execution_count": 35,
   "metadata": {
    "tags": []
   },
   "outputs": [
    {
     "data": {
      "text/plain": [
       "DecisionTreeClassifier(max_depth=10)"
      ]
     },
     "execution_count": 35,
     "metadata": {},
     "output_type": "execute_result"
    }
   ],
   "source": [
    "rand_search.best_estimator_"
   ]
  },
  {
   "cell_type": "markdown",
   "metadata": {},
   "source": [
    "### Did you find different best parameters?\n",
    "Which method do you like more?\n",
    "What method do you think got better results?\n",
    "Why? Why not?\n",
    "\n"
   ]
  },
  {
   "cell_type": "markdown",
   "metadata": {},
   "source": [
    "### You answers here"
   ]
  },
  {
   "cell_type": "code",
   "execution_count": null,
   "metadata": {},
   "outputs": [],
   "source": []
  },
  {
   "cell_type": "code",
   "execution_count": null,
   "metadata": {},
   "outputs": [],
   "source": []
  },
  {
   "cell_type": "code",
   "execution_count": null,
   "metadata": {},
   "outputs": [],
   "source": []
  },
  {
   "cell_type": "markdown",
   "metadata": {},
   "source": [
    "## 4. Validate your classifier using\n",
    "\n",
    "1. Learning Curve\n",
    "2. Validation Curves (complexity graph)\n",
    "\n",
    "Please plot at least 3 different validation curves for 3 different hyper-parameters than you can tune.\n",
    "\n",
    "You can (and should) use the imported functions `plot_validation_curve` and `plot_learning_curve`. These functions are originally found on sklearn's site but I did modify them slightly for our use. You can check out the full code in plotting.py, which also contains links to the original source code."
   ]
  },
  {
   "cell_type": "code",
   "execution_count": null,
   "metadata": {},
   "outputs": [],
   "source": []
  },
  {
   "cell_type": "code",
   "execution_count": null,
   "metadata": {},
   "outputs": [],
   "source": []
  },
  {
   "cell_type": "code",
   "execution_count": null,
   "metadata": {},
   "outputs": [],
   "source": []
  },
  {
   "cell_type": "markdown",
   "metadata": {},
   "source": [
    "## 5. Choose your best parameters:\n",
    "\n",
    "Keep in mind that the random-search and grid-search will always maximize the validation score, even if it's in the area of overfitting. Looking at the validation curves you created, what you do think are the best parameter values?\n",
    "\n",
    "Now create a tree model with this and fit it."
   ]
  },
  {
   "cell_type": "code",
   "execution_count": null,
   "metadata": {},
   "outputs": [],
   "source": []
  },
  {
   "cell_type": "code",
   "execution_count": null,
   "metadata": {},
   "outputs": [],
   "source": []
  },
  {
   "cell_type": "code",
   "execution_count": null,
   "metadata": {},
   "outputs": [],
   "source": []
  },
  {
   "cell_type": "markdown",
   "metadata": {},
   "source": [
    "## 6. Looking at Feature Importances\n",
    "\n",
    "Decision trees have a nice property that they can automatically sort your features by importance. This just naturally falls out from the gini coefficient or the information gain ratio (whichever one you used).  Therefore we can run a little code and actually see which features our model found to be the most important.\n",
    "\n",
    "\n",
    "The code from Chris Albon below will help you do this, go ahead and run it."
   ]
  },
  {
   "cell_type": "code",
   "execution_count": null,
   "metadata": {},
   "outputs": [],
   "source": [
    "## https://chrisalbon.com/machine_learning/trees_and_forests/feature_importance/\n",
    "\n",
    "importances = my_fav_clf.feature_importances_\n",
    "\n",
    "indices = np.argsort(importances)[::-1]\n",
    "\n",
    "# rearrange feature names so they match the sorted feature names\n",
    "# I have my original names list of feature names, which corresponds to the features in the tree.\n",
    "f_names = [names[i] for i in indices]\n",
    "\n",
    "#create my plot\n",
    "fig, axes = plt.subplots(figsize=(20,5))\n",
    "axes.set_title(\"Feature Importances\")\n",
    "axes.bar(range(X_train.shape[1]), importances[indices])\n",
    "\n",
    "# Add feature names as x-axis labels\n",
    "axes.set_xticks(range(X.shape[1]));\n",
    "axes.set_xticklabels(f_names, rotation=45, ha='right');\n"
   ]
  },
  {
   "cell_type": "markdown",
   "metadata": {},
   "source": [
    "What is the most important feature that your model found? Does this surprise you, why or why not?\n",
    "\n",
    "#### Your Answers:"
   ]
  },
  {
   "cell_type": "code",
   "execution_count": null,
   "metadata": {},
   "outputs": [],
   "source": []
  },
  {
   "cell_type": "code",
   "execution_count": null,
   "metadata": {},
   "outputs": [],
   "source": []
  },
  {
   "cell_type": "markdown",
   "metadata": {},
   "source": [
    "## 6. Test your data.\n",
    "\n",
    "Retrain your model using all the training data and using the hyper parameters you think are best. \n",
    "Then go ahead and test your model with the test data. Evaluate your model by testing on the test set. How did you do? What is your performance?\n",
    "\n",
    "As always, ask yourself the question \"If I was doing this professionally for a company, what other questions would I want answered?\" Is this model ready to go??\n"
   ]
  },
  {
   "cell_type": "code",
   "execution_count": null,
   "metadata": {},
   "outputs": [],
   "source": []
  },
  {
   "cell_type": "code",
   "execution_count": null,
   "metadata": {},
   "outputs": [],
   "source": []
  },
  {
   "cell_type": "code",
   "execution_count": null,
   "metadata": {},
   "outputs": [],
   "source": []
  },
  {
   "cell_type": "code",
   "execution_count": null,
   "metadata": {},
   "outputs": [],
   "source": []
  }
 ],
 "metadata": {
  "kernelspec": {
   "display_name": "Python 3",
   "language": "python",
   "name": "python3"
  },
  "language_info": {
   "codemirror_mode": {
    "name": "ipython",
    "version": 3
   },
   "file_extension": ".py",
   "mimetype": "text/x-python",
   "name": "python",
   "nbconvert_exporter": "python",
   "pygments_lexer": "ipython3",
   "version": "3.9.5"
  }
 },
 "nbformat": 4,
 "nbformat_minor": 4
}
