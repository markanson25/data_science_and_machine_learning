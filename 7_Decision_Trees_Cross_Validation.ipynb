{
 "cells": [
  {
   "cell_type": "code",
   "execution_count": 1,
   "metadata": {},
   "outputs": [],
   "source": [
    "import numpy as np\n",
    "import pandas as pd\n",
    "import matplotlib.pyplot as plt\n",
    "import seaborn as sns\n",
    "sns.set()\n",
    "\n",
    "\n",
    "# classifier we will use\n",
    "from sklearn.tree import DecisionTreeClassifier\n",
    "\n",
    "# model selection bits\n",
    "from sklearn.model_selection import GridSearchCV, RandomizedSearchCV, train_test_split\n",
    "from sklearn.model_selection import cross_val_score\n",
    "from sklearn.model_selection import StratifiedShuffleSplit, StratifiedKFold\n",
    "from sklearn.model_selection import learning_curve, validation_curve\n",
    "\n",
    "# evaluation\n",
    "from sklearn.metrics import f1_score\n",
    "\n",
    "# plotting\n",
    "from plotting import plot_learning_curve, plot_validation_curve\n",
    "\n"
   ]
  },
  {
   "cell_type": "markdown",
   "metadata": {},
   "source": [
    "# Detecting Spam with Decision Trees\n",
    "\n",
    "In the last assignment we worked with the spam database. We are going to do the same thing in this assignment and we will practice with the correct tools this time around. "
   ]
  },
  {
   "cell_type": "code",
   "execution_count": 2,
   "metadata": {},
   "outputs": [],
   "source": [
    "## we are going to hardcode the column names, because this just makes it a little easier to use pandas.\n",
    "\n",
    "names = ['word_freq_make:        ',\n",
    "'word_freq_address:     ',\n",
    "'word_freq_all:         ',\n",
    "'word_freq_3d:          ',\n",
    "'word_freq_our:         ',\n",
    "'word_freq_over:        ',\n",
    "'word_freq_remove:      ',\n",
    "'word_freq_internet:    ',\n",
    "'word_freq_order:       ',\n",
    "'word_freq_mail:        ',\n",
    "'word_freq_receive:     ',\n",
    "'word_freq_will:        ',\n",
    "'word_freq_people:      ',\n",
    "'word_freq_report:      ',\n",
    "'word_freq_addresses:   ',\n",
    "'word_freq_free:        ',\n",
    "'word_freq_business:    ',\n",
    "'word_freq_email:       ',\n",
    "'word_freq_you:         ',\n",
    "'word_freq_credit:      ',\n",
    "'word_freq_your:        ',\n",
    "'word_freq_font:        ',\n",
    "'word_freq_000:         ',\n",
    "'word_freq_money:       ',\n",
    "'word_freq_hp:          ',\n",
    "'word_freq_hpl:         ',\n",
    "'word_freq_george:      ',\n",
    "'word_freq_650:         ',\n",
    "'word_freq_lab:         ',\n",
    "'word_freq_labs:        ',\n",
    "'word_freq_telnet:      ',\n",
    "'word_freq_857:         ',\n",
    "'word_freq_data:        ',\n",
    "'word_freq_415:         ',\n",
    "'word_freq_85:          ',\n",
    "'word_freq_technology:  ',\n",
    "'word_freq_1999:        ',\n",
    "'word_freq_parts:       ',\n",
    "'word_freq_pm:          ',\n",
    "'word_freq_direct:      ',\n",
    "'word_freq_cs:          ',\n",
    "'word_freq_meeting:     ',\n",
    "'word_freq_original:    ',\n",
    "'word_freq_project:     ',\n",
    "'word_freq_re:          ',\n",
    "'word_freq_edu:         ',\n",
    "'word_freq_table:       ',\n",
    "'word_freq_conference:  ',\n",
    "'char_freq_;:           ',\n",
    "'char_freq_(:           ',\n",
    "'char_freq_[:           ',\n",
    "'char_freq_!:           ',\n",
    "'char_freq_$:           ',\n",
    "'char_freq_#:           ',\n",
    "'capital_run_length_average',\n",
    "'capital_run_length_longest',\n",
    "'capital_run_length_total: ',\n",
    "'label']\n",
    "          "
   ]
  },
  {
   "cell_type": "code",
   "execution_count": 3,
   "metadata": {},
   "outputs": [
    {
     "data": {
      "text/html": [
       "<div>\n",
       "<style scoped>\n",
       "    .dataframe tbody tr th:only-of-type {\n",
       "        vertical-align: middle;\n",
       "    }\n",
       "\n",
       "    .dataframe tbody tr th {\n",
       "        vertical-align: top;\n",
       "    }\n",
       "\n",
       "    .dataframe thead th {\n",
       "        text-align: right;\n",
       "    }\n",
       "</style>\n",
       "<table border=\"1\" class=\"dataframe\">\n",
       "  <thead>\n",
       "    <tr style=\"text-align: right;\">\n",
       "      <th></th>\n",
       "      <th>word_freq_make:</th>\n",
       "      <th>word_freq_address:</th>\n",
       "      <th>word_freq_all:</th>\n",
       "      <th>word_freq_3d:</th>\n",
       "      <th>word_freq_our:</th>\n",
       "      <th>word_freq_over:</th>\n",
       "      <th>word_freq_remove:</th>\n",
       "      <th>word_freq_internet:</th>\n",
       "      <th>word_freq_order:</th>\n",
       "      <th>word_freq_mail:</th>\n",
       "      <th>...</th>\n",
       "      <th>char_freq_;:</th>\n",
       "      <th>char_freq_(:</th>\n",
       "      <th>char_freq_[:</th>\n",
       "      <th>char_freq_!:</th>\n",
       "      <th>char_freq_$:</th>\n",
       "      <th>char_freq_#:</th>\n",
       "      <th>capital_run_length_average</th>\n",
       "      <th>capital_run_length_longest</th>\n",
       "      <th>capital_run_length_total:</th>\n",
       "      <th>label</th>\n",
       "    </tr>\n",
       "  </thead>\n",
       "  <tbody>\n",
       "    <tr>\n",
       "      <th>0</th>\n",
       "      <td>0.00</td>\n",
       "      <td>0.64</td>\n",
       "      <td>0.64</td>\n",
       "      <td>0.0</td>\n",
       "      <td>0.32</td>\n",
       "      <td>0.00</td>\n",
       "      <td>0.00</td>\n",
       "      <td>0.00</td>\n",
       "      <td>0.00</td>\n",
       "      <td>0.00</td>\n",
       "      <td>...</td>\n",
       "      <td>0.00</td>\n",
       "      <td>0.000</td>\n",
       "      <td>0.0</td>\n",
       "      <td>0.778</td>\n",
       "      <td>0.000</td>\n",
       "      <td>0.000</td>\n",
       "      <td>3.756</td>\n",
       "      <td>61</td>\n",
       "      <td>278</td>\n",
       "      <td>1</td>\n",
       "    </tr>\n",
       "    <tr>\n",
       "      <th>1</th>\n",
       "      <td>0.21</td>\n",
       "      <td>0.28</td>\n",
       "      <td>0.50</td>\n",
       "      <td>0.0</td>\n",
       "      <td>0.14</td>\n",
       "      <td>0.28</td>\n",
       "      <td>0.21</td>\n",
       "      <td>0.07</td>\n",
       "      <td>0.00</td>\n",
       "      <td>0.94</td>\n",
       "      <td>...</td>\n",
       "      <td>0.00</td>\n",
       "      <td>0.132</td>\n",
       "      <td>0.0</td>\n",
       "      <td>0.372</td>\n",
       "      <td>0.180</td>\n",
       "      <td>0.048</td>\n",
       "      <td>5.114</td>\n",
       "      <td>101</td>\n",
       "      <td>1028</td>\n",
       "      <td>1</td>\n",
       "    </tr>\n",
       "    <tr>\n",
       "      <th>2</th>\n",
       "      <td>0.06</td>\n",
       "      <td>0.00</td>\n",
       "      <td>0.71</td>\n",
       "      <td>0.0</td>\n",
       "      <td>1.23</td>\n",
       "      <td>0.19</td>\n",
       "      <td>0.19</td>\n",
       "      <td>0.12</td>\n",
       "      <td>0.64</td>\n",
       "      <td>0.25</td>\n",
       "      <td>...</td>\n",
       "      <td>0.01</td>\n",
       "      <td>0.143</td>\n",
       "      <td>0.0</td>\n",
       "      <td>0.276</td>\n",
       "      <td>0.184</td>\n",
       "      <td>0.010</td>\n",
       "      <td>9.821</td>\n",
       "      <td>485</td>\n",
       "      <td>2259</td>\n",
       "      <td>1</td>\n",
       "    </tr>\n",
       "    <tr>\n",
       "      <th>3</th>\n",
       "      <td>0.00</td>\n",
       "      <td>0.00</td>\n",
       "      <td>0.00</td>\n",
       "      <td>0.0</td>\n",
       "      <td>0.63</td>\n",
       "      <td>0.00</td>\n",
       "      <td>0.31</td>\n",
       "      <td>0.63</td>\n",
       "      <td>0.31</td>\n",
       "      <td>0.63</td>\n",
       "      <td>...</td>\n",
       "      <td>0.00</td>\n",
       "      <td>0.137</td>\n",
       "      <td>0.0</td>\n",
       "      <td>0.137</td>\n",
       "      <td>0.000</td>\n",
       "      <td>0.000</td>\n",
       "      <td>3.537</td>\n",
       "      <td>40</td>\n",
       "      <td>191</td>\n",
       "      <td>1</td>\n",
       "    </tr>\n",
       "    <tr>\n",
       "      <th>4</th>\n",
       "      <td>0.00</td>\n",
       "      <td>0.00</td>\n",
       "      <td>0.00</td>\n",
       "      <td>0.0</td>\n",
       "      <td>0.63</td>\n",
       "      <td>0.00</td>\n",
       "      <td>0.31</td>\n",
       "      <td>0.63</td>\n",
       "      <td>0.31</td>\n",
       "      <td>0.63</td>\n",
       "      <td>...</td>\n",
       "      <td>0.00</td>\n",
       "      <td>0.135</td>\n",
       "      <td>0.0</td>\n",
       "      <td>0.135</td>\n",
       "      <td>0.000</td>\n",
       "      <td>0.000</td>\n",
       "      <td>3.537</td>\n",
       "      <td>40</td>\n",
       "      <td>191</td>\n",
       "      <td>1</td>\n",
       "    </tr>\n",
       "    <tr>\n",
       "      <th>5</th>\n",
       "      <td>0.00</td>\n",
       "      <td>0.00</td>\n",
       "      <td>0.00</td>\n",
       "      <td>0.0</td>\n",
       "      <td>1.85</td>\n",
       "      <td>0.00</td>\n",
       "      <td>0.00</td>\n",
       "      <td>1.85</td>\n",
       "      <td>0.00</td>\n",
       "      <td>0.00</td>\n",
       "      <td>...</td>\n",
       "      <td>0.00</td>\n",
       "      <td>0.223</td>\n",
       "      <td>0.0</td>\n",
       "      <td>0.000</td>\n",
       "      <td>0.000</td>\n",
       "      <td>0.000</td>\n",
       "      <td>3.000</td>\n",
       "      <td>15</td>\n",
       "      <td>54</td>\n",
       "      <td>1</td>\n",
       "    </tr>\n",
       "    <tr>\n",
       "      <th>6</th>\n",
       "      <td>0.00</td>\n",
       "      <td>0.00</td>\n",
       "      <td>0.00</td>\n",
       "      <td>0.0</td>\n",
       "      <td>1.92</td>\n",
       "      <td>0.00</td>\n",
       "      <td>0.00</td>\n",
       "      <td>0.00</td>\n",
       "      <td>0.00</td>\n",
       "      <td>0.64</td>\n",
       "      <td>...</td>\n",
       "      <td>0.00</td>\n",
       "      <td>0.054</td>\n",
       "      <td>0.0</td>\n",
       "      <td>0.164</td>\n",
       "      <td>0.054</td>\n",
       "      <td>0.000</td>\n",
       "      <td>1.671</td>\n",
       "      <td>4</td>\n",
       "      <td>112</td>\n",
       "      <td>1</td>\n",
       "    </tr>\n",
       "    <tr>\n",
       "      <th>7</th>\n",
       "      <td>0.00</td>\n",
       "      <td>0.00</td>\n",
       "      <td>0.00</td>\n",
       "      <td>0.0</td>\n",
       "      <td>1.88</td>\n",
       "      <td>0.00</td>\n",
       "      <td>0.00</td>\n",
       "      <td>1.88</td>\n",
       "      <td>0.00</td>\n",
       "      <td>0.00</td>\n",
       "      <td>...</td>\n",
       "      <td>0.00</td>\n",
       "      <td>0.206</td>\n",
       "      <td>0.0</td>\n",
       "      <td>0.000</td>\n",
       "      <td>0.000</td>\n",
       "      <td>0.000</td>\n",
       "      <td>2.450</td>\n",
       "      <td>11</td>\n",
       "      <td>49</td>\n",
       "      <td>1</td>\n",
       "    </tr>\n",
       "    <tr>\n",
       "      <th>8</th>\n",
       "      <td>0.15</td>\n",
       "      <td>0.00</td>\n",
       "      <td>0.46</td>\n",
       "      <td>0.0</td>\n",
       "      <td>0.61</td>\n",
       "      <td>0.00</td>\n",
       "      <td>0.30</td>\n",
       "      <td>0.00</td>\n",
       "      <td>0.92</td>\n",
       "      <td>0.76</td>\n",
       "      <td>...</td>\n",
       "      <td>0.00</td>\n",
       "      <td>0.271</td>\n",
       "      <td>0.0</td>\n",
       "      <td>0.181</td>\n",
       "      <td>0.203</td>\n",
       "      <td>0.022</td>\n",
       "      <td>9.744</td>\n",
       "      <td>445</td>\n",
       "      <td>1257</td>\n",
       "      <td>1</td>\n",
       "    </tr>\n",
       "    <tr>\n",
       "      <th>9</th>\n",
       "      <td>0.06</td>\n",
       "      <td>0.12</td>\n",
       "      <td>0.77</td>\n",
       "      <td>0.0</td>\n",
       "      <td>0.19</td>\n",
       "      <td>0.32</td>\n",
       "      <td>0.38</td>\n",
       "      <td>0.00</td>\n",
       "      <td>0.06</td>\n",
       "      <td>0.00</td>\n",
       "      <td>...</td>\n",
       "      <td>0.04</td>\n",
       "      <td>0.030</td>\n",
       "      <td>0.0</td>\n",
       "      <td>0.244</td>\n",
       "      <td>0.081</td>\n",
       "      <td>0.000</td>\n",
       "      <td>1.729</td>\n",
       "      <td>43</td>\n",
       "      <td>749</td>\n",
       "      <td>1</td>\n",
       "    </tr>\n",
       "  </tbody>\n",
       "</table>\n",
       "<p>10 rows × 58 columns</p>\n",
       "</div>"
      ],
      "text/plain": [
       "   word_freq_make:          word_freq_address:       word_freq_all:           \\\n",
       "0                     0.00                     0.64                     0.64   \n",
       "1                     0.21                     0.28                     0.50   \n",
       "2                     0.06                     0.00                     0.71   \n",
       "3                     0.00                     0.00                     0.00   \n",
       "4                     0.00                     0.00                     0.00   \n",
       "5                     0.00                     0.00                     0.00   \n",
       "6                     0.00                     0.00                     0.00   \n",
       "7                     0.00                     0.00                     0.00   \n",
       "8                     0.15                     0.00                     0.46   \n",
       "9                     0.06                     0.12                     0.77   \n",
       "\n",
       "   word_freq_3d:            word_freq_our:           word_freq_over:          \\\n",
       "0                      0.0                     0.32                     0.00   \n",
       "1                      0.0                     0.14                     0.28   \n",
       "2                      0.0                     1.23                     0.19   \n",
       "3                      0.0                     0.63                     0.00   \n",
       "4                      0.0                     0.63                     0.00   \n",
       "5                      0.0                     1.85                     0.00   \n",
       "6                      0.0                     1.92                     0.00   \n",
       "7                      0.0                     1.88                     0.00   \n",
       "8                      0.0                     0.61                     0.00   \n",
       "9                      0.0                     0.19                     0.32   \n",
       "\n",
       "   word_freq_remove:        word_freq_internet:      word_freq_order:         \\\n",
       "0                     0.00                     0.00                     0.00   \n",
       "1                     0.21                     0.07                     0.00   \n",
       "2                     0.19                     0.12                     0.64   \n",
       "3                     0.31                     0.63                     0.31   \n",
       "4                     0.31                     0.63                     0.31   \n",
       "5                     0.00                     1.85                     0.00   \n",
       "6                     0.00                     0.00                     0.00   \n",
       "7                     0.00                     1.88                     0.00   \n",
       "8                     0.30                     0.00                     0.92   \n",
       "9                     0.38                     0.00                     0.06   \n",
       "\n",
       "   word_freq_mail:          ...  char_freq_;:             \\\n",
       "0                     0.00  ...                     0.00   \n",
       "1                     0.94  ...                     0.00   \n",
       "2                     0.25  ...                     0.01   \n",
       "3                     0.63  ...                     0.00   \n",
       "4                     0.63  ...                     0.00   \n",
       "5                     0.00  ...                     0.00   \n",
       "6                     0.64  ...                     0.00   \n",
       "7                     0.00  ...                     0.00   \n",
       "8                     0.76  ...                     0.00   \n",
       "9                     0.00  ...                     0.04   \n",
       "\n",
       "   char_freq_(:             char_freq_[:             char_freq_!:             \\\n",
       "0                    0.000                      0.0                    0.778   \n",
       "1                    0.132                      0.0                    0.372   \n",
       "2                    0.143                      0.0                    0.276   \n",
       "3                    0.137                      0.0                    0.137   \n",
       "4                    0.135                      0.0                    0.135   \n",
       "5                    0.223                      0.0                    0.000   \n",
       "6                    0.054                      0.0                    0.164   \n",
       "7                    0.206                      0.0                    0.000   \n",
       "8                    0.271                      0.0                    0.181   \n",
       "9                    0.030                      0.0                    0.244   \n",
       "\n",
       "   char_freq_$:             char_freq_#:             \\\n",
       "0                    0.000                    0.000   \n",
       "1                    0.180                    0.048   \n",
       "2                    0.184                    0.010   \n",
       "3                    0.000                    0.000   \n",
       "4                    0.000                    0.000   \n",
       "5                    0.000                    0.000   \n",
       "6                    0.054                    0.000   \n",
       "7                    0.000                    0.000   \n",
       "8                    0.203                    0.022   \n",
       "9                    0.081                    0.000   \n",
       "\n",
       "   capital_run_length_average  capital_run_length_longest  \\\n",
       "0                       3.756                          61   \n",
       "1                       5.114                         101   \n",
       "2                       9.821                         485   \n",
       "3                       3.537                          40   \n",
       "4                       3.537                          40   \n",
       "5                       3.000                          15   \n",
       "6                       1.671                           4   \n",
       "7                       2.450                          11   \n",
       "8                       9.744                         445   \n",
       "9                       1.729                          43   \n",
       "\n",
       "   capital_run_length_total:   label  \n",
       "0                         278      1  \n",
       "1                        1028      1  \n",
       "2                        2259      1  \n",
       "3                         191      1  \n",
       "4                         191      1  \n",
       "5                          54      1  \n",
       "6                         112      1  \n",
       "7                          49      1  \n",
       "8                        1257      1  \n",
       "9                         749      1  \n",
       "\n",
       "[10 rows x 58 columns]"
      ]
     },
     "execution_count": 3,
     "metadata": {},
     "output_type": "execute_result"
    }
   ],
   "source": [
    "data = pd.read_csv('spambase/spambase.csv', names = names)\n",
    "data.head(10)"
   ]
  },
  {
   "cell_type": "code",
   "execution_count": 4,
   "metadata": {},
   "outputs": [],
   "source": [
    "## Load in the dataset here \n",
    "\n",
    "data = pd.read_csv('spambase/spambase.csv', names = names)\n",
    "X = data.drop('label', axis = 1)\n",
    "y = data.label"
   ]
  },
  {
   "cell_type": "code",
   "execution_count": 5,
   "metadata": {},
   "outputs": [],
   "source": [
    "# this time we will keep a bit more data for training and validation.\n",
    "X_train, X_test, y_train, y_test = train_test_split(X, y, train_size=.8, stratify = y)"
   ]
  },
  {
   "cell_type": "markdown",
   "metadata": {},
   "source": [
    "## 1. Evaluate your classifier using 5 fold cross validation.\n",
    "\n",
    "Do you see any variance in different runs?\n",
    "Why do you think this is happening?\n"
   ]
  },
  {
   "cell_type": "code",
   "execution_count": 6,
   "metadata": {
    "tags": []
   },
   "outputs": [],
   "source": [
    "# create a default decision tree model\n",
    "clf = DecisionTreeClassifier()\n",
    "# clf.fit(X_train, y_train)\n",
    "# train_predictions = dtc.predict(X_train)\n",
    "\n",
    "# create a stratifiedKfold cv object -- we want stratified to keep the class balance across folds\n",
    "cv = StratifiedKFold(n_splits = 5)  # set it for 5 folds\n",
    "\n",
    "# get the scores back using the helper function, make sure to pass a scoring function string - otherwise you default to accuracy\n",
    "scores = cross_val_score(clf, X_train, y_train, scoring = 'f1', cv = cv)"
   ]
  },
  {
   "cell_type": "code",
   "execution_count": 7,
   "metadata": {},
   "outputs": [
    {
     "name": "stdout",
     "output_type": "stream",
     "text": [
      "[0.87       0.88888889 0.87873462 0.8777969  0.88590604]\n"
     ]
    }
   ],
   "source": [
    "print(scores)"
   ]
  },
  {
   "cell_type": "code",
   "execution_count": 8,
   "metadata": {},
   "outputs": [
    {
     "name": "stdout",
     "output_type": "stream",
     "text": [
      "0.880265290638949\n"
     ]
    }
   ],
   "source": [
    "print(scores.mean())"
   ]
  },
  {
   "cell_type": "markdown",
   "metadata": {},
   "source": [
    "### Looking for variance in the runs\n",
    "\n",
    "How much do the runs change over time? Let's run a for-loop and check.  In fact, that's exactly what shuffle split will do for us, so we can just run 100 iterations with 25% held out as validations - this will mimick 5-fold CV in the long run. "
   ]
  },
  {
   "cell_type": "code",
   "execution_count": 9,
   "metadata": {},
   "outputs": [],
   "source": [
    "sss_split = StratifiedShuffleSplit(n_splits = 100, test_size=.25) # fill in the params\n",
    "scores_sss = cross_val_score(clf, X_train, y_train, scoring = 'f1', cv = sss_split)"
   ]
  },
  {
   "cell_type": "code",
   "execution_count": 10,
   "metadata": {},
   "outputs": [
    {
     "name": "stdout",
     "output_type": "stream",
     "text": [
      "[0.89355742 0.87858117 0.87343533 0.90688259 0.88611111 0.85874126\n",
      " 0.89338731 0.8715847  0.89189189 0.87634409 0.88243065 0.88648649\n",
      " 0.8739726  0.88858322 0.86027397 0.87087912 0.88429752 0.87567568\n",
      " 0.86896552 0.88297872 0.88108108 0.87152318 0.87603306 0.8885906\n",
      " 0.89768076 0.86956522 0.86363636 0.86456908 0.8985115  0.87603306\n",
      " 0.88140162 0.88950276 0.86369771 0.88315217 0.88340192 0.8575419\n",
      " 0.88322148 0.86456908 0.86838535 0.88579387 0.88888889 0.86449864\n",
      " 0.88767123 0.87228261 0.87327824 0.86703601 0.88583219 0.87671233\n",
      " 0.8972973  0.8707483  0.87752355 0.88980716 0.89589041 0.88918206\n",
      " 0.87858117 0.89568846 0.89010989 0.88488211 0.87308229 0.89945652\n",
      " 0.89106145 0.88075881 0.87039563 0.89487871 0.86388889 0.86507937\n",
      " 0.87516779 0.9036635  0.87292818 0.88765603 0.89835165 0.89222374\n",
      " 0.89010989 0.87242798 0.8622101  0.85517241 0.88340192 0.88088643\n",
      " 0.87569061 0.88315217 0.87924016 0.88705234 0.88259109 0.88085676\n",
      " 0.88068182 0.86493861 0.86896552 0.86395512 0.86920981 0.86575342\n",
      " 0.85986395 0.89163237 0.87587169 0.87989204 0.86657497 0.87924016\n",
      " 0.88520055 0.86896552 0.86216216 0.875     ]\n"
     ]
    }
   ],
   "source": [
    "# print at your own risk!\n",
    "print (scores_sss)"
   ]
  },
  {
   "cell_type": "code",
   "execution_count": 11,
   "metadata": {},
   "outputs": [
    {
     "data": {
      "text/plain": [
       "0.8789815479487446"
      ]
     },
     "execution_count": 11,
     "metadata": {},
     "output_type": "execute_result"
    }
   ],
   "source": [
    "scores_sss.mean()"
   ]
  },
  {
   "cell_type": "markdown",
   "metadata": {},
   "source": [
    "### Plotting a histogram of the runs\n",
    "\n",
    "So we want to look for variance or variation in the runs. It's not easy to just look at a large list of scores and get any idea, so I will plot a histogram which should show us the distribution of results."
   ]
  },
  {
   "cell_type": "code",
   "execution_count": 12,
   "metadata": {},
   "outputs": [
    {
     "name": "stderr",
     "output_type": "stream",
     "text": [
      "/home/mark/anaconda3/envs/cn_ml_course/lib/python3.9/site-packages/seaborn/distributions.py:2557: FutureWarning: `distplot` is a deprecated function and will be removed in a future version. Please adapt your code to use either `displot` (a figure-level function with similar flexibility) or `histplot` (an axes-level function for histograms).\n",
      "  warnings.warn(msg, FutureWarning)\n"
     ]
    },
    {
     "data": {
      "image/png": "[encoded data removed]",
      "text/plain": [
       "<Figure size 720x432 with 1 Axes>"
      ]
     },
     "metadata": {},
     "output_type": "display_data"
    }
   ],
   "source": [
    "plt.figure(figsize=(10,6))\n",
    "sns.distplot(scores_sss, bins=15);  # go ahead and try different bins"
   ]
  },
  {
   "cell_type": "markdown",
   "metadata": {},
   "source": [
    "### What does the histogram tell you?\n",
    "\n",
    "What is the mean of the our model? What kind of variation can we expect?\n",
    "\n",
    "#### Your answer below : "
   ]
  },
  {
   "cell_type": "markdown",
   "metadata": {},
   "source": [
    "0.8814559849305782 is the mean.  It looks like the standard deviation would be something like 2%."
   ]
  },
  {
   "cell_type": "markdown",
   "metadata": {},
   "source": [
    "## 2. Tune your models hyper-parameters with Gridsearch\n",
    "\n",
    "Choose at least **3** parameters with **3** values each (total **9**) to search over\n",
    "When you create your GridSearchCV object make sure to set the following\n",
    "\n",
    "1. cv object - which CV do you want to use? This will be run for every experiment, so if you do 100 sss, then you get 100 experiments for every parameter setting! This will add up fast. So make sure to choose something reasonable.\n",
    "2. scoring parameter - never forget this!\n",
    "\n",
    "If you don't set the above, GridSearchCV will default to kfold=5 for the CV and accuracy for the scoring parameter.  kfold=5 isn't the worst (stratifiedkfold is better for us), but accuracy is really wrong for this dataset since it's unbalanced and a spam dataset.\n",
    "\n",
    "Quiz Question: How many different trees will get made during your grid-search? You need to do the math on the number of splits per CV * number of combination from your grid-search.\n",
    "\n"
   ]
  },
  {
   "cell_type": "code",
   "execution_count": 13,
   "metadata": {},
   "outputs": [],
   "source": [
    "# you need to setup a paramgrid.  I will give you one example\n",
    "\n",
    "#param_grid = {'max_depth':[2,10,20,30]} # will check max depth for those four parameters."
   ]
  },
  {
   "cell_type": "code",
   "execution_count": 14,
   "metadata": {
    "tags": []
   },
   "outputs": [],
   "source": [
    "## make a gridsearch object and pass all the needed parameters.\n",
    "param_grid = [{'min_samples_split':[2, 4, 8], 'min_samples_leaf':[2, 4, 8], 'max_depth':[10, 20, 30]}]\n",
    "ss_split = StratifiedShuffleSplit(n_splits = 25, test_size=.25)\n",
    "grid_search_scores = GridSearchCV(clf, param_grid = param_grid, scoring = 'f1', cv = ss_split)"
   ]
  },
  {
   "cell_type": "code",
   "execution_count": 15,
   "metadata": {},
   "outputs": [
    {
     "data": {
      "text/plain": [
       "GridSearchCV(cv=StratifiedShuffleSplit(n_splits=25, random_state=None, test_size=0.25,\n",
       "            train_size=None),\n",
       "             estimator=DecisionTreeClassifier(),\n",
       "             param_grid=[{'max_depth': [10, 20, 30],\n",
       "                          'min_samples_leaf': [2, 4, 8],\n",
       "                          'min_samples_split': [2, 4, 8]}],\n",
       "             scoring='f1')"
      ]
     },
     "execution_count": 15,
     "metadata": {},
     "output_type": "execute_result"
    }
   ],
   "source": [
    "# fit your grid-search! - it's an estimator so you fit it like a normal model.\n",
    "grid_search_scores.fit(X_train, y_train)"
   ]
  },
  {
   "cell_type": "code",
   "execution_count": null,
   "metadata": {},
   "outputs": [],
   "source": []
  },
  {
   "cell_type": "markdown",
   "metadata": {},
   "source": [
    "## 2.1: Gridsearch Results \n",
    "\n",
    "1. What are the final parameters that were best?  (grid.best_params_)\n",
    "2. What was your models best score? (grid.best_score_)\n",
    "3. You can also print out the best estimator with grid.best_estimator_\n",
    "4. Go ahead and put your grid results into a dataframe. \n",
    "\n"
   ]
  },
  {
   "cell_type": "code",
   "execution_count": 16,
   "metadata": {},
   "outputs": [
    {
     "data": {
      "text/plain": [
       "{'max_depth': 10, 'min_samples_leaf': 4, 'min_samples_split': 4}"
      ]
     },
     "execution_count": 16,
     "metadata": {},
     "output_type": "execute_result"
    }
   ],
   "source": [
    "grid_search_scores.best_params_"
   ]
  },
  {
   "cell_type": "code",
   "execution_count": 17,
   "metadata": {},
   "outputs": [
    {
     "data": {
      "text/plain": [
       "0.8865120379632934"
      ]
     },
     "execution_count": 17,
     "metadata": {},
     "output_type": "execute_result"
    }
   ],
   "source": [
    "grid_search_scores.best_score_"
   ]
  },
  {
   "cell_type": "code",
   "execution_count": 18,
   "metadata": {},
   "outputs": [
    {
     "data": {
      "text/plain": [
       "DecisionTreeClassifier(max_depth=10, min_samples_leaf=4, min_samples_split=4)"
      ]
     },
     "execution_count": 18,
     "metadata": {},
     "output_type": "execute_result"
    }
   ],
   "source": [
    "grid_search_scores.best_estimator_"
   ]
  },
  {
   "cell_type": "code",
   "execution_count": 19,
   "metadata": {
    "tags": []
   },
   "outputs": [],
   "source": [
    "results = pd.DataFrame(grid_search_scores.cv_results_)"
   ]
  },
  {
   "cell_type": "code",
   "execution_count": 20,
   "metadata": {
    "tags": []
   },
   "outputs": [
    {
     "data": {
      "text/html": [
       "<div>\n",
       "<style scoped>\n",
       "    .dataframe tbody tr th:only-of-type {\n",
       "        vertical-align: middle;\n",
       "    }\n",
       "\n",
       "    .dataframe tbody tr th {\n",
       "        vertical-align: top;\n",
       "    }\n",
       "\n",
       "    .dataframe thead th {\n",
       "        text-align: right;\n",
       "    }\n",
       "</style>\n",
       "<table border=\"1\" class=\"dataframe\">\n",
       "  <thead>\n",
       "    <tr style=\"text-align: right;\">\n",
       "      <th></th>\n",
       "      <th>mean_fit_time</th>\n",
       "      <th>std_fit_time</th>\n",
       "      <th>mean_score_time</th>\n",
       "      <th>std_score_time</th>\n",
       "      <th>param_max_depth</th>\n",
       "      <th>param_min_samples_leaf</th>\n",
       "      <th>param_min_samples_split</th>\n",
       "      <th>params</th>\n",
       "      <th>split0_test_score</th>\n",
       "      <th>split1_test_score</th>\n",
       "      <th>...</th>\n",
       "      <th>split18_test_score</th>\n",
       "      <th>split19_test_score</th>\n",
       "      <th>split20_test_score</th>\n",
       "      <th>split21_test_score</th>\n",
       "      <th>split22_test_score</th>\n",
       "      <th>split23_test_score</th>\n",
       "      <th>split24_test_score</th>\n",
       "      <th>mean_test_score</th>\n",
       "      <th>std_test_score</th>\n",
       "      <th>rank_test_score</th>\n",
       "    </tr>\n",
       "  </thead>\n",
       "  <tbody>\n",
       "    <tr>\n",
       "      <th>0</th>\n",
       "      <td>0.024472</td>\n",
       "      <td>0.001109</td>\n",
       "      <td>0.002673</td>\n",
       "      <td>0.000325</td>\n",
       "      <td>10</td>\n",
       "      <td>2</td>\n",
       "      <td>2</td>\n",
       "      <td>{'max_depth': 10, 'min_samples_leaf': 2, 'min_...</td>\n",
       "      <td>0.896552</td>\n",
       "      <td>0.881450</td>\n",
       "      <td>...</td>\n",
       "      <td>0.874096</td>\n",
       "      <td>0.876596</td>\n",
       "      <td>0.870185</td>\n",
       "      <td>0.882438</td>\n",
       "      <td>0.878745</td>\n",
       "      <td>0.902954</td>\n",
       "      <td>0.873529</td>\n",
       "      <td>0.884218</td>\n",
       "      <td>0.010542</td>\n",
       "      <td>10</td>\n",
       "    </tr>\n",
       "    <tr>\n",
       "      <th>1</th>\n",
       "      <td>0.023956</td>\n",
       "      <td>0.000973</td>\n",
       "      <td>0.002654</td>\n",
       "      <td>0.000443</td>\n",
       "      <td>10</td>\n",
       "      <td>2</td>\n",
       "      <td>4</td>\n",
       "      <td>{'max_depth': 10, 'min_samples_leaf': 2, 'min_...</td>\n",
       "      <td>0.898876</td>\n",
       "      <td>0.869930</td>\n",
       "      <td>...</td>\n",
       "      <td>0.872832</td>\n",
       "      <td>0.871429</td>\n",
       "      <td>0.868195</td>\n",
       "      <td>0.887608</td>\n",
       "      <td>0.871429</td>\n",
       "      <td>0.900850</td>\n",
       "      <td>0.860947</td>\n",
       "      <td>0.882202</td>\n",
       "      <td>0.012700</td>\n",
       "      <td>17</td>\n",
       "    </tr>\n",
       "    <tr>\n",
       "      <th>2</th>\n",
       "      <td>0.024089</td>\n",
       "      <td>0.000867</td>\n",
       "      <td>0.002713</td>\n",
       "      <td>0.000363</td>\n",
       "      <td>10</td>\n",
       "      <td>2</td>\n",
       "      <td>8</td>\n",
       "      <td>{'max_depth': 10, 'min_samples_leaf': 2, 'min_...</td>\n",
       "      <td>0.899576</td>\n",
       "      <td>0.878116</td>\n",
       "      <td>...</td>\n",
       "      <td>0.874820</td>\n",
       "      <td>0.873759</td>\n",
       "      <td>0.868571</td>\n",
       "      <td>0.880918</td>\n",
       "      <td>0.885755</td>\n",
       "      <td>0.907821</td>\n",
       "      <td>0.863836</td>\n",
       "      <td>0.885622</td>\n",
       "      <td>0.013633</td>\n",
       "      <td>4</td>\n",
       "    </tr>\n",
       "    <tr>\n",
       "      <th>3</th>\n",
       "      <td>0.023587</td>\n",
       "      <td>0.000936</td>\n",
       "      <td>0.002615</td>\n",
       "      <td>0.000261</td>\n",
       "      <td>10</td>\n",
       "      <td>4</td>\n",
       "      <td>2</td>\n",
       "      <td>{'max_depth': 10, 'min_samples_leaf': 4, 'min_...</td>\n",
       "      <td>0.904494</td>\n",
       "      <td>0.880785</td>\n",
       "      <td>...</td>\n",
       "      <td>0.872464</td>\n",
       "      <td>0.886713</td>\n",
       "      <td>0.858790</td>\n",
       "      <td>0.884726</td>\n",
       "      <td>0.882857</td>\n",
       "      <td>0.900141</td>\n",
       "      <td>0.857143</td>\n",
       "      <td>0.885755</td>\n",
       "      <td>0.016203</td>\n",
       "      <td>3</td>\n",
       "    </tr>\n",
       "    <tr>\n",
       "      <th>4</th>\n",
       "      <td>0.022955</td>\n",
       "      <td>0.001094</td>\n",
       "      <td>0.002508</td>\n",
       "      <td>0.000244</td>\n",
       "      <td>10</td>\n",
       "      <td>4</td>\n",
       "      <td>4</td>\n",
       "      <td>{'max_depth': 10, 'min_samples_leaf': 4, 'min_...</td>\n",
       "      <td>0.907042</td>\n",
       "      <td>0.880223</td>\n",
       "      <td>...</td>\n",
       "      <td>0.875723</td>\n",
       "      <td>0.885475</td>\n",
       "      <td>0.868571</td>\n",
       "      <td>0.884726</td>\n",
       "      <td>0.877143</td>\n",
       "      <td>0.903226</td>\n",
       "      <td>0.853333</td>\n",
       "      <td>0.886512</td>\n",
       "      <td>0.015680</td>\n",
       "      <td>1</td>\n",
       "    </tr>\n",
       "    <tr>\n",
       "      <th>5</th>\n",
       "      <td>0.023443</td>\n",
       "      <td>0.000915</td>\n",
       "      <td>0.002592</td>\n",
       "      <td>0.000352</td>\n",
       "      <td>10</td>\n",
       "      <td>4</td>\n",
       "      <td>8</td>\n",
       "      <td>{'max_depth': 10, 'min_samples_leaf': 4, 'min_...</td>\n",
       "      <td>0.907042</td>\n",
       "      <td>0.883916</td>\n",
       "      <td>...</td>\n",
       "      <td>0.870827</td>\n",
       "      <td>0.880785</td>\n",
       "      <td>0.865330</td>\n",
       "      <td>0.884726</td>\n",
       "      <td>0.881598</td>\n",
       "      <td>0.903683</td>\n",
       "      <td>0.859259</td>\n",
       "      <td>0.886479</td>\n",
       "      <td>0.015550</td>\n",
       "      <td>2</td>\n",
       "    </tr>\n",
       "    <tr>\n",
       "      <th>6</th>\n",
       "      <td>0.022295</td>\n",
       "      <td>0.001090</td>\n",
       "      <td>0.002669</td>\n",
       "      <td>0.000455</td>\n",
       "      <td>10</td>\n",
       "      <td>8</td>\n",
       "      <td>2</td>\n",
       "      <td>{'max_depth': 10, 'min_samples_leaf': 8, 'min_...</td>\n",
       "      <td>0.905501</td>\n",
       "      <td>0.900137</td>\n",
       "      <td>...</td>\n",
       "      <td>0.881119</td>\n",
       "      <td>0.860795</td>\n",
       "      <td>0.889807</td>\n",
       "      <td>0.886657</td>\n",
       "      <td>0.882184</td>\n",
       "      <td>0.871060</td>\n",
       "      <td>0.870073</td>\n",
       "      <td>0.882855</td>\n",
       "      <td>0.012608</td>\n",
       "      <td>14</td>\n",
       "    </tr>\n",
       "    <tr>\n",
       "      <th>7</th>\n",
       "      <td>0.022261</td>\n",
       "      <td>0.001226</td>\n",
       "      <td>0.002578</td>\n",
       "      <td>0.000345</td>\n",
       "      <td>10</td>\n",
       "      <td>8</td>\n",
       "      <td>4</td>\n",
       "      <td>{'max_depth': 10, 'min_samples_leaf': 8, 'min_...</td>\n",
       "      <td>0.905501</td>\n",
       "      <td>0.900137</td>\n",
       "      <td>...</td>\n",
       "      <td>0.883916</td>\n",
       "      <td>0.868347</td>\n",
       "      <td>0.889807</td>\n",
       "      <td>0.892351</td>\n",
       "      <td>0.882184</td>\n",
       "      <td>0.871060</td>\n",
       "      <td>0.868805</td>\n",
       "      <td>0.883735</td>\n",
       "      <td>0.012506</td>\n",
       "      <td>12</td>\n",
       "    </tr>\n",
       "    <tr>\n",
       "      <th>8</th>\n",
       "      <td>0.023155</td>\n",
       "      <td>0.001210</td>\n",
       "      <td>0.002714</td>\n",
       "      <td>0.000341</td>\n",
       "      <td>10</td>\n",
       "      <td>8</td>\n",
       "      <td>8</td>\n",
       "      <td>{'max_depth': 10, 'min_samples_leaf': 8, 'min_...</td>\n",
       "      <td>0.905501</td>\n",
       "      <td>0.898907</td>\n",
       "      <td>...</td>\n",
       "      <td>0.881119</td>\n",
       "      <td>0.868829</td>\n",
       "      <td>0.889807</td>\n",
       "      <td>0.887304</td>\n",
       "      <td>0.882184</td>\n",
       "      <td>0.874820</td>\n",
       "      <td>0.872093</td>\n",
       "      <td>0.883106</td>\n",
       "      <td>0.011415</td>\n",
       "      <td>13</td>\n",
       "    </tr>\n",
       "    <tr>\n",
       "      <th>9</th>\n",
       "      <td>0.031764</td>\n",
       "      <td>0.002846</td>\n",
       "      <td>0.002752</td>\n",
       "      <td>0.000351</td>\n",
       "      <td>20</td>\n",
       "      <td>2</td>\n",
       "      <td>2</td>\n",
       "      <td>{'max_depth': 20, 'min_samples_leaf': 2, 'min_...</td>\n",
       "      <td>0.895105</td>\n",
       "      <td>0.874136</td>\n",
       "      <td>...</td>\n",
       "      <td>0.878745</td>\n",
       "      <td>0.857947</td>\n",
       "      <td>0.883191</td>\n",
       "      <td>0.873039</td>\n",
       "      <td>0.875000</td>\n",
       "      <td>0.884451</td>\n",
       "      <td>0.867647</td>\n",
       "      <td>0.879312</td>\n",
       "      <td>0.011865</td>\n",
       "      <td>25</td>\n",
       "    </tr>\n",
       "  </tbody>\n",
       "</table>\n",
       "<p>10 rows × 36 columns</p>\n",
       "</div>"
      ],
      "text/plain": [
       "   mean_fit_time  std_fit_time  mean_score_time  std_score_time  \\\n",
       "0       0.024472      0.001109         0.002673        0.000325   \n",
       "1       0.023956      0.000973         0.002654        0.000443   \n",
       "2       0.024089      0.000867         0.002713        0.000363   \n",
       "3       0.023587      0.000936         0.002615        0.000261   \n",
       "4       0.022955      0.001094         0.002508        0.000244   \n",
       "5       0.023443      0.000915         0.002592        0.000352   \n",
       "6       0.022295      0.001090         0.002669        0.000455   \n",
       "7       0.022261      0.001226         0.002578        0.000345   \n",
       "8       0.023155      0.001210         0.002714        0.000341   \n",
       "9       0.031764      0.002846         0.002752        0.000351   \n",
       "\n",
       "  param_max_depth param_min_samples_leaf param_min_samples_split  \\\n",
       "0              10                      2                       2   \n",
       "1              10                      2                       4   \n",
       "2              10                      2                       8   \n",
       "3              10                      4                       2   \n",
       "4              10                      4                       4   \n",
       "5              10                      4                       8   \n",
       "6              10                      8                       2   \n",
       "7              10                      8                       4   \n",
       "8              10                      8                       8   \n",
       "9              20                      2                       2   \n",
       "\n",
       "                                              params  split0_test_score  \\\n",
       "0  {'max_depth': 10, 'min_samples_leaf': 2, 'min_...           0.896552   \n",
       "1  {'max_depth': 10, 'min_samples_leaf': 2, 'min_...           0.898876   \n",
       "2  {'max_depth': 10, 'min_samples_leaf': 2, 'min_...           0.899576   \n",
       "3  {'max_depth': 10, 'min_samples_leaf': 4, 'min_...           0.904494   \n",
       "4  {'max_depth': 10, 'min_samples_leaf': 4, 'min_...           0.907042   \n",
       "5  {'max_depth': 10, 'min_samples_leaf': 4, 'min_...           0.907042   \n",
       "6  {'max_depth': 10, 'min_samples_leaf': 8, 'min_...           0.905501   \n",
       "7  {'max_depth': 10, 'min_samples_leaf': 8, 'min_...           0.905501   \n",
       "8  {'max_depth': 10, 'min_samples_leaf': 8, 'min_...           0.905501   \n",
       "9  {'max_depth': 20, 'min_samples_leaf': 2, 'min_...           0.895105   \n",
       "\n",
       "   split1_test_score  ...  split18_test_score  split19_test_score  \\\n",
       "0           0.881450  ...            0.874096            0.876596   \n",
       "1           0.869930  ...            0.872832            0.871429   \n",
       "2           0.878116  ...            0.874820            0.873759   \n",
       "3           0.880785  ...            0.872464            0.886713   \n",
       "4           0.880223  ...            0.875723            0.885475   \n",
       "5           0.883916  ...            0.870827            0.880785   \n",
       "6           0.900137  ...            0.881119            0.860795   \n",
       "7           0.900137  ...            0.883916            0.868347   \n",
       "8           0.898907  ...            0.881119            0.868829   \n",
       "9           0.874136  ...            0.878745            0.857947   \n",
       "\n",
       "   split20_test_score  split21_test_score  split22_test_score  \\\n",
       "0            0.870185            0.882438            0.878745   \n",
       "1            0.868195            0.887608            0.871429   \n",
       "2            0.868571            0.880918            0.885755   \n",
       "3            0.858790            0.884726            0.882857   \n",
       "4            0.868571            0.884726            0.877143   \n",
       "5            0.865330            0.884726            0.881598   \n",
       "6            0.889807            0.886657            0.882184   \n",
       "7            0.889807            0.892351            0.882184   \n",
       "8            0.889807            0.887304            0.882184   \n",
       "9            0.883191            0.873039            0.875000   \n",
       "\n",
       "   split23_test_score  split24_test_score  mean_test_score  std_test_score  \\\n",
       "0            0.902954            0.873529         0.884218        0.010542   \n",
       "1            0.900850            0.860947         0.882202        0.012700   \n",
       "2            0.907821            0.863836         0.885622        0.013633   \n",
       "3            0.900141            0.857143         0.885755        0.016203   \n",
       "4            0.903226            0.853333         0.886512        0.015680   \n",
       "5            0.903683            0.859259         0.886479        0.015550   \n",
       "6            0.871060            0.870073         0.882855        0.012608   \n",
       "7            0.871060            0.868805         0.883735        0.012506   \n",
       "8            0.874820            0.872093         0.883106        0.011415   \n",
       "9            0.884451            0.867647         0.879312        0.011865   \n",
       "\n",
       "   rank_test_score  \n",
       "0               10  \n",
       "1               17  \n",
       "2                4  \n",
       "3                3  \n",
       "4                1  \n",
       "5                2  \n",
       "6               14  \n",
       "7               12  \n",
       "8               13  \n",
       "9               25  \n",
       "\n",
       "[10 rows x 36 columns]"
      ]
     },
     "execution_count": 20,
     "metadata": {},
     "output_type": "execute_result"
    }
   ],
   "source": [
    "results.head(10)"
   ]
  },
  {
   "cell_type": "code",
   "execution_count": 21,
   "metadata": {
    "tags": []
   },
   "outputs": [
    {
     "data": {
      "text/plain": [
       "(27, 36)"
      ]
     },
     "execution_count": 21,
     "metadata": {},
     "output_type": "execute_result"
    }
   ],
   "source": [
    "results.shape"
   ]
  },
  {
   "cell_type": "code",
   "execution_count": 22,
   "metadata": {},
   "outputs": [
    {
     "data": {
      "text/plain": [
       "0     10\n",
       "1     17\n",
       "2      4\n",
       "3      3\n",
       "4      1\n",
       "5      2\n",
       "6     14\n",
       "7     12\n",
       "8     13\n",
       "9     25\n",
       "10    24\n",
       "11    20\n",
       "12     6\n",
       "13     7\n",
       "14     8\n",
       "15    22\n",
       "16    18\n",
       "17    19\n",
       "18    26\n",
       "19    27\n",
       "20    23\n",
       "21     9\n",
       "22    11\n",
       "23     5\n",
       "24    16\n",
       "25    15\n",
       "26    21\n",
       "Name: rank_test_score, dtype: int32"
      ]
     },
     "execution_count": 22,
     "metadata": {},
     "output_type": "execute_result"
    }
   ],
   "source": [
    "results['rank_test_score']"
   ]
  },
  {
   "cell_type": "markdown",
   "metadata": {},
   "source": [
    "## 3.  Randomized Search\n",
    "\n",
    "#### Step 1, Distributions\n",
    "In order to do randomized search we need to draw from a distribution.  This can be a bit confusing so I will first just plot some distributions for you, then it will be pretty clear which ones we want to draw from.\n",
    "\n",
    "For decision trees most of the parameters we want to try out are integers. `min_samples_split`, `max_depth`, etc they are all integer numbers. So I will focus on distributions which draw integers"
   ]
  },
  {
   "cell_type": "code",
   "execution_count": 23,
   "metadata": {},
   "outputs": [],
   "source": [
    "import scipy"
   ]
  },
  {
   "cell_type": "code",
   "execution_count": 24,
   "metadata": {},
   "outputs": [
    {
     "name": "stderr",
     "output_type": "stream",
     "text": [
      "/home/mark/anaconda3/envs/cn_ml_course/lib/python3.9/site-packages/seaborn/distributions.py:2557: FutureWarning: `distplot` is a deprecated function and will be removed in a future version. Please adapt your code to use either `displot` (a figure-level function with similar flexibility) or `histplot` (an axes-level function for histograms).\n",
      "  warnings.warn(msg, FutureWarning)\n"
     ]
    },
    {
     "data": {
      "image/png": "[encoded data removed]",
      "text/plain": [
       "<Figure size 432x288 with 1 Axes>"
      ]
     },
     "metadata": {},
     "output_type": "display_data"
    }
   ],
   "source": [
    "sns.distplot(scipy.stats.norm(5, scale=2).rvs(1000));"
   ]
  },
  {
   "cell_type": "markdown",
   "metadata": {},
   "source": [
    "This is the gaussian or normal distribution.  In fact, we can't use it because it doesn't draw integers-- but I just wanted to show it to you! Well I suppose we could use it and then convert the output to integers."
   ]
  },
  {
   "cell_type": "code",
   "execution_count": 25,
   "metadata": {},
   "outputs": [
    {
     "name": "stderr",
     "output_type": "stream",
     "text": [
      "/home/mark/anaconda3/envs/cn_ml_course/lib/python3.9/site-packages/seaborn/distributions.py:2557: FutureWarning: `distplot` is a deprecated function and will be removed in a future version. Please adapt your code to use either `displot` (a figure-level function with similar flexibility) or `histplot` (an axes-level function for histograms).\n",
      "  warnings.warn(msg, FutureWarning)\n"
     ]
    },
    {
     "data": {
      "image/png": "[encoded data removed]",
      "text/plain": [
       "<Figure size 432x288 with 1 Axes>"
      ]
     },
     "metadata": {},
     "output_type": "display_data"
    }
   ],
   "source": [
    "numbers = scipy.stats.norm(5, scale=2).rvs(1000)\n",
    "sns.distplot(numbers.astype(int)); "
   ]
  },
  {
   "cell_type": "markdown",
   "metadata": {},
   "source": [
    "So we can use the gaussian and convert to integers, or we can draw from a uniform random distribution. That's plotted below. It basically says \"pick a random number! Any random number!\""
   ]
  },
  {
   "cell_type": "code",
   "execution_count": 26,
   "metadata": {},
   "outputs": [
    {
     "name": "stderr",
     "output_type": "stream",
     "text": [
      "/home/mark/anaconda3/envs/cn_ml_course/lib/python3.9/site-packages/seaborn/distributions.py:2557: FutureWarning: `distplot` is a deprecated function and will be removed in a future version. Please adapt your code to use either `displot` (a figure-level function with similar flexibility) or `histplot` (an axes-level function for histograms).\n",
      "  warnings.warn(msg, FutureWarning)\n"
     ]
    },
    {
     "data": {
      "image/png": "[encoded data removed]",
      "text/plain": [
       "<Figure size 432x288 with 1 Axes>"
      ]
     },
     "metadata": {},
     "output_type": "display_data"
    }
   ],
   "source": [
    "sns.distplot(scipy.stats.randint(0,50).rvs(1000));"
   ]
  },
  {
   "cell_type": "markdown",
   "metadata": {},
   "source": [
    "So we need to choose a distribution for our grid-search. Based on what area we want to search we can choose uniform or int-converted gaussian. If we choose guassian we can \"target\" it by adjusting the mean and std, similarly we can set the range on the uniform distribution (the low and high ends).  You can decide what you want for your distribution. I will give you on example of how to setup the paramter grid for randomized search below."
   ]
  },
  {
   "cell_type": "code",
   "execution_count": 27,
   "metadata": {},
   "outputs": [],
   "source": [
    "rand_params = [{'min_samples_split': scipy.stats.randint(2,20), 'min_samples_leaf': scipy.stats.randint(2,20), 'max_depth': scipy.stats.randint(2,100)}]\n",
    "\n",
    "## note that we don't say \"how many\" samples to draw in the param grid.\n",
    "## We will do that below when we create the RandomizedSearchCV object"
   ]
  },
  {
   "cell_type": "markdown",
   "metadata": {},
   "source": [
    "Note that we don't say \"how many\" samples to draw in the param grid. We will do that below when we create the RandomizedSearchCV object. You need to set the following\n",
    "* estimator\n",
    "* params\n",
    "* n_iters (this decides how many times to sample from the distribution per setting)\n",
    "* scoring\n",
    "* cv"
   ]
  },
  {
   "cell_type": "code",
   "execution_count": 28,
   "metadata": {},
   "outputs": [],
   "source": [
    "rand_search = RandomizedSearchCV(clf, rand_params, n_jobs = -1, n_iter = 50, scoring = 'f1', cv = ss_split)"
   ]
  },
  {
   "cell_type": "code",
   "execution_count": 29,
   "metadata": {},
   "outputs": [
    {
     "data": {
      "text/plain": [
       "RandomizedSearchCV(cv=StratifiedShuffleSplit(n_splits=25, random_state=None, test_size=0.25,\n",
       "            train_size=None),\n",
       "                   estimator=DecisionTreeClassifier(), n_iter=50, n_jobs=-1,\n",
       "                   param_distributions=[{'max_depth': <scipy.stats._distn_infrastructure.rv_frozen object at 0x7f5bca1420d0>,\n",
       "                                         'min_samples_leaf': <scipy.stats._distn_infrastructure.rv_frozen object at 0x7f5bca1bdd30>,\n",
       "                                         'min_samples_split': <scipy.stats._distn_infrastructure.rv_frozen object at 0x7f5bca1efeb0>}],\n",
       "                   scoring='f1')"
      ]
     },
     "execution_count": 29,
     "metadata": {},
     "output_type": "execute_result"
    }
   ],
   "source": [
    "rand_search.fit(X_train, y_train)"
   ]
  },
  {
   "cell_type": "code",
   "execution_count": 30,
   "metadata": {},
   "outputs": [],
   "source": [
    "rand_search_results = pd.DataFrame(rand_search.cv_results_)"
   ]
  },
  {
   "cell_type": "code",
   "execution_count": 31,
   "metadata": {
    "tags": []
   },
   "outputs": [
    {
     "data": {
      "text/html": [
       "<div>\n",
       "<style scoped>\n",
       "    .dataframe tbody tr th:only-of-type {\n",
       "        vertical-align: middle;\n",
       "    }\n",
       "\n",
       "    .dataframe tbody tr th {\n",
       "        vertical-align: top;\n",
       "    }\n",
       "\n",
       "    .dataframe thead th {\n",
       "        text-align: right;\n",
       "    }\n",
       "</style>\n",
       "<table border=\"1\" class=\"dataframe\">\n",
       "  <thead>\n",
       "    <tr style=\"text-align: right;\">\n",
       "      <th></th>\n",
       "      <th>mean_fit_time</th>\n",
       "      <th>std_fit_time</th>\n",
       "      <th>mean_score_time</th>\n",
       "      <th>std_score_time</th>\n",
       "      <th>param_max_depth</th>\n",
       "      <th>param_min_samples_leaf</th>\n",
       "      <th>param_min_samples_split</th>\n",
       "      <th>params</th>\n",
       "      <th>split0_test_score</th>\n",
       "      <th>split1_test_score</th>\n",
       "      <th>...</th>\n",
       "      <th>split18_test_score</th>\n",
       "      <th>split19_test_score</th>\n",
       "      <th>split20_test_score</th>\n",
       "      <th>split21_test_score</th>\n",
       "      <th>split22_test_score</th>\n",
       "      <th>split23_test_score</th>\n",
       "      <th>split24_test_score</th>\n",
       "      <th>mean_test_score</th>\n",
       "      <th>std_test_score</th>\n",
       "      <th>rank_test_score</th>\n",
       "    </tr>\n",
       "  </thead>\n",
       "  <tbody>\n",
       "    <tr>\n",
       "      <th>0</th>\n",
       "      <td>0.048901</td>\n",
       "      <td>0.006081</td>\n",
       "      <td>0.005709</td>\n",
       "      <td>0.001280</td>\n",
       "      <td>56</td>\n",
       "      <td>8</td>\n",
       "      <td>3</td>\n",
       "      <td>{'max_depth': 56, 'min_samples_leaf': 8, 'min_...</td>\n",
       "      <td>0.879668</td>\n",
       "      <td>0.884354</td>\n",
       "      <td>...</td>\n",
       "      <td>0.895604</td>\n",
       "      <td>0.875354</td>\n",
       "      <td>0.835036</td>\n",
       "      <td>0.900850</td>\n",
       "      <td>0.883590</td>\n",
       "      <td>0.906377</td>\n",
       "      <td>0.888889</td>\n",
       "      <td>0.878761</td>\n",
       "      <td>0.015996</td>\n",
       "      <td>11</td>\n",
       "    </tr>\n",
       "    <tr>\n",
       "      <th>1</th>\n",
       "      <td>0.044239</td>\n",
       "      <td>0.004423</td>\n",
       "      <td>0.004885</td>\n",
       "      <td>0.001136</td>\n",
       "      <td>32</td>\n",
       "      <td>8</td>\n",
       "      <td>7</td>\n",
       "      <td>{'max_depth': 32, 'min_samples_leaf': 8, 'min_...</td>\n",
       "      <td>0.879668</td>\n",
       "      <td>0.875853</td>\n",
       "      <td>...</td>\n",
       "      <td>0.894376</td>\n",
       "      <td>0.884181</td>\n",
       "      <td>0.836257</td>\n",
       "      <td>0.898305</td>\n",
       "      <td>0.882022</td>\n",
       "      <td>0.899729</td>\n",
       "      <td>0.888889</td>\n",
       "      <td>0.878100</td>\n",
       "      <td>0.015221</td>\n",
       "      <td>12</td>\n",
       "    </tr>\n",
       "    <tr>\n",
       "      <th>2</th>\n",
       "      <td>0.034383</td>\n",
       "      <td>0.003504</td>\n",
       "      <td>0.004117</td>\n",
       "      <td>0.000454</td>\n",
       "      <td>37</td>\n",
       "      <td>15</td>\n",
       "      <td>6</td>\n",
       "      <td>{'max_depth': 37, 'min_samples_leaf': 15, 'min...</td>\n",
       "      <td>0.833100</td>\n",
       "      <td>0.870523</td>\n",
       "      <td>...</td>\n",
       "      <td>0.898630</td>\n",
       "      <td>0.861925</td>\n",
       "      <td>0.853067</td>\n",
       "      <td>0.888571</td>\n",
       "      <td>0.855944</td>\n",
       "      <td>0.886713</td>\n",
       "      <td>0.885154</td>\n",
       "      <td>0.867805</td>\n",
       "      <td>0.016060</td>\n",
       "      <td>38</td>\n",
       "    </tr>\n",
       "    <tr>\n",
       "      <th>3</th>\n",
       "      <td>0.040470</td>\n",
       "      <td>0.004256</td>\n",
       "      <td>0.004511</td>\n",
       "      <td>0.000755</td>\n",
       "      <td>64</td>\n",
       "      <td>9</td>\n",
       "      <td>14</td>\n",
       "      <td>{'max_depth': 64, 'min_samples_leaf': 9, 'min_...</td>\n",
       "      <td>0.875000</td>\n",
       "      <td>0.879452</td>\n",
       "      <td>...</td>\n",
       "      <td>0.872011</td>\n",
       "      <td>0.876056</td>\n",
       "      <td>0.841339</td>\n",
       "      <td>0.899576</td>\n",
       "      <td>0.875524</td>\n",
       "      <td>0.896739</td>\n",
       "      <td>0.883523</td>\n",
       "      <td>0.875553</td>\n",
       "      <td>0.013290</td>\n",
       "      <td>16</td>\n",
       "    </tr>\n",
       "    <tr>\n",
       "      <th>4</th>\n",
       "      <td>0.037862</td>\n",
       "      <td>0.003376</td>\n",
       "      <td>0.004751</td>\n",
       "      <td>0.001318</td>\n",
       "      <td>40</td>\n",
       "      <td>13</td>\n",
       "      <td>16</td>\n",
       "      <td>{'max_depth': 40, 'min_samples_leaf': 13, 'min...</td>\n",
       "      <td>0.860335</td>\n",
       "      <td>0.873469</td>\n",
       "      <td>...</td>\n",
       "      <td>0.896175</td>\n",
       "      <td>0.862857</td>\n",
       "      <td>0.861878</td>\n",
       "      <td>0.896359</td>\n",
       "      <td>0.847262</td>\n",
       "      <td>0.895238</td>\n",
       "      <td>0.881020</td>\n",
       "      <td>0.870770</td>\n",
       "      <td>0.016202</td>\n",
       "      <td>31</td>\n",
       "    </tr>\n",
       "    <tr>\n",
       "      <th>5</th>\n",
       "      <td>0.037865</td>\n",
       "      <td>0.002821</td>\n",
       "      <td>0.004293</td>\n",
       "      <td>0.000471</td>\n",
       "      <td>88</td>\n",
       "      <td>13</td>\n",
       "      <td>17</td>\n",
       "      <td>{'max_depth': 88, 'min_samples_leaf': 13, 'min...</td>\n",
       "      <td>0.863510</td>\n",
       "      <td>0.873469</td>\n",
       "      <td>...</td>\n",
       "      <td>0.896175</td>\n",
       "      <td>0.862857</td>\n",
       "      <td>0.861878</td>\n",
       "      <td>0.896359</td>\n",
       "      <td>0.847262</td>\n",
       "      <td>0.895238</td>\n",
       "      <td>0.881020</td>\n",
       "      <td>0.870949</td>\n",
       "      <td>0.015897</td>\n",
       "      <td>30</td>\n",
       "    </tr>\n",
       "    <tr>\n",
       "      <th>6</th>\n",
       "      <td>0.038071</td>\n",
       "      <td>0.003323</td>\n",
       "      <td>0.004375</td>\n",
       "      <td>0.000359</td>\n",
       "      <td>93</td>\n",
       "      <td>14</td>\n",
       "      <td>8</td>\n",
       "      <td>{'max_depth': 93, 'min_samples_leaf': 14, 'min...</td>\n",
       "      <td>0.838983</td>\n",
       "      <td>0.869326</td>\n",
       "      <td>...</td>\n",
       "      <td>0.897401</td>\n",
       "      <td>0.865248</td>\n",
       "      <td>0.854342</td>\n",
       "      <td>0.894515</td>\n",
       "      <td>0.856330</td>\n",
       "      <td>0.890733</td>\n",
       "      <td>0.875892</td>\n",
       "      <td>0.868573</td>\n",
       "      <td>0.015153</td>\n",
       "      <td>34</td>\n",
       "    </tr>\n",
       "    <tr>\n",
       "      <th>7</th>\n",
       "      <td>0.028421</td>\n",
       "      <td>0.001542</td>\n",
       "      <td>0.004506</td>\n",
       "      <td>0.000548</td>\n",
       "      <td>6</td>\n",
       "      <td>11</td>\n",
       "      <td>6</td>\n",
       "      <td>{'max_depth': 6, 'min_samples_leaf': 11, 'min_...</td>\n",
       "      <td>0.864023</td>\n",
       "      <td>0.879888</td>\n",
       "      <td>...</td>\n",
       "      <td>0.879668</td>\n",
       "      <td>0.850073</td>\n",
       "      <td>0.844950</td>\n",
       "      <td>0.898426</td>\n",
       "      <td>0.868805</td>\n",
       "      <td>0.886003</td>\n",
       "      <td>0.879884</td>\n",
       "      <td>0.868701</td>\n",
       "      <td>0.013292</td>\n",
       "      <td>33</td>\n",
       "    </tr>\n",
       "    <tr>\n",
       "      <th>8</th>\n",
       "      <td>0.041028</td>\n",
       "      <td>0.005419</td>\n",
       "      <td>0.005025</td>\n",
       "      <td>0.001186</td>\n",
       "      <td>25</td>\n",
       "      <td>13</td>\n",
       "      <td>3</td>\n",
       "      <td>{'max_depth': 25, 'min_samples_leaf': 13, 'min...</td>\n",
       "      <td>0.863510</td>\n",
       "      <td>0.873469</td>\n",
       "      <td>...</td>\n",
       "      <td>0.896175</td>\n",
       "      <td>0.862464</td>\n",
       "      <td>0.861878</td>\n",
       "      <td>0.896359</td>\n",
       "      <td>0.847701</td>\n",
       "      <td>0.895238</td>\n",
       "      <td>0.881020</td>\n",
       "      <td>0.871194</td>\n",
       "      <td>0.015878</td>\n",
       "      <td>28</td>\n",
       "    </tr>\n",
       "    <tr>\n",
       "      <th>9</th>\n",
       "      <td>0.020322</td>\n",
       "      <td>0.002777</td>\n",
       "      <td>0.005522</td>\n",
       "      <td>0.001374</td>\n",
       "      <td>3</td>\n",
       "      <td>17</td>\n",
       "      <td>4</td>\n",
       "      <td>{'max_depth': 3, 'min_samples_leaf': 17, 'min_...</td>\n",
       "      <td>0.847795</td>\n",
       "      <td>0.829817</td>\n",
       "      <td>...</td>\n",
       "      <td>0.845070</td>\n",
       "      <td>0.825036</td>\n",
       "      <td>0.818049</td>\n",
       "      <td>0.844575</td>\n",
       "      <td>0.823704</td>\n",
       "      <td>0.856313</td>\n",
       "      <td>0.843931</td>\n",
       "      <td>0.836956</td>\n",
       "      <td>0.012698</td>\n",
       "      <td>50</td>\n",
       "    </tr>\n",
       "  </tbody>\n",
       "</table>\n",
       "<p>10 rows × 36 columns</p>\n",
       "</div>"
      ],
      "text/plain": [
       "   mean_fit_time  std_fit_time  mean_score_time  std_score_time  \\\n",
       "0       0.048901      0.006081         0.005709        0.001280   \n",
       "1       0.044239      0.004423         0.004885        0.001136   \n",
       "2       0.034383      0.003504         0.004117        0.000454   \n",
       "3       0.040470      0.004256         0.004511        0.000755   \n",
       "4       0.037862      0.003376         0.004751        0.001318   \n",
       "5       0.037865      0.002821         0.004293        0.000471   \n",
       "6       0.038071      0.003323         0.004375        0.000359   \n",
       "7       0.028421      0.001542         0.004506        0.000548   \n",
       "8       0.041028      0.005419         0.005025        0.001186   \n",
       "9       0.020322      0.002777         0.005522        0.001374   \n",
       "\n",
       "  param_max_depth param_min_samples_leaf param_min_samples_split  \\\n",
       "0              56                      8                       3   \n",
       "1              32                      8                       7   \n",
       "2              37                     15                       6   \n",
       "3              64                      9                      14   \n",
       "4              40                     13                      16   \n",
       "5              88                     13                      17   \n",
       "6              93                     14                       8   \n",
       "7               6                     11                       6   \n",
       "8              25                     13                       3   \n",
       "9               3                     17                       4   \n",
       "\n",
       "                                              params  split0_test_score  \\\n",
       "0  {'max_depth': 56, 'min_samples_leaf': 8, 'min_...           0.879668   \n",
       "1  {'max_depth': 32, 'min_samples_leaf': 8, 'min_...           0.879668   \n",
       "2  {'max_depth': 37, 'min_samples_leaf': 15, 'min...           0.833100   \n",
       "3  {'max_depth': 64, 'min_samples_leaf': 9, 'min_...           0.875000   \n",
       "4  {'max_depth': 40, 'min_samples_leaf': 13, 'min...           0.860335   \n",
       "5  {'max_depth': 88, 'min_samples_leaf': 13, 'min...           0.863510   \n",
       "6  {'max_depth': 93, 'min_samples_leaf': 14, 'min...           0.838983   \n",
       "7  {'max_depth': 6, 'min_samples_leaf': 11, 'min_...           0.864023   \n",
       "8  {'max_depth': 25, 'min_samples_leaf': 13, 'min...           0.863510   \n",
       "9  {'max_depth': 3, 'min_samples_leaf': 17, 'min_...           0.847795   \n",
       "\n",
       "   split1_test_score  ...  split18_test_score  split19_test_score  \\\n",
       "0           0.884354  ...            0.895604            0.875354   \n",
       "1           0.875853  ...            0.894376            0.884181   \n",
       "2           0.870523  ...            0.898630            0.861925   \n",
       "3           0.879452  ...            0.872011            0.876056   \n",
       "4           0.873469  ...            0.896175            0.862857   \n",
       "5           0.873469  ...            0.896175            0.862857   \n",
       "6           0.869326  ...            0.897401            0.865248   \n",
       "7           0.879888  ...            0.879668            0.850073   \n",
       "8           0.873469  ...            0.896175            0.862464   \n",
       "9           0.829817  ...            0.845070            0.825036   \n",
       "\n",
       "   split20_test_score  split21_test_score  split22_test_score  \\\n",
       "0            0.835036            0.900850            0.883590   \n",
       "1            0.836257            0.898305            0.882022   \n",
       "2            0.853067            0.888571            0.855944   \n",
       "3            0.841339            0.899576            0.875524   \n",
       "4            0.861878            0.896359            0.847262   \n",
       "5            0.861878            0.896359            0.847262   \n",
       "6            0.854342            0.894515            0.856330   \n",
       "7            0.844950            0.898426            0.868805   \n",
       "8            0.861878            0.896359            0.847701   \n",
       "9            0.818049            0.844575            0.823704   \n",
       "\n",
       "   split23_test_score  split24_test_score  mean_test_score  std_test_score  \\\n",
       "0            0.906377            0.888889         0.878761        0.015996   \n",
       "1            0.899729            0.888889         0.878100        0.015221   \n",
       "2            0.886713            0.885154         0.867805        0.016060   \n",
       "3            0.896739            0.883523         0.875553        0.013290   \n",
       "4            0.895238            0.881020         0.870770        0.016202   \n",
       "5            0.895238            0.881020         0.870949        0.015897   \n",
       "6            0.890733            0.875892         0.868573        0.015153   \n",
       "7            0.886003            0.879884         0.868701        0.013292   \n",
       "8            0.895238            0.881020         0.871194        0.015878   \n",
       "9            0.856313            0.843931         0.836956        0.012698   \n",
       "\n",
       "   rank_test_score  \n",
       "0               11  \n",
       "1               12  \n",
       "2               38  \n",
       "3               16  \n",
       "4               31  \n",
       "5               30  \n",
       "6               34  \n",
       "7               33  \n",
       "8               28  \n",
       "9               50  \n",
       "\n",
       "[10 rows x 36 columns]"
      ]
     },
     "execution_count": 31,
     "metadata": {},
     "output_type": "execute_result"
    }
   ],
   "source": [
    "rand_search_results.head(10)"
   ]
  },
  {
   "cell_type": "code",
   "execution_count": 32,
   "metadata": {},
   "outputs": [
    {
     "data": {
      "text/plain": [
       "0     11\n",
       "1     12\n",
       "2     38\n",
       "3     16\n",
       "4     31\n",
       "5     30\n",
       "6     34\n",
       "7     33\n",
       "8     28\n",
       "9     50\n",
       "10    43\n",
       "11    35\n",
       "12    46\n",
       "13    17\n",
       "14    25\n",
       "15    22\n",
       "16    20\n",
       "17     8\n",
       "18    10\n",
       "19    42\n",
       "20     1\n",
       "21    27\n",
       "22    32\n",
       "23     2\n",
       "24    39\n",
       "25    48\n",
       "26    44\n",
       "27    21\n",
       "28     5\n",
       "29    45\n",
       "30    18\n",
       "31    41\n",
       "32    19\n",
       "33    49\n",
       "34    36\n",
       "35     9\n",
       "36     3\n",
       "37    23\n",
       "38    24\n",
       "39    26\n",
       "40     4\n",
       "41    37\n",
       "42    13\n",
       "43    29\n",
       "44    40\n",
       "45     6\n",
       "46    47\n",
       "47     7\n",
       "48    15\n",
       "49    14\n",
       "Name: rank_test_score, dtype: int32"
      ]
     },
     "execution_count": 32,
     "metadata": {},
     "output_type": "execute_result"
    }
   ],
   "source": [
    "rand_search_results['rank_test_score']"
   ]
  },
  {
   "cell_type": "code",
   "execution_count": 33,
   "metadata": {},
   "outputs": [
    {
     "data": {
      "text/plain": [
       "(27, 36)"
      ]
     },
     "execution_count": 33,
     "metadata": {},
     "output_type": "execute_result"
    }
   ],
   "source": [
    "results.shape"
   ]
  },
  {
   "cell_type": "code",
   "execution_count": 34,
   "metadata": {},
   "outputs": [
    {
     "data": {
      "text/plain": [
       "{'max_depth': 13, 'min_samples_leaf': 2, 'min_samples_split': 12}"
      ]
     },
     "execution_count": 34,
     "metadata": {},
     "output_type": "execute_result"
    }
   ],
   "source": [
    "rand_search.best_params_"
   ]
  },
  {
   "cell_type": "code",
   "execution_count": 35,
   "metadata": {},
   "outputs": [
    {
     "data": {
      "text/plain": [
       "0.8840469360401698"
      ]
     },
     "execution_count": 35,
     "metadata": {},
     "output_type": "execute_result"
    }
   ],
   "source": [
    "rand_search.best_score_"
   ]
  },
  {
   "cell_type": "code",
   "execution_count": 36,
   "metadata": {
    "tags": []
   },
   "outputs": [
    {
     "data": {
      "text/plain": [
       "DecisionTreeClassifier(max_depth=13, min_samples_leaf=2, min_samples_split=12)"
      ]
     },
     "execution_count": 36,
     "metadata": {},
     "output_type": "execute_result"
    }
   ],
   "source": [
    "rand_search.best_estimator_"
   ]
  },
  {
   "cell_type": "markdown",
   "metadata": {},
   "source": [
    "### Did you find different best parameters?\n",
    "Which method do you like more?\n",
    "What method do you think got better results?\n",
    "Why? Why not?\n",
    "\n"
   ]
  },
  {
   "cell_type": "markdown",
   "metadata": {},
   "source": [
    "### You answers here"
   ]
  },
  {
   "cell_type": "code",
   "execution_count": 37,
   "metadata": {},
   "outputs": [
    {
     "name": "stdout",
     "output_type": "stream",
     "text": [
      "I found relatively the best parameters, but when they are chosen randomly it is hard to say with any real certainty that THOSE parameters are the best.  More tests would show better results.\n"
     ]
    }
   ],
   "source": [
    "print(\"I found relatively the best parameters, but when they are chosen randomly it is hard to say with any real certainty that THOSE parameters are the best.  More tests would show better results.\")"
   ]
  },
  {
   "cell_type": "markdown",
   "metadata": {},
   "source": [
    "## 4. Validate your classifier using\n",
    "\n",
    "1. Learning Curve\n",
    "2. Validation Curves (complexity graph)\n",
    "\n",
    "Please plot at least 3 different validation curves for 3 different hyper-parameters than you can tune.\n",
    "\n",
    "You can (and should) use the imported functions `plot_validation_curve` and `plot_learning_curve`. These functions are originally found on sklearn's site but I did modify them slightly for our use. You can check out the full code in plotting.py, which also contains links to the original source code."
   ]
  },
  {
   "cell_type": "code",
   "execution_count": null,
   "metadata": {},
   "outputs": [],
   "source": [
    "# plot_learning_curve, plot_validation_curve"
   ]
  },
  {
   "cell_type": "code",
   "execution_count": 42,
   "metadata": {
    "tags": []
   },
   "outputs": [
    {
     "data": {
      "image/png": "[encoded data removed]",
      "text/plain": [
       "<Figure size 720x360 with 1 Axes>"
      ]
     },
     "metadata": {},
     "output_type": "display_data"
    }
   ],
   "source": [
    "val1 = plot_validation_curve(rand_search.best_estimator_, X_train, y_train, param_range = np.arange(1,20,1), param_name = 'max_depth', cv = ss_split, scoring = 'f1')"
   ]
  },
  {
   "cell_type": "code",
   "execution_count": 53,
   "metadata": {
    "tags": []
   },
   "outputs": [
    {
     "data": {
      "image/png": "[encoded data removed]",
      "text/plain": [
       "<Figure size 720x360 with 1 Axes>"
      ]
     },
     "metadata": {},
     "output_type": "display_data"
    }
   ],
   "source": [
    "val2 = plot_validation_curve(rand_search.best_estimator_, X_train, y_train, param_range = np.arange(2,25,1), param_name = 'min_samples_split', cv = ss_split, scoring = 'f1')"
   ]
  },
  {
   "cell_type": "code",
   "execution_count": 46,
   "metadata": {
    "jupyter": {
     "source_hidden": true
    },
    "tags": []
   },
   "outputs": [
    {
     "data": {
      "image/png": "[encoded data removed]",
      "text/plain": [
       "<Figure size 720x360 with 1 Axes>"
      ]
     },
     "metadata": {},
     "output_type": "display_data"
    }
   ],
   "source": [
    "val3 = plot_validation_curve(rand_search.best_estimator_, X_train, y_train, param_range = np.arange(2,20,1), param_name = 'min_samples_leaf', cv = ss_split, scoring = 'f1')"
   ]
  },
  {
   "cell_type": "code",
   "execution_count": null,
   "metadata": {},
   "outputs": [],
   "source": [
    "val4 = plot_learning_curve(rand_search.best_estimator_, X_train, y_train, param_range = np.arange(1,20,1), param_name = 'max_depth', cv = ss_split, scoring = 'f1')"
   ]
  },
  {
   "cell_type": "code",
   "execution_count": null,
   "metadata": {},
   "outputs": [],
   "source": []
  },
  {
   "cell_type": "code",
   "execution_count": null,
   "metadata": {},
   "outputs": [],
   "source": []
  },
  {
   "cell_type": "markdown",
   "metadata": {},
   "source": [
    "## 5. Choose your best parameters:\n",
    "\n",
    "Keep in mind that the random-search and grid-search will always maximize the validation score, even if it's in the area of overfitting. Looking at the validation curves you created, what you do think are the best parameter values?\n",
    "\n",
    "Now create a tree model with this and fit it."
   ]
  },
  {
   "cell_type": "code",
   "execution_count": null,
   "metadata": {},
   "outputs": [],
   "source": [
    "max_depth = 3, min_samples_split = 20, min_samples_leaf = 7"
   ]
  },
  {
   "cell_type": "code",
   "execution_count": null,
   "metadata": {},
   "outputs": [],
   "source": []
  },
  {
   "cell_type": "code",
   "execution_count": null,
   "metadata": {},
   "outputs": [],
   "source": []
  },
  {
   "cell_type": "markdown",
   "metadata": {},
   "source": [
    "## 6. Looking at Feature Importances\n",
    "\n",
    "Decision trees have a nice property that they can automatically sort your features by importance. This just naturally falls out from the gini coefficient or the information gain ratio (whichever one you used).  Therefore we can run a little code and actually see which features our model found to be the most important.\n",
    "\n",
    "\n",
    "The code from Chris Albon below will help you do this, go ahead and run it."
   ]
  },
  {
   "cell_type": "code",
   "execution_count": 60,
   "metadata": {},
   "outputs": [
    {
     "data": {
      "image/png": "[encoded data removed]",
      "text/plain": [
       "<Figure size 1440x360 with 1 Axes>"
      ]
     },
     "metadata": {},
     "output_type": "display_data"
    }
   ],
   "source": [
    "## https://chrisalbon.com/machine_learning/trees_and_forests/feature_importance/\n",
    "\n",
    "importances = clf.feature_importances_\n",
    "\n",
    "indices = np.argsort(importances)[::-1]\n",
    "\n",
    "# rearrange feature names so they match the sorted feature names\n",
    "# I have my original names list of feature names, which corresponds to the features in the tree.\n",
    "f_names = [names[i] for i in indices]\n",
    "\n",
    "#create my plot\n",
    "fig, axes = plt.subplots(figsize=(20,5))\n",
    "axes.set_title(\"Feature Importances\")\n",
    "axes.bar(range(X_train.shape[1]), importances[indices])\n",
    "\n",
    "# Add feature names as x-axis labels\n",
    "axes.set_xticks(range(X.shape[1]));\n",
    "axes.set_xticklabels(f_names, rotation=45, ha='right');\n"
   ]
  },
  {
   "cell_type": "markdown",
   "metadata": {},
   "source": [
    "What is the most important feature that your model found? Does this surprise you, why or why not?\n",
    "\n",
    "#### Your Answers:"
   ]
  },
  {
   "cell_type": "code",
   "execution_count": null,
   "metadata": {},
   "outputs": [],
   "source": []
  },
  {
   "cell_type": "code",
   "execution_count": null,
   "metadata": {},
   "outputs": [],
   "source": []
  },
  {
   "cell_type": "markdown",
   "metadata": {},
   "source": [
    "## 6. Test your data.\n",
    "\n",
    "Retrain your model using all the training data and using the hyper parameters you think are best. \n",
    "Then go ahead and test your model with the test data. Evaluate your model by testing on the test set. How did you do? What is your performance?\n",
    "\n",
    "As always, ask yourself the question \"If I was doing this professionally for a company, what other questions would I want answered?\" Is this model ready to go??\n"
   ]
  },
  {
   "cell_type": "code",
   "execution_count": 58,
   "metadata": {},
   "outputs": [],
   "source": [
    "clf = DecisionTreeClassifier(max_depth = 3, min_samples_split = 20, min_samples_leaf = 7)"
   ]
  },
  {
   "cell_type": "code",
   "execution_count": 59,
   "metadata": {},
   "outputs": [
    {
     "data": {
      "text/plain": [
       "DecisionTreeClassifier(max_depth=3, min_samples_leaf=7, min_samples_split=20)"
      ]
     },
     "execution_count": 59,
     "metadata": {},
     "output_type": "execute_result"
    }
   ],
   "source": [
    "clf.fit(X_train, y_train)"
   ]
  },
  {
   "cell_type": "code",
   "execution_count": 61,
   "metadata": {},
   "outputs": [],
   "source": [
    "pred = clf.predict(X_test)"
   ]
  },
  {
   "cell_type": "code",
   "execution_count": 62,
   "metadata": {},
   "outputs": [
    {
     "data": {
      "text/plain": [
       "0.8450704225352113"
      ]
     },
     "execution_count": 62,
     "metadata": {},
     "output_type": "execute_result"
    }
   ],
   "source": [
    "f1_score(y_test, pred)"
   ]
  },
  {
   "cell_type": "code",
   "execution_count": null,
   "metadata": {},
   "outputs": [],
   "source": []
  }
 ],
 "metadata": {
  "kernelspec": {
   "display_name": "Python 3",
   "language": "python",
   "name": "python3"
  },
  "language_info": {
   "codemirror_mode": {
    "name": "ipython",
    "version": 3
   },
   "file_extension": ".py",
   "mimetype": "text/x-python",
   "name": "python",
   "nbconvert_exporter": "python",
   "pygments_lexer": "ipython3",
   "version": "3.9.5"
  }
 },
 "nbformat": 4,
 "nbformat_minor": 4
}
