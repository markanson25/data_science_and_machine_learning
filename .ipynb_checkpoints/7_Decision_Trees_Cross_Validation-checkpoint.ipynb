{
 "cells": [
  {
   "cell_type": "code",
   "execution_count": 1,
   "metadata": {},
   "outputs": [],
   "source": [
    "import numpy as np\n",
    "import pandas as pd\n",
    "import matplotlib.pyplot as plt\n",
    "import seaborn as sns\n",
    "sns.set()\n",
    "\n",
    "\n",
    "# classifier we will use\n",
    "from sklearn.tree import DecisionTreeClassifier\n",
    "\n",
    "# model selection bits\n",
    "from sklearn.model_selection import GridSearchCV, RandomizedSearchCV, train_test_split\n",
    "from sklearn.model_selection import cross_val_score\n",
    "from sklearn.model_selection import StratifiedShuffleSplit, StratifiedKFold\n",
    "from sklearn.model_selection import learning_curve, validation_curve\n",
    "\n",
    "# evaluation\n",
    "from sklearn.metrics import f1_score\n",
    "\n",
    "# plotting\n",
    "from plotting import plot_learning_curve, plot_validation_curve\n",
    "\n"
   ]
  },
  {
   "cell_type": "markdown",
   "metadata": {},
   "source": [
    "# Detecting Spam with Decision Trees\n",
    "\n",
    "In the last assignment we worked with the spam database. We are going to do the same thing in this assignment and we will practice with the correct tools this time around. "
   ]
  },
  {
   "cell_type": "code",
   "execution_count": 2,
   "metadata": {},
   "outputs": [],
   "source": [
    "## we are going to hardcode the column names, because this just makes it a little easier to use pandas.\n",
    "\n",
    "names = ['word_freq_make:        ',\n",
    "'word_freq_address:     ',\n",
    "'word_freq_all:         ',\n",
    "'word_freq_3d:          ',\n",
    "'word_freq_our:         ',\n",
    "'word_freq_over:        ',\n",
    "'word_freq_remove:      ',\n",
    "'word_freq_internet:    ',\n",
    "'word_freq_order:       ',\n",
    "'word_freq_mail:        ',\n",
    "'word_freq_receive:     ',\n",
    "'word_freq_will:        ',\n",
    "'word_freq_people:      ',\n",
    "'word_freq_report:      ',\n",
    "'word_freq_addresses:   ',\n",
    "'word_freq_free:        ',\n",
    "'word_freq_business:    ',\n",
    "'word_freq_email:       ',\n",
    "'word_freq_you:         ',\n",
    "'word_freq_credit:      ',\n",
    "'word_freq_your:        ',\n",
    "'word_freq_font:        ',\n",
    "'word_freq_000:         ',\n",
    "'word_freq_money:       ',\n",
    "'word_freq_hp:          ',\n",
    "'word_freq_hpl:         ',\n",
    "'word_freq_george:      ',\n",
    "'word_freq_650:         ',\n",
    "'word_freq_lab:         ',\n",
    "'word_freq_labs:        ',\n",
    "'word_freq_telnet:      ',\n",
    "'word_freq_857:         ',\n",
    "'word_freq_data:        ',\n",
    "'word_freq_415:         ',\n",
    "'word_freq_85:          ',\n",
    "'word_freq_technology:  ',\n",
    "'word_freq_1999:        ',\n",
    "'word_freq_parts:       ',\n",
    "'word_freq_pm:          ',\n",
    "'word_freq_direct:      ',\n",
    "'word_freq_cs:          ',\n",
    "'word_freq_meeting:     ',\n",
    "'word_freq_original:    ',\n",
    "'word_freq_project:     ',\n",
    "'word_freq_re:          ',\n",
    "'word_freq_edu:         ',\n",
    "'word_freq_table:       ',\n",
    "'word_freq_conference:  ',\n",
    "'char_freq_;:           ',\n",
    "'char_freq_(:           ',\n",
    "'char_freq_[:           ',\n",
    "'char_freq_!:           ',\n",
    "'char_freq_$:           ',\n",
    "'char_freq_#:           ',\n",
    "'capital_run_length_average',\n",
    "'capital_run_length_longest',\n",
    "'capital_run_length_total: ',\n",
    "'label']\n",
    "          "
   ]
  },
  {
   "cell_type": "code",
   "execution_count": 3,
   "metadata": {},
   "outputs": [
    {
     "data": {
      "text/html": [
       "<div>\n",
       "<style scoped>\n",
       "    .dataframe tbody tr th:only-of-type {\n",
       "        vertical-align: middle;\n",
       "    }\n",
       "\n",
       "    .dataframe tbody tr th {\n",
       "        vertical-align: top;\n",
       "    }\n",
       "\n",
       "    .dataframe thead th {\n",
       "        text-align: right;\n",
       "    }\n",
       "</style>\n",
       "<table border=\"1\" class=\"dataframe\">\n",
       "  <thead>\n",
       "    <tr style=\"text-align: right;\">\n",
       "      <th></th>\n",
       "      <th>word_freq_make:</th>\n",
       "      <th>word_freq_address:</th>\n",
       "      <th>word_freq_all:</th>\n",
       "      <th>word_freq_3d:</th>\n",
       "      <th>word_freq_our:</th>\n",
       "      <th>word_freq_over:</th>\n",
       "      <th>word_freq_remove:</th>\n",
       "      <th>word_freq_internet:</th>\n",
       "      <th>word_freq_order:</th>\n",
       "      <th>word_freq_mail:</th>\n",
       "      <th>...</th>\n",
       "      <th>char_freq_;:</th>\n",
       "      <th>char_freq_(:</th>\n",
       "      <th>char_freq_[:</th>\n",
       "      <th>char_freq_!:</th>\n",
       "      <th>char_freq_$:</th>\n",
       "      <th>char_freq_#:</th>\n",
       "      <th>capital_run_length_average</th>\n",
       "      <th>capital_run_length_longest</th>\n",
       "      <th>capital_run_length_total:</th>\n",
       "      <th>label</th>\n",
       "    </tr>\n",
       "  </thead>\n",
       "  <tbody>\n",
       "    <tr>\n",
       "      <th>0</th>\n",
       "      <td>0.00</td>\n",
       "      <td>0.64</td>\n",
       "      <td>0.64</td>\n",
       "      <td>0.0</td>\n",
       "      <td>0.32</td>\n",
       "      <td>0.00</td>\n",
       "      <td>0.00</td>\n",
       "      <td>0.00</td>\n",
       "      <td>0.00</td>\n",
       "      <td>0.00</td>\n",
       "      <td>...</td>\n",
       "      <td>0.00</td>\n",
       "      <td>0.000</td>\n",
       "      <td>0.0</td>\n",
       "      <td>0.778</td>\n",
       "      <td>0.000</td>\n",
       "      <td>0.000</td>\n",
       "      <td>3.756</td>\n",
       "      <td>61</td>\n",
       "      <td>278</td>\n",
       "      <td>1</td>\n",
       "    </tr>\n",
       "    <tr>\n",
       "      <th>1</th>\n",
       "      <td>0.21</td>\n",
       "      <td>0.28</td>\n",
       "      <td>0.50</td>\n",
       "      <td>0.0</td>\n",
       "      <td>0.14</td>\n",
       "      <td>0.28</td>\n",
       "      <td>0.21</td>\n",
       "      <td>0.07</td>\n",
       "      <td>0.00</td>\n",
       "      <td>0.94</td>\n",
       "      <td>...</td>\n",
       "      <td>0.00</td>\n",
       "      <td>0.132</td>\n",
       "      <td>0.0</td>\n",
       "      <td>0.372</td>\n",
       "      <td>0.180</td>\n",
       "      <td>0.048</td>\n",
       "      <td>5.114</td>\n",
       "      <td>101</td>\n",
       "      <td>1028</td>\n",
       "      <td>1</td>\n",
       "    </tr>\n",
       "    <tr>\n",
       "      <th>2</th>\n",
       "      <td>0.06</td>\n",
       "      <td>0.00</td>\n",
       "      <td>0.71</td>\n",
       "      <td>0.0</td>\n",
       "      <td>1.23</td>\n",
       "      <td>0.19</td>\n",
       "      <td>0.19</td>\n",
       "      <td>0.12</td>\n",
       "      <td>0.64</td>\n",
       "      <td>0.25</td>\n",
       "      <td>...</td>\n",
       "      <td>0.01</td>\n",
       "      <td>0.143</td>\n",
       "      <td>0.0</td>\n",
       "      <td>0.276</td>\n",
       "      <td>0.184</td>\n",
       "      <td>0.010</td>\n",
       "      <td>9.821</td>\n",
       "      <td>485</td>\n",
       "      <td>2259</td>\n",
       "      <td>1</td>\n",
       "    </tr>\n",
       "    <tr>\n",
       "      <th>3</th>\n",
       "      <td>0.00</td>\n",
       "      <td>0.00</td>\n",
       "      <td>0.00</td>\n",
       "      <td>0.0</td>\n",
       "      <td>0.63</td>\n",
       "      <td>0.00</td>\n",
       "      <td>0.31</td>\n",
       "      <td>0.63</td>\n",
       "      <td>0.31</td>\n",
       "      <td>0.63</td>\n",
       "      <td>...</td>\n",
       "      <td>0.00</td>\n",
       "      <td>0.137</td>\n",
       "      <td>0.0</td>\n",
       "      <td>0.137</td>\n",
       "      <td>0.000</td>\n",
       "      <td>0.000</td>\n",
       "      <td>3.537</td>\n",
       "      <td>40</td>\n",
       "      <td>191</td>\n",
       "      <td>1</td>\n",
       "    </tr>\n",
       "    <tr>\n",
       "      <th>4</th>\n",
       "      <td>0.00</td>\n",
       "      <td>0.00</td>\n",
       "      <td>0.00</td>\n",
       "      <td>0.0</td>\n",
       "      <td>0.63</td>\n",
       "      <td>0.00</td>\n",
       "      <td>0.31</td>\n",
       "      <td>0.63</td>\n",
       "      <td>0.31</td>\n",
       "      <td>0.63</td>\n",
       "      <td>...</td>\n",
       "      <td>0.00</td>\n",
       "      <td>0.135</td>\n",
       "      <td>0.0</td>\n",
       "      <td>0.135</td>\n",
       "      <td>0.000</td>\n",
       "      <td>0.000</td>\n",
       "      <td>3.537</td>\n",
       "      <td>40</td>\n",
       "      <td>191</td>\n",
       "      <td>1</td>\n",
       "    </tr>\n",
       "    <tr>\n",
       "      <th>5</th>\n",
       "      <td>0.00</td>\n",
       "      <td>0.00</td>\n",
       "      <td>0.00</td>\n",
       "      <td>0.0</td>\n",
       "      <td>1.85</td>\n",
       "      <td>0.00</td>\n",
       "      <td>0.00</td>\n",
       "      <td>1.85</td>\n",
       "      <td>0.00</td>\n",
       "      <td>0.00</td>\n",
       "      <td>...</td>\n",
       "      <td>0.00</td>\n",
       "      <td>0.223</td>\n",
       "      <td>0.0</td>\n",
       "      <td>0.000</td>\n",
       "      <td>0.000</td>\n",
       "      <td>0.000</td>\n",
       "      <td>3.000</td>\n",
       "      <td>15</td>\n",
       "      <td>54</td>\n",
       "      <td>1</td>\n",
       "    </tr>\n",
       "    <tr>\n",
       "      <th>6</th>\n",
       "      <td>0.00</td>\n",
       "      <td>0.00</td>\n",
       "      <td>0.00</td>\n",
       "      <td>0.0</td>\n",
       "      <td>1.92</td>\n",
       "      <td>0.00</td>\n",
       "      <td>0.00</td>\n",
       "      <td>0.00</td>\n",
       "      <td>0.00</td>\n",
       "      <td>0.64</td>\n",
       "      <td>...</td>\n",
       "      <td>0.00</td>\n",
       "      <td>0.054</td>\n",
       "      <td>0.0</td>\n",
       "      <td>0.164</td>\n",
       "      <td>0.054</td>\n",
       "      <td>0.000</td>\n",
       "      <td>1.671</td>\n",
       "      <td>4</td>\n",
       "      <td>112</td>\n",
       "      <td>1</td>\n",
       "    </tr>\n",
       "    <tr>\n",
       "      <th>7</th>\n",
       "      <td>0.00</td>\n",
       "      <td>0.00</td>\n",
       "      <td>0.00</td>\n",
       "      <td>0.0</td>\n",
       "      <td>1.88</td>\n",
       "      <td>0.00</td>\n",
       "      <td>0.00</td>\n",
       "      <td>1.88</td>\n",
       "      <td>0.00</td>\n",
       "      <td>0.00</td>\n",
       "      <td>...</td>\n",
       "      <td>0.00</td>\n",
       "      <td>0.206</td>\n",
       "      <td>0.0</td>\n",
       "      <td>0.000</td>\n",
       "      <td>0.000</td>\n",
       "      <td>0.000</td>\n",
       "      <td>2.450</td>\n",
       "      <td>11</td>\n",
       "      <td>49</td>\n",
       "      <td>1</td>\n",
       "    </tr>\n",
       "    <tr>\n",
       "      <th>8</th>\n",
       "      <td>0.15</td>\n",
       "      <td>0.00</td>\n",
       "      <td>0.46</td>\n",
       "      <td>0.0</td>\n",
       "      <td>0.61</td>\n",
       "      <td>0.00</td>\n",
       "      <td>0.30</td>\n",
       "      <td>0.00</td>\n",
       "      <td>0.92</td>\n",
       "      <td>0.76</td>\n",
       "      <td>...</td>\n",
       "      <td>0.00</td>\n",
       "      <td>0.271</td>\n",
       "      <td>0.0</td>\n",
       "      <td>0.181</td>\n",
       "      <td>0.203</td>\n",
       "      <td>0.022</td>\n",
       "      <td>9.744</td>\n",
       "      <td>445</td>\n",
       "      <td>1257</td>\n",
       "      <td>1</td>\n",
       "    </tr>\n",
       "    <tr>\n",
       "      <th>9</th>\n",
       "      <td>0.06</td>\n",
       "      <td>0.12</td>\n",
       "      <td>0.77</td>\n",
       "      <td>0.0</td>\n",
       "      <td>0.19</td>\n",
       "      <td>0.32</td>\n",
       "      <td>0.38</td>\n",
       "      <td>0.00</td>\n",
       "      <td>0.06</td>\n",
       "      <td>0.00</td>\n",
       "      <td>...</td>\n",
       "      <td>0.04</td>\n",
       "      <td>0.030</td>\n",
       "      <td>0.0</td>\n",
       "      <td>0.244</td>\n",
       "      <td>0.081</td>\n",
       "      <td>0.000</td>\n",
       "      <td>1.729</td>\n",
       "      <td>43</td>\n",
       "      <td>749</td>\n",
       "      <td>1</td>\n",
       "    </tr>\n",
       "  </tbody>\n",
       "</table>\n",
       "<p>10 rows × 58 columns</p>\n",
       "</div>"
      ],
      "text/plain": [
       "   word_freq_make:          word_freq_address:       word_freq_all:           \\\n",
       "0                     0.00                     0.64                     0.64   \n",
       "1                     0.21                     0.28                     0.50   \n",
       "2                     0.06                     0.00                     0.71   \n",
       "3                     0.00                     0.00                     0.00   \n",
       "4                     0.00                     0.00                     0.00   \n",
       "5                     0.00                     0.00                     0.00   \n",
       "6                     0.00                     0.00                     0.00   \n",
       "7                     0.00                     0.00                     0.00   \n",
       "8                     0.15                     0.00                     0.46   \n",
       "9                     0.06                     0.12                     0.77   \n",
       "\n",
       "   word_freq_3d:            word_freq_our:           word_freq_over:          \\\n",
       "0                      0.0                     0.32                     0.00   \n",
       "1                      0.0                     0.14                     0.28   \n",
       "2                      0.0                     1.23                     0.19   \n",
       "3                      0.0                     0.63                     0.00   \n",
       "4                      0.0                     0.63                     0.00   \n",
       "5                      0.0                     1.85                     0.00   \n",
       "6                      0.0                     1.92                     0.00   \n",
       "7                      0.0                     1.88                     0.00   \n",
       "8                      0.0                     0.61                     0.00   \n",
       "9                      0.0                     0.19                     0.32   \n",
       "\n",
       "   word_freq_remove:        word_freq_internet:      word_freq_order:         \\\n",
       "0                     0.00                     0.00                     0.00   \n",
       "1                     0.21                     0.07                     0.00   \n",
       "2                     0.19                     0.12                     0.64   \n",
       "3                     0.31                     0.63                     0.31   \n",
       "4                     0.31                     0.63                     0.31   \n",
       "5                     0.00                     1.85                     0.00   \n",
       "6                     0.00                     0.00                     0.00   \n",
       "7                     0.00                     1.88                     0.00   \n",
       "8                     0.30                     0.00                     0.92   \n",
       "9                     0.38                     0.00                     0.06   \n",
       "\n",
       "   word_freq_mail:          ...  char_freq_;:             \\\n",
       "0                     0.00  ...                     0.00   \n",
       "1                     0.94  ...                     0.00   \n",
       "2                     0.25  ...                     0.01   \n",
       "3                     0.63  ...                     0.00   \n",
       "4                     0.63  ...                     0.00   \n",
       "5                     0.00  ...                     0.00   \n",
       "6                     0.64  ...                     0.00   \n",
       "7                     0.00  ...                     0.00   \n",
       "8                     0.76  ...                     0.00   \n",
       "9                     0.00  ...                     0.04   \n",
       "\n",
       "   char_freq_(:             char_freq_[:             char_freq_!:             \\\n",
       "0                    0.000                      0.0                    0.778   \n",
       "1                    0.132                      0.0                    0.372   \n",
       "2                    0.143                      0.0                    0.276   \n",
       "3                    0.137                      0.0                    0.137   \n",
       "4                    0.135                      0.0                    0.135   \n",
       "5                    0.223                      0.0                    0.000   \n",
       "6                    0.054                      0.0                    0.164   \n",
       "7                    0.206                      0.0                    0.000   \n",
       "8                    0.271                      0.0                    0.181   \n",
       "9                    0.030                      0.0                    0.244   \n",
       "\n",
       "   char_freq_$:             char_freq_#:             \\\n",
       "0                    0.000                    0.000   \n",
       "1                    0.180                    0.048   \n",
       "2                    0.184                    0.010   \n",
       "3                    0.000                    0.000   \n",
       "4                    0.000                    0.000   \n",
       "5                    0.000                    0.000   \n",
       "6                    0.054                    0.000   \n",
       "7                    0.000                    0.000   \n",
       "8                    0.203                    0.022   \n",
       "9                    0.081                    0.000   \n",
       "\n",
       "   capital_run_length_average  capital_run_length_longest  \\\n",
       "0                       3.756                          61   \n",
       "1                       5.114                         101   \n",
       "2                       9.821                         485   \n",
       "3                       3.537                          40   \n",
       "4                       3.537                          40   \n",
       "5                       3.000                          15   \n",
       "6                       1.671                           4   \n",
       "7                       2.450                          11   \n",
       "8                       9.744                         445   \n",
       "9                       1.729                          43   \n",
       "\n",
       "   capital_run_length_total:   label  \n",
       "0                         278      1  \n",
       "1                        1028      1  \n",
       "2                        2259      1  \n",
       "3                         191      1  \n",
       "4                         191      1  \n",
       "5                          54      1  \n",
       "6                         112      1  \n",
       "7                          49      1  \n",
       "8                        1257      1  \n",
       "9                         749      1  \n",
       "\n",
       "[10 rows x 58 columns]"
      ]
     },
     "execution_count": 3,
     "metadata": {},
     "output_type": "execute_result"
    }
   ],
   "source": [
    "data = pd.read_csv('spambase/spambase.csv', names = names)\n",
    "data.head(10)"
   ]
  },
  {
   "cell_type": "code",
   "execution_count": 4,
   "metadata": {},
   "outputs": [],
   "source": [
    "## Load in the dataset here \n",
    "\n",
    "data = pd.read_csv('spambase/spambase.csv', names = names)\n",
    "X = data.drop('label', axis = 1)\n",
    "y = data.label"
   ]
  },
  {
   "cell_type": "code",
   "execution_count": 5,
   "metadata": {},
   "outputs": [],
   "source": [
    "# this time we will keep a bit more data for training and validation.\n",
    "X_train, X_test, y_train, y_test = train_test_split(X, y, train_size=.8, stratify = y)"
   ]
  },
  {
   "cell_type": "markdown",
   "metadata": {},
   "source": [
    "## 1. Evaluate your classifier using 5 fold cross validation.\n",
    "\n",
    "Do you see any variance in different runs?\n",
    "Why do you think this is happening?\n"
   ]
  },
  {
   "cell_type": "code",
   "execution_count": 6,
   "metadata": {},
   "outputs": [],
   "source": [
    "# create a default decision tree model\n",
    "clf = DecisionTreeClassifier()\n",
    "# clf.fit(X_train, y_train)\n",
    "# train_predictions = dtc.predict(X_train)\n",
    "\n",
    "# create a stratifiedKfold cv object -- we want stratified to keep the class balance across folds\n",
    "cv = StratifiedKFold(n_splits = 5)  # set it for 5 folds\n",
    "\n",
    "# get the scores back using the helper function, make sure to pass a scoring function string - otherwise you default to accuracy\n",
    "scores = cross_val_score(clf, X_train, y_train, scoring = 'f1', cv = cv)"
   ]
  },
  {
   "cell_type": "code",
   "execution_count": 7,
   "metadata": {},
   "outputs": [
    {
     "name": "stdout",
     "output_type": "stream",
     "text": [
      "[0.89001692 0.88205128 0.87179487 0.88316151 0.90401396]\n"
     ]
    }
   ],
   "source": [
    "print(scores)"
   ]
  },
  {
   "cell_type": "code",
   "execution_count": 8,
   "metadata": {},
   "outputs": [
    {
     "name": "stdout",
     "output_type": "stream",
     "text": [
      "0.8862077095906006\n"
     ]
    }
   ],
   "source": [
    "print(scores.mean())"
   ]
  },
  {
   "cell_type": "markdown",
   "metadata": {},
   "source": [
    "### Looking for variance in the runs\n",
    "\n",
    "How much do the runs change over time? Let's run a for-loop and check.  In fact, that's exactly what shuffle split will do for us, so we can just run 100 iterations with 25% held out as validations - this will mimick 5-fold CV in the long run. "
   ]
  },
  {
   "cell_type": "code",
   "execution_count": 9,
   "metadata": {},
   "outputs": [],
   "source": [
    "sss_split = StratifiedShuffleSplit(n_splits = 100, test_size=.25) # fill in the params\n",
    "scores_sss = cross_val_score(clf, X_train, y_train, scoring = 'f1', cv = sss_split)"
   ]
  },
  {
   "cell_type": "code",
   "execution_count": 10,
   "metadata": {},
   "outputs": [
    {
     "name": "stdout",
     "output_type": "stream",
     "text": [
      "[0.91056911 0.88919668 0.8913649  0.86021505 0.89626556 0.86295794\n",
      " 0.88674033 0.88259109 0.90959666 0.86675639 0.88705234 0.87837838\n",
      " 0.88676671 0.88333333 0.89437586 0.87621697 0.87431694 0.87656033\n",
      " 0.87201125 0.89807163 0.87845304 0.91011236 0.87858117 0.88219178\n",
      " 0.87637363 0.8909825  0.88445078 0.87585266 0.89863014 0.87837838\n",
      " 0.8767507  0.90707351 0.87029289 0.88098495 0.89192886 0.87811634\n",
      " 0.88423989 0.87483176 0.88290713 0.87179487 0.88340192 0.87114846\n",
      " 0.87359551 0.87989204 0.88088643 0.89068826 0.86021505 0.88767123\n",
      " 0.85871056 0.89903181 0.8739726  0.86638537 0.89701897 0.8956044\n",
      " 0.85195531 0.86797753 0.86813187 0.8707483  0.87587169 0.88101983\n",
      " 0.86703601 0.86980609 0.90418354 0.89192886 0.88088643 0.89130435\n",
      " 0.87131367 0.89285714 0.87924016 0.87989204 0.88315217 0.89807163\n",
      " 0.88980716 0.87335092 0.87014726 0.86756757 0.8551532  0.86871508\n",
      " 0.87308229 0.87234043 0.88340192 0.88529015 0.87933426 0.87087912\n",
      " 0.90055249 0.87136929 0.8852459  0.89779006 0.89795918 0.87903226\n",
      " 0.89385475 0.88359046 0.88359046 0.89044944 0.88340192 0.87343533\n",
      " 0.88429752 0.87123288 0.8630137  0.89784946]\n"
     ]
    }
   ],
   "source": [
    "# print at your own risk!\n",
    "print (scores_sss)"
   ]
  },
  {
   "cell_type": "code",
   "execution_count": 11,
   "metadata": {},
   "outputs": [
    {
     "data": {
      "text/plain": [
       "0.8814559849305782"
      ]
     },
     "execution_count": 11,
     "metadata": {},
     "output_type": "execute_result"
    }
   ],
   "source": [
    "scores_sss.mean()"
   ]
  },
  {
   "cell_type": "markdown",
   "metadata": {},
   "source": [
    "### Plotting a histogram of the runs\n",
    "\n",
    "So we want to look for variance or variation in the runs. It's not easy to just look at a large list of scores and get any idea, so I will plot a histogram which should show us the distribution of results."
   ]
  },
  {
   "cell_type": "code",
   "execution_count": 12,
   "metadata": {},
   "outputs": [
    {
     "name": "stderr",
     "output_type": "stream",
     "text": [
      "/home/mark/anaconda3/envs/cn_ml_course/lib/python3.9/site-packages/seaborn/distributions.py:2557: FutureWarning: `distplot` is a deprecated function and will be removed in a future version. Please adapt your code to use either `displot` (a figure-level function with similar flexibility) or `histplot` (an axes-level function for histograms).\n",
      "  warnings.warn(msg, FutureWarning)\n"
     ]
    },
    {
     "data": {
      "image/png": "[encoded data removed]",
      "text/plain": [
       "<Figure size 720x432 with 1 Axes>"
      ]
     },
     "metadata": {},
     "output_type": "display_data"
    }
   ],
   "source": [
    "plt.figure(figsize=(10,6))\n",
    "sns.distplot(scores_sss, bins=15);  # go ahead and try different bins"
   ]
  },
  {
   "cell_type": "markdown",
   "metadata": {},
   "source": [
    "### What does the histogram tell you?\n",
    "\n",
    "What is the mean of the our model? What kind of variation can we expect?\n",
    "\n",
    "#### Your answer below : "
   ]
  },
  {
   "cell_type": "markdown",
   "metadata": {},
   "source": [
    "0.8814559849305782 is the mean.  It looks like the standard deviation would be something like 2%."
   ]
  },
  {
   "cell_type": "markdown",
   "metadata": {},
   "source": [
    "## 2. Tune your models hyper-parameters with Gridsearch\n",
    "\n",
    "Choose at least **3** parameters with **3** values each (total **9**) to search over\n",
    "When you create your GridSearchCV object make sure to set the following\n",
    "\n",
    "1. cv object - which CV do you want to use? This will be run for every experiment, so if you do 100 sss, then you get 100 experiments for every parameter setting! This will add up fast. So make sure to choose something reasonable.\n",
    "2. scoring parameter - never forget this!\n",
    "\n",
    "If you don't set the above, GridSearchCV will default to kfold=5 for the CV and accuracy for the scoring parameter.  kfold=5 isn't the worst (stratifiedkfold is better for us), but accuracy is really wrong for this dataset since it's unbalanced and a spam dataset.\n",
    "\n",
    "Quiz Question: How many different trees will get made during your grid-search? You need to do the math on the number of splits per CV * number of combination from your grid-search.\n",
    "\n"
   ]
  },
  {
   "cell_type": "code",
   "execution_count": 14,
   "metadata": {},
   "outputs": [],
   "source": [
    "# you need to setup a paramgrid.  I will give you one example\n",
    "\n",
    "param_grid = {'max_depth':[2,10,20,30]} # will check max depth for those four parameters."
   ]
  },
  {
   "cell_type": "code",
   "execution_count": 15,
   "metadata": {},
   "outputs": [],
   "source": [
    "## make a gridsearch object and pass all the needed parameters.\n",
    "#clf = clf = DecisionTreeClassifier()\n",
    "#clf.fit(X_train, y_train)\n",
    "param_grid = [{'min_samples_split':[2, 4, 8]}, {'min_samples_leaf':[2, 4, 8]}, {'max_depth':[10, 20, 40]}]\n",
    "ss_split = StratifiedShuffleSplit(n_splits = 25, test_size=.25)\n",
    "grid_search_scores = GridSearchCV(clf, param_grid = param_grid, scoring = 'f1', cv = ss_split)"
   ]
  },
  {
   "cell_type": "code",
   "execution_count": 16,
   "metadata": {},
   "outputs": [
    {
     "data": {
      "text/plain": [
       "GridSearchCV(cv=StratifiedShuffleSplit(n_splits=25, random_state=None, test_size=0.25,\n",
       "            train_size=None),\n",
       "             estimator=DecisionTreeClassifier(),\n",
       "             param_grid=[{'min_samples_split': [2, 4, 8]},\n",
       "                         {'min_samples_leaf': [2, 4, 8]},\n",
       "                         {'max_depth': [10, 20, 40]}],\n",
       "             scoring='f1')"
      ]
     },
     "execution_count": 16,
     "metadata": {},
     "output_type": "execute_result"
    }
   ],
   "source": [
    "# fit your grid-search! - it's an estimator so you fit it like a normal model.\n",
    "grid_search_scores.fit(X_train, y_train)"
   ]
  },
  {
   "cell_type": "code",
   "execution_count": null,
   "metadata": {},
   "outputs": [],
   "source": []
  },
  {
   "cell_type": "markdown",
   "metadata": {},
   "source": [
    "## 2.1: Gridsearch Results \n",
    "\n",
    "1. What are the final parameters that were best?  (grid.best_params_)\n",
    "2. What was your models best score? (grid.best_score_)\n",
    "3. You can also print out the best estimator with grid.best_estimator_\n",
    "4. Go ahead and put your grid results into a dataframe. \n",
    "\n"
   ]
  },
  {
   "cell_type": "code",
   "execution_count": 20,
   "metadata": {},
   "outputs": [
    {
     "data": {
      "text/plain": [
       "{'max_depth': 10}"
      ]
     },
     "execution_count": 20,
     "metadata": {},
     "output_type": "execute_result"
    }
   ],
   "source": [
    "grid_search_scores.best_params_"
   ]
  },
  {
   "cell_type": "code",
   "execution_count": 21,
   "metadata": {},
   "outputs": [
    {
     "data": {
      "text/plain": [
       "0.8900407426656952"
      ]
     },
     "execution_count": 21,
     "metadata": {},
     "output_type": "execute_result"
    }
   ],
   "source": [
    "grid_search_scores.best_score_"
   ]
  },
  {
   "cell_type": "code",
   "execution_count": 22,
   "metadata": {},
   "outputs": [
    {
     "data": {
      "text/plain": [
       "DecisionTreeClassifier(max_depth=10)"
      ]
     },
     "execution_count": 22,
     "metadata": {},
     "output_type": "execute_result"
    }
   ],
   "source": [
    "grid_search_scores.best_estimator_"
   ]
  },
  {
   "cell_type": "code",
   "execution_count": null,
   "metadata": {},
   "outputs": [],
   "source": []
  },
  {
   "cell_type": "code",
   "execution_count": 23,
   "metadata": {
    "tags": []
   },
   "outputs": [],
   "source": [
    "results = pd.DataFrame(grid.cv_results_)"
   ]
  },
  {
   "cell_type": "code",
   "execution_count": 28,
   "metadata": {},
   "outputs": [
    {
     "name": "stdout",
     "output_type": "stream",
     "text": [
      "   mean_fit_time  std_fit_time  mean_score_time  std_score_time  \\\n",
      "0       0.033282      0.002919         0.002405        0.000327   \n",
      "1       0.032860      0.002685         0.002367        0.000228   \n",
      "2       0.032671      0.002867         0.002353        0.000180   \n",
      "3       0.030848      0.003044         0.002359        0.000196   \n",
      "4       0.028794      0.002254         0.002519        0.000261   \n",
      "5       0.024131      0.002173         0.002455        0.000369   \n",
      "6       0.022520      0.000791         0.002316        0.000249   \n",
      "7       0.030856      0.002312         0.002283        0.000099   \n",
      "8       0.032715      0.002357         0.002306        0.000145   \n",
      "\n",
      "  param_min_samples_split param_min_samples_leaf param_max_depth  \\\n",
      "0                       2                    NaN             NaN   \n",
      "1                       4                    NaN             NaN   \n",
      "2                       8                    NaN             NaN   \n",
      "3                     NaN                      2             NaN   \n",
      "4                     NaN                      4             NaN   \n",
      "5                     NaN                      8             NaN   \n",
      "6                     NaN                    NaN              10   \n",
      "7                     NaN                    NaN              20   \n",
      "8                     NaN                    NaN              40   \n",
      "\n",
      "                     params  split0_test_score  split1_test_score  ...  \\\n",
      "0  {'min_samples_split': 2}           0.905501           0.878661  ...   \n",
      "1  {'min_samples_split': 4}           0.897727           0.882682  ...   \n",
      "2  {'min_samples_split': 8}           0.904422           0.891061  ...   \n",
      "3   {'min_samples_leaf': 2}           0.880918           0.879774  ...   \n",
      "4   {'min_samples_leaf': 4}           0.898592           0.887967  ...   \n",
      "5   {'min_samples_leaf': 8}           0.889831           0.872222  ...   \n",
      "6         {'max_depth': 10}           0.893372           0.889831  ...   \n",
      "7         {'max_depth': 20}           0.888252           0.879552  ...   \n",
      "8         {'max_depth': 40}           0.891702           0.885475  ...   \n",
      "\n",
      "   split18_test_score  split19_test_score  split20_test_score  \\\n",
      "0            0.849239            0.871866            0.898470   \n",
      "1            0.846047            0.877637            0.896552   \n",
      "2            0.863128            0.872370            0.894150   \n",
      "3            0.856738            0.873400            0.865169   \n",
      "4            0.860724            0.868195            0.887052   \n",
      "5            0.871429            0.862518            0.889205   \n",
      "6            0.874644            0.885714            0.898876   \n",
      "7            0.863889            0.864865            0.894515   \n",
      "8            0.867403            0.869081            0.887671   \n",
      "\n",
      "   split21_test_score  split22_test_score  split23_test_score  \\\n",
      "0            0.870396            0.878322            0.888291   \n",
      "1            0.872428            0.875872            0.889495   \n",
      "2            0.874317            0.871508            0.891304   \n",
      "3            0.872370            0.875706            0.894737   \n",
      "4            0.867503            0.872881            0.877778   \n",
      "5            0.866760            0.865546            0.905817   \n",
      "6            0.880785            0.877493            0.889819   \n",
      "7            0.873626            0.879433            0.889197   \n",
      "8            0.873124            0.865014            0.888291   \n",
      "\n",
      "   split24_test_score  mean_test_score  std_test_score  rank_test_score  \n",
      "0            0.884932         0.880432        0.015091                6  \n",
      "1            0.899863         0.881113        0.013542                5  \n",
      "2            0.891632         0.884230        0.013356                2  \n",
      "3            0.887006         0.878688        0.011372                9  \n",
      "4            0.887955         0.880010        0.010357                7  \n",
      "5            0.893855         0.881979        0.012657                3  \n",
      "6            0.905501         0.890041        0.013156                1  \n",
      "7            0.892857         0.881895        0.012810                4  \n",
      "8            0.897222         0.879590        0.012100                8  \n",
      "\n",
      "[9 rows x 36 columns]\n"
     ]
    }
   ],
   "source": [
    "print(results)"
   ]
  },
  {
   "cell_type": "markdown",
   "metadata": {},
   "source": [
    "## 3.  Randomized Search\n",
    "\n",
    "#### Step 1, Distributions\n",
    "In order to do randomized search we need to draw from a distribution.  This can be a bit confusing so I will first just plot some distributions for you, then it will be pretty clear which ones we want to draw from.\n",
    "\n",
    "For decision trees most of the parameters we want to try out are integers. `min_samples_split`, `max_depth`, etc they are all integer numbers. So I will focus on distributions which draw integers"
   ]
  },
  {
   "cell_type": "code",
   "execution_count": 24,
   "metadata": {},
   "outputs": [],
   "source": [
    "import scipy"
   ]
  },
  {
   "cell_type": "code",
   "execution_count": 25,
   "metadata": {},
   "outputs": [
    {
     "name": "stderr",
     "output_type": "stream",
     "text": [
      "/home/mark/anaconda3/envs/cn_ml_course/lib/python3.9/site-packages/seaborn/distributions.py:2557: FutureWarning: `distplot` is a deprecated function and will be removed in a future version. Please adapt your code to use either `displot` (a figure-level function with similar flexibility) or `histplot` (an axes-level function for histograms).\n",
      "  warnings.warn(msg, FutureWarning)\n"
     ]
    },
    {
     "data": {
      "image/png": "[encoded data removed]",
      "text/plain": [
       "<Figure size 432x288 with 1 Axes>"
      ]
     },
     "metadata": {},
     "output_type": "display_data"
    }
   ],
   "source": [
    "sns.distplot(scipy.stats.norm(5, scale=2).rvs(1000));"
   ]
  },
  {
   "cell_type": "markdown",
   "metadata": {},
   "source": [
    "This is the gaussian or normal distribution.  In fact, we can't use it because it doesn't draw integers-- but I just wanted to show it to you! Well I suppose we could use it and then convert the output to integers."
   ]
  },
  {
   "cell_type": "code",
   "execution_count": 26,
   "metadata": {},
   "outputs": [
    {
     "name": "stderr",
     "output_type": "stream",
     "text": [
      "/home/mark/anaconda3/envs/cn_ml_course/lib/python3.9/site-packages/seaborn/distributions.py:2557: FutureWarning: `distplot` is a deprecated function and will be removed in a future version. Please adapt your code to use either `displot` (a figure-level function with similar flexibility) or `histplot` (an axes-level function for histograms).\n",
      "  warnings.warn(msg, FutureWarning)\n"
     ]
    },
    {
     "data": {
      "image/png": "[encoded data removed]",
      "text/plain": [
       "<Figure size 432x288 with 1 Axes>"
      ]
     },
     "metadata": {},
     "output_type": "display_data"
    }
   ],
   "source": [
    "numbers = scipy.stats.norm(5, scale=2).rvs(1000)\n",
    "sns.distplot(numbers.astype(int)); "
   ]
  },
  {
   "cell_type": "markdown",
   "metadata": {},
   "source": [
    "So we can use the gaussian and convert to integers, or we can draw from a uniform random distribution. That's plotted below. It basically says \"pick a random number! Any random number!\""
   ]
  },
  {
   "cell_type": "code",
   "execution_count": 27,
   "metadata": {},
   "outputs": [
    {
     "name": "stderr",
     "output_type": "stream",
     "text": [
      "/home/mark/anaconda3/envs/cn_ml_course/lib/python3.9/site-packages/seaborn/distributions.py:2557: FutureWarning: `distplot` is a deprecated function and will be removed in a future version. Please adapt your code to use either `displot` (a figure-level function with similar flexibility) or `histplot` (an axes-level function for histograms).\n",
      "  warnings.warn(msg, FutureWarning)\n"
     ]
    },
    {
     "data": {
      "image/png": "[encoded data removed]",
      "text/plain": [
       "<Figure size 432x288 with 1 Axes>"
      ]
     },
     "metadata": {},
     "output_type": "display_data"
    }
   ],
   "source": [
    "sns.distplot(scipy.stats.randint(0,50).rvs(1000));"
   ]
  },
  {
   "cell_type": "markdown",
   "metadata": {},
   "source": [
    "So we need to choose a distribution for our grid-search. Based on what area we want to search we can choose uniform or int-converted gaussian. If we choose guassian we can \"target\" it by adjusting the mean and std, similarly we can set the range on the uniform distribution (the low and high ends).  You can decide what you want for your distribution. I will give you on example of how to setup the paramter grid for randomized search below."
   ]
  },
  {
   "cell_type": "code",
   "execution_count": null,
   "metadata": {},
   "outputs": [],
   "source": [
    "rand_params = { 'max_depth': scipy.stats.randint(2,100),}\n",
    "\n",
    "## note that we don't say \"how many\" samples to draw in the param grid.\n",
    "## We will do that below when we create the RandomizedSearchCV object"
   ]
  },
  {
   "cell_type": "markdown",
   "metadata": {},
   "source": [
    "Note that we don't say \"how many\" samples to draw in the param grid. We will do that below when we create the RandomizedSearchCV object. You need to set the following\n",
    "* estimator\n",
    "* params\n",
    "* n_iters (this decides how many times to sample from the distribution per setting)\n",
    "* scoring\n",
    "* cv"
   ]
  },
  {
   "cell_type": "code",
   "execution_count": null,
   "metadata": {},
   "outputs": [],
   "source": [
    "rand_search = RandomizedSearchCV()"
   ]
  },
  {
   "cell_type": "code",
   "execution_count": null,
   "metadata": {},
   "outputs": [],
   "source": []
  },
  {
   "cell_type": "markdown",
   "metadata": {},
   "source": [
    "### Did you find different best parameters?\n",
    "Which method do you like more?\n",
    "What method do you think got better results?\n",
    "Why? Why not?\n",
    "\n"
   ]
  },
  {
   "cell_type": "markdown",
   "metadata": {},
   "source": [
    "### You answers here"
   ]
  },
  {
   "cell_type": "code",
   "execution_count": null,
   "metadata": {},
   "outputs": [],
   "source": []
  },
  {
   "cell_type": "code",
   "execution_count": null,
   "metadata": {},
   "outputs": [],
   "source": []
  },
  {
   "cell_type": "code",
   "execution_count": null,
   "metadata": {},
   "outputs": [],
   "source": []
  },
  {
   "cell_type": "markdown",
   "metadata": {},
   "source": [
    "## 4. Validate your classifier using\n",
    "\n",
    "1. Learning Curve\n",
    "2. Validation Curves (complexity graph)\n",
    "\n",
    "Please plot at least 3 different validation curves for 3 different hyper-parameters than you can tune.\n",
    "\n",
    "You can (and should) use the imported functions `plot_validation_curve` and `plot_learning_curve`. These functions are originally found on sklearn's site but I did modify them slightly for our use. You can check out the full code in plotting.py, which also contains links to the original source code."
   ]
  },
  {
   "cell_type": "code",
   "execution_count": null,
   "metadata": {},
   "outputs": [],
   "source": []
  },
  {
   "cell_type": "code",
   "execution_count": null,
   "metadata": {},
   "outputs": [],
   "source": []
  },
  {
   "cell_type": "code",
   "execution_count": null,
   "metadata": {},
   "outputs": [],
   "source": []
  },
  {
   "cell_type": "markdown",
   "metadata": {},
   "source": [
    "## 5. Choose your best parameters:\n",
    "\n",
    "Keep in mind that the random-search and grid-search will always maximize the validation score, even if it's in the area of overfitting. Looking at the validation curves you created, what you do think are the best parameter values?\n",
    "\n",
    "Now create a tree model with this and fit it."
   ]
  },
  {
   "cell_type": "code",
   "execution_count": null,
   "metadata": {},
   "outputs": [],
   "source": []
  },
  {
   "cell_type": "code",
   "execution_count": null,
   "metadata": {},
   "outputs": [],
   "source": []
  },
  {
   "cell_type": "code",
   "execution_count": null,
   "metadata": {},
   "outputs": [],
   "source": []
  },
  {
   "cell_type": "markdown",
   "metadata": {},
   "source": [
    "## 6. Looking at Feature Importances\n",
    "\n",
    "Decision trees have a nice property that they can automatically sort your features by importance. This just naturally falls out from the gini coefficient or the information gain ratio (whichever one you used).  Therefore we can run a little code and actually see which features our model found to be the most important.\n",
    "\n",
    "\n",
    "The code from Chris Albon below will help you do this, go ahead and run it."
   ]
  },
  {
   "cell_type": "code",
   "execution_count": null,
   "metadata": {},
   "outputs": [],
   "source": [
    "## https://chrisalbon.com/machine_learning/trees_and_forests/feature_importance/\n",
    "\n",
    "importances = my_fav_clf.feature_importances_\n",
    "\n",
    "indices = np.argsort(importances)[::-1]\n",
    "\n",
    "# rearrange feature names so they match the sorted feature names\n",
    "# I have my original names list of feature names, which corresponds to the features in the tree.\n",
    "f_names = [names[i] for i in indices]\n",
    "\n",
    "#create my plot\n",
    "fig, axes = plt.subplots(figsize=(20,5))\n",
    "axes.set_title(\"Feature Importances\")\n",
    "axes.bar(range(X_train.shape[1]), importances[indices])\n",
    "\n",
    "# Add feature names as x-axis labels\n",
    "axes.set_xticks(range(X.shape[1]));\n",
    "axes.set_xticklabels(f_names, rotation=45, ha='right');\n"
   ]
  },
  {
   "cell_type": "markdown",
   "metadata": {},
   "source": [
    "What is the most important feature that your model found? Does this surprise you, why or why not?\n",
    "\n",
    "#### Your Answers:"
   ]
  },
  {
   "cell_type": "code",
   "execution_count": null,
   "metadata": {},
   "outputs": [],
   "source": []
  },
  {
   "cell_type": "code",
   "execution_count": null,
   "metadata": {},
   "outputs": [],
   "source": []
  },
  {
   "cell_type": "markdown",
   "metadata": {},
   "source": [
    "## 6. Test your data.\n",
    "\n",
    "Retrain your model using all the training data and using the hyper parameters you think are best. \n",
    "Then go ahead and test your model with the test data. Evaluate your model by testing on the test set. How did you do? What is your performance?\n",
    "\n",
    "As always, ask yourself the question \"If I was doing this professionally for a company, what other questions would I want answered?\" Is this model ready to go??\n"
   ]
  },
  {
   "cell_type": "code",
   "execution_count": null,
   "metadata": {},
   "outputs": [],
   "source": []
  },
  {
   "cell_type": "code",
   "execution_count": null,
   "metadata": {},
   "outputs": [],
   "source": []
  },
  {
   "cell_type": "code",
   "execution_count": null,
   "metadata": {},
   "outputs": [],
   "source": []
  },
  {
   "cell_type": "code",
   "execution_count": null,
   "metadata": {},
   "outputs": [],
   "source": []
  }
 ],
 "metadata": {
  "kernelspec": {
   "display_name": "Python 3",
   "language": "python",
   "name": "python3"
  },
  "language_info": {
   "codemirror_mode": {
    "name": "ipython",
    "version": 3
   },
   "file_extension": ".py",
   "mimetype": "text/x-python",
   "name": "python",
   "nbconvert_exporter": "python",
   "pygments_lexer": "ipython3",
   "version": "3.9.5"
  }
 },
 "nbformat": 4,
 "nbformat_minor": 4
}
