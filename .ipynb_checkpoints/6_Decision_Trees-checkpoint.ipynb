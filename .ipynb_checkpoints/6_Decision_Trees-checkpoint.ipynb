{
 "cells": [
  {
   "cell_type": "code",
   "execution_count": 1,
   "metadata": {},
   "outputs": [],
   "source": [
    "import numpy as np\n",
    "import pandas as pd\n",
    "import matplotlib.pyplot as plt\n",
    "\n",
    "#preprocessing\n",
    "from sklearn.preprocessing import StandardScaler, MinMaxScaler\n",
    "\n",
    "# classifier we will use\n",
    "from sklearn.tree import DecisionTreeClassifier\n",
    "\n",
    "# model selection bits\n",
    "from sklearn.model_selection import train_test_split\n",
    "\n",
    "# evaluation\n",
    "from sklearn.metrics import f1_score\n",
    "from sklearn.metrics import accuracy_score\n"
   ]
  },
  {
   "cell_type": "markdown",
   "metadata": {},
   "source": [
    "# Detecting Spam with Decision Trees\n",
    "\n",
    "In this assignment you will detect spam with decision trees. It's always important to investigate the data that you are using for any project. Since data is our gold mine, it's our oil that powers our models we need to have good quality data. Machine learning follows the \"garbage in, garbage out\" principle, if we feed in bad data for training, we will get a model that produces bad results.  For these reasons we want to answer the following questions.\n",
    "\n",
    "## 0.  Learn about the data\n",
    "\n",
    "1. Where did this data come from?\n",
    "2. Who made it?\n",
    "3. How were the features selected?\n",
    "4. Can you trust it?\n",
    "\n",
    "Go ahead and scan through the spambase_features.txt file and the spambase.txt file.  These two files provide information about the dataset, how it was curated and where it came from. Then try to answer the above questions.\n",
    "\n",
    "\n",
    "## 1. Load the data"
   ]
  },
  {
   "cell_type": "code",
   "execution_count": 2,
   "metadata": {},
   "outputs": [],
   "source": [
    "## we are going to hardcode the column names, because this just makes it a little easier to use pandas.\n",
    "\n",
    "names = ['word_freq_make:        ',\n",
    "'word_freq_address:     ',\n",
    "'word_freq_all:         ',\n",
    "'word_freq_3d:          ',\n",
    "'word_freq_our:         ',\n",
    "'word_freq_over:        ',\n",
    "'word_freq_remove:      ',\n",
    "'word_freq_internet:    ',\n",
    "'word_freq_order:       ',\n",
    "'word_freq_mail:        ',\n",
    "'word_freq_receive:     ',\n",
    "'word_freq_will:        ',\n",
    "'word_freq_people:      ',\n",
    "'word_freq_report:      ',\n",
    "'word_freq_addresses:   ',\n",
    "'word_freq_free:        ',\n",
    "'word_freq_business:    ',\n",
    "'word_freq_email:       ',\n",
    "'word_freq_you:         ',\n",
    "'word_freq_credit:      ',\n",
    "'word_freq_your:        ',\n",
    "'word_freq_font:        ',\n",
    "'word_freq_000:         ',\n",
    "'word_freq_money:       ',\n",
    "'word_freq_hp:          ',\n",
    "'word_freq_hpl:         ',\n",
    "'word_freq_george:      ',\n",
    "'word_freq_650:         ',\n",
    "'word_freq_lab:         ',\n",
    "'word_freq_labs:        ',\n",
    "'word_freq_telnet:      ',\n",
    "'word_freq_857:         ',\n",
    "'word_freq_data:        ',\n",
    "'word_freq_415:         ',\n",
    "'word_freq_85:          ',\n",
    "'word_freq_technology:  ',\n",
    "'word_freq_1999:        ',\n",
    "'word_freq_parts:       ',\n",
    "'word_freq_pm:          ',\n",
    "'word_freq_direct:      ',\n",
    "'word_freq_cs:          ',\n",
    "'word_freq_meeting:     ',\n",
    "'word_freq_original:    ',\n",
    "'word_freq_project:     ',\n",
    "'word_freq_re:          ',\n",
    "'word_freq_edu:         ',\n",
    "'word_freq_table:       ',\n",
    "'word_freq_conference:  ',\n",
    "'char_freq_;:           ',\n",
    "'char_freq_(:           ',\n",
    "'char_freq_[:           ',\n",
    "'char_freq_!:           ',\n",
    "'char_freq_$:           ',\n",
    "'char_freq_#:           ',\n",
    "'capital_run_length_average',\n",
    "'capital_run_length_longest',\n",
    "'capital_run_length_total: ',\n",
    "'label']\n",
    "          "
   ]
  },
  {
   "cell_type": "code",
   "execution_count": 3,
   "metadata": {},
   "outputs": [
    {
     "name": "stdout",
     "output_type": "stream",
     "text": [
      "<class 'pandas.core.frame.DataFrame'>\n",
      "RangeIndex: 4601 entries, 0 to 4600\n",
      "Data columns (total 57 columns):\n",
      " #   Column                      Non-Null Count  Dtype  \n",
      "---  ------                      --------------  -----  \n",
      " 0   word_freq_make:             4601 non-null   float64\n",
      " 1   word_freq_address:          4601 non-null   float64\n",
      " 2   word_freq_all:              4601 non-null   float64\n",
      " 3   word_freq_3d:               4601 non-null   float64\n",
      " 4   word_freq_our:              4601 non-null   float64\n",
      " 5   word_freq_over:             4601 non-null   float64\n",
      " 6   word_freq_remove:           4601 non-null   float64\n",
      " 7   word_freq_internet:         4601 non-null   float64\n",
      " 8   word_freq_order:            4601 non-null   float64\n",
      " 9   word_freq_mail:             4601 non-null   float64\n",
      " 10  word_freq_receive:          4601 non-null   float64\n",
      " 11  word_freq_will:             4601 non-null   float64\n",
      " 12  word_freq_people:           4601 non-null   float64\n",
      " 13  word_freq_report:           4601 non-null   float64\n",
      " 14  word_freq_addresses:        4601 non-null   float64\n",
      " 15  word_freq_free:             4601 non-null   float64\n",
      " 16  word_freq_business:         4601 non-null   float64\n",
      " 17  word_freq_email:            4601 non-null   float64\n",
      " 18  word_freq_you:              4601 non-null   float64\n",
      " 19  word_freq_credit:           4601 non-null   float64\n",
      " 20  word_freq_your:             4601 non-null   float64\n",
      " 21  word_freq_font:             4601 non-null   float64\n",
      " 22  word_freq_000:              4601 non-null   float64\n",
      " 23  word_freq_money:            4601 non-null   float64\n",
      " 24  word_freq_hp:               4601 non-null   float64\n",
      " 25  word_freq_hpl:              4601 non-null   float64\n",
      " 26  word_freq_george:           4601 non-null   float64\n",
      " 27  word_freq_650:              4601 non-null   float64\n",
      " 28  word_freq_lab:              4601 non-null   float64\n",
      " 29  word_freq_labs:             4601 non-null   float64\n",
      " 30  word_freq_telnet:           4601 non-null   float64\n",
      " 31  word_freq_857:              4601 non-null   float64\n",
      " 32  word_freq_data:             4601 non-null   float64\n",
      " 33  word_freq_415:              4601 non-null   float64\n",
      " 34  word_freq_85:               4601 non-null   float64\n",
      " 35  word_freq_technology:       4601 non-null   float64\n",
      " 36  word_freq_1999:             4601 non-null   float64\n",
      " 37  word_freq_parts:            4601 non-null   float64\n",
      " 38  word_freq_pm:               4601 non-null   float64\n",
      " 39  word_freq_direct:           4601 non-null   float64\n",
      " 40  word_freq_cs:               4601 non-null   float64\n",
      " 41  word_freq_meeting:          4601 non-null   float64\n",
      " 42  word_freq_original:         4601 non-null   float64\n",
      " 43  word_freq_project:          4601 non-null   float64\n",
      " 44  word_freq_re:               4601 non-null   float64\n",
      " 45  word_freq_edu:              4601 non-null   float64\n",
      " 46  word_freq_table:            4601 non-null   float64\n",
      " 47  word_freq_conference:       4601 non-null   float64\n",
      " 48  char_freq_;:                4601 non-null   float64\n",
      " 49  char_freq_(:                4601 non-null   float64\n",
      " 50  char_freq_[:                4601 non-null   float64\n",
      " 51  char_freq_!:                4601 non-null   float64\n",
      " 52  char_freq_$:                4601 non-null   float64\n",
      " 53  char_freq_#:                4601 non-null   float64\n",
      " 54  capital_run_length_average  4601 non-null   float64\n",
      " 55  capital_run_length_longest  4601 non-null   int64  \n",
      " 56  capital_run_length_total:   4601 non-null   int64  \n",
      "dtypes: float64(55), int64(2)\n",
      "memory usage: 2.0 MB\n"
     ]
    }
   ],
   "source": [
    "## Load in the dataset here \n",
    "\n",
    "data = pd.read_csv('spambase/spambase.csv', names = names)\n",
    "X = data.drop('label', axis = 1)\n",
    "y = data.label\n",
    "df = pd.DataFrame(X)\n",
    "X.info()"
   ]
  },
  {
   "cell_type": "markdown",
   "metadata": {},
   "source": [
    "## 2. Preprocess the data if needed\n",
    "\n",
    "1. Are there any empty values?\n",
    "2. Do you need to transform the data?\n",
    "3. What is the distribution of the positive and negative classes?\n",
    "4. Split the data into training and testing sets\n",
    "\n",
    "Let me give a few hints.  When it comes to scaling the data, we normally just _should_, but in this case we are going to be working with decision trees and I think we learned that they have an interesting property!  \n",
    "\n",
    "We want to look at the distribution of positive (spam) and negative (ham) classes.  So basically we need to look at the count of the labels.  You can use the function `.value_counts()` on `y`.  Note that the function `value_counts` is specific to the Series class, it doesn't work on Dataframes.  Now it's not just enough to look at the raw numbers, I suggest you calculate statistics like \"what percentage of my data is ham? What percentage is spam?  This may help you decide if you should use the `stratify` keyword when splitting your data.\n"
   ]
  },
  {
   "cell_type": "code",
   "execution_count": 4,
   "metadata": {},
   "outputs": [
    {
     "data": {
      "text/plain": [
       "0    2788\n",
       "1    1813\n",
       "Name: label, dtype: int64"
      ]
     },
     "execution_count": 4,
     "metadata": {},
     "output_type": "execute_result"
    }
   ],
   "source": [
    "y.value_counts()"
   ]
  },
  {
   "cell_type": "code",
   "execution_count": 5,
   "metadata": {},
   "outputs": [
    {
     "name": "stdout",
     "output_type": "stream",
     "text": [
      "(3220, 57) (1381, 57)\n",
      "(3220,) (1381,)\n"
     ]
    }
   ],
   "source": [
    "## Split your data with 70% for training, this is somewhat random, but this is how I will do it in the \n",
    "## solution video so you will have similar results. Feel free to change this value and experiment if you like.\n",
    "X_train, X_test, y_train, y_test = train_test_split(X, y, test_size = 0.30)\n",
    "print(X_train.shape, X_test.shape)\n",
    "print(y_train.shape, y_test.shape)"
   ]
  },
  {
   "cell_type": "markdown",
   "metadata": {},
   "source": [
    "## 3. Train a Decision Tree Classifier\n",
    "\n",
    "1. What metric should we use? The f1-score or accuracy?\n",
    "\n",
    "Let's start with a default model, we won't specify any settings on the decision tree model for the first training. The following will be a 3-step process\n",
    " * training\n",
    " * getting predictions\n",
    " * evaluating our predictions\n",
    " \n",
    "The question does arise, what should we check our predictions on? The obvious answer is that we should check the predictions on our testing set. That's the set of data that simulates our future unseen data. However in our quest to figure out if we are overfitting or not, it could be very useful to look at the performance of the training set.  Remember when we overfit our polynomials and they touched every point? But then we added data the performance would drop. Similarly if the perfomance of the training data is near perfect, but the testing data is much worse, that _gap_ indicates overfitting. So we will check both training and testing performance.\n"
   ]
  },
  {
   "cell_type": "code",
   "execution_count": null,
   "metadata": {},
   "outputs": [],
   "source": [
    "## Train the model\n",
    "dtc = DecisionTreeClassifier(criterion = 'gini', splitter = 'best', min_samples_split = 5)\n",
    "dtc.fit(X_train, y_train)"
   ]
  },
  {
   "cell_type": "code",
   "execution_count": null,
   "metadata": {},
   "outputs": [],
   "source": [
    "## get predictions from the model on the training data and the testing data\n",
    "train_predictions = dtc.predict(X_train)\n",
    "test_predictions = dtc.predict(X_test)"
   ]
  },
  {
   "cell_type": "code",
   "execution_count": null,
   "metadata": {},
   "outputs": [],
   "source": [
    "## evaluate the predictions\n",
    "## Note that the order of the arguments is **very** important for f1-score\n",
    "## f1_score accuracy_score\n",
    "accuracy_score_train = accuracy_score(y_train, train_predictions)\n",
    "accuracy_score_test = accuracy_score(y_test, test_predictions)\n",
    "f1_score_train = f1_score(y_train, train_predictions)\n",
    "f1_score_test = f1_score(y_test, test_predictions)\n",
    "print(f\"accuracy_score_train = {accuracy_score_train}\")\n",
    "print(f\"accuracy_score_test = {accuracy_score_test}\")\n",
    "print(f\"f1_score_train = {f1_score_train}\")\n",
    "print(f\"f1_score_test = {f1_score_test}\")"
   ]
  },
  {
   "cell_type": "markdown",
   "metadata": {},
   "source": [
    "## 4. Did we overfit? Either way, let's try out some of the decision tree parameters\n",
    "\n",
    "Go ahead and try out some different tree parameters. \n",
    "\n",
    "* `max_depth`\n",
    "* `min_samples_split`\n",
    "* `min_samples_leaf`\n",
    "\n",
    "All three of these parameters will control the complexity of the tree.  Before you try them out, let's take a quick quiz:\n",
    "\n",
    "* increasing `max_depth` will : **Increase** or **Decrease** overfitting?\n",
    "* increasing `min_samples_split` will: **Increase** or **Decrease** overfitting?\n",
    "* increasing `min_samples_leaf` will: **Increase** or **Decrease** overfitting?\n",
    "\n",
    "It's very important to know the answer to these questions - because other wise you can't tune the parameters correctly. If you aren't sure go back and check the quiz on this very topic.\n",
    "\n",
    "Go ahead and try at least 3 values for each parameter. Then if you try 3 values for each combination, you actually would try 9 total parameters. You can see where this is going -- `for` loops! At this point I encourage you to just try whatever method you want, you can ad-hoc try different values or you can get robust with for-loops. Whatever you are inspired to do. The main point is to try out some values and see what you find.  What helps improve our testing performance the best?"
   ]
  },
  {
   "cell_type": "code",
   "execution_count": null,
   "metadata": {},
   "outputs": [],
   "source": []
  },
  {
   "cell_type": "code",
   "execution_count": null,
   "metadata": {},
   "outputs": [],
   "source": []
  },
  {
   "cell_type": "code",
   "execution_count": null,
   "metadata": {},
   "outputs": [],
   "source": []
  },
  {
   "cell_type": "code",
   "execution_count": null,
   "metadata": {},
   "outputs": [],
   "source": []
  },
  {
   "cell_type": "markdown",
   "metadata": {},
   "source": [
    "# Ok, now let's do it systematically\n",
    "\n",
    "Let's do it with some for loops. This will lead us to having more data than we can \"look\" at, so naturally we will plot it.\n",
    "I've started the for loop for you, you need to fill in the inner part."
   ]
  },
  {
   "cell_type": "code",
   "execution_count": 8,
   "metadata": {},
   "outputs": [
    {
     "name": "stdout",
     "output_type": "stream",
     "text": [
      "Accuracy Train: [0.9990683229813665, 0.9968944099378882, 0.9928571428571429, 0.9900621118012423, 0.9881987577639751, 0.9854037267080745, 0.9819875776397515, 0.9807453416149068, 0.9779503105590062, 0.9760869565217392, 0.9751552795031055, 0.9732919254658385, 0.9720496894409938, 0.9686335403726708, 0.9677018633540373, 0.9683229813664597, 0.9670807453416149, 0.9667701863354037, 0.965527950310559, 0.9645962732919254, 0.9633540372670808, 0.962111801242236, 0.9611801242236024, 0.9596273291925466, 0.9596273291925466, 0.9599378881987578, 0.9599378881987578, 0.9583850931677018, 0.9580745341614907, 0.9586956521739131, 0.9580745341614907, 0.9559006211180124, 0.9537267080745342, 0.9537267080745342, 0.9540372670807453, 0.9546583850931677, 0.9540372670807453, 0.9546583850931677, 0.9540372670807453, 0.9537267080745342, 0.9537267080745342, 0.9537267080745342, 0.9503105590062112, 0.9503105590062112, 0.9496894409937888, 0.9496894409937888, 0.9496894409937888, 0.9493788819875777]\n",
      "Accuracy Test: [0.9232440260680667, 0.9304851556842868, 0.9232440260680667, 0.9275887038377987, 0.9261404779145547, 0.9254163649529327, 0.9239681390296887, 0.9239681390296887, 0.9210716871832005, 0.9210716871832005, 0.9196234612599565, 0.9196234612599565, 0.9203475742215785, 0.9203475742215785, 0.9174511223750905, 0.9188993482983345, 0.9188993482983345, 0.9174511223750905, 0.9167270094134685, 0.9152787834902245, 0.9196234612599565, 0.9167270094134685, 0.9188993482983345, 0.9181752353367125, 0.9181752353367125, 0.9174511223750905, 0.9174511223750905, 0.9160028964518465, 0.9174511223750905, 0.9174511223750905, 0.9188993482983345, 0.9174511223750905, 0.9160028964518465, 0.9167270094134685, 0.9174511223750905, 0.9174511223750905, 0.9167270094134685, 0.9181752353367125, 0.9181752353367125, 0.9174511223750905, 0.9196234612599565, 0.9181752353367125, 0.9160028964518465, 0.9160028964518465, 0.9160028964518465, 0.9160028964518465, 0.9167270094134685, 0.9167270094134685]\n",
      "f1 Train: [0.9987908101571946, 0.9959579628132579, 0.990722065348931, 0.987075928917609, 0.984689766317486, 0.9810712847362063, 0.9766505636070854, 0.9751203852327448, 0.9716340391530164, 0.9689390883420734, 0.9678197908286404, 0.9652384801940178, 0.9636510500807755, 0.9592248687928946, 0.9580645161290323, 0.9589041095890412, 0.9573268921095008, 0.9568374344493747, 0.9552599758162031, 0.9541062801932367, 0.9524576954069298, 0.9508460918614021, 0.9496981891348089, 0.9477911646586344, 0.9477911646586344, 0.94817195660908, 0.9481302774427022, 0.9463570856685348, 0.9459783913565426, 0.94673608329996, 0.9459783913565426, 0.942741935483871, 0.9397492923574605, 0.9397492923574605, 0.9401294498381878, 0.9408906882591094, 0.9401294498381878, 0.9408906882591094, 0.9403706688154714, 0.9399919452275474, 0.9398951189995967, 0.9398951189995967, 0.9349593495934959, 0.9349593495934959, 0.9341463414634147, 0.934092758340114, 0.934092758340114, 0.933712891419276]\n",
      "f1 Test: [0.906854130052724, 0.9160839160839161, 0.9065255731922398, 0.9118165784832453, 0.9102112676056338, 0.9097283085013146, 0.9074889867841409, 0.9076517150395779, 0.9041336851363236, 0.9037952338923212, 0.9023746701846966, 0.9016829052258636, 0.9031690140845069, 0.9028268551236748, 0.9, 0.9017543859649122, 0.9015817223198593, 0.9, 0.8990342405618964, 0.8972783143107989, 0.9028871391076116, 0.8990342405618964, 0.9022687609075044, 0.9014821272885789, 0.9016536118363795, 0.900523560209424, 0.9006968641114983, 0.8989547038327527, 0.9006968641114983, 0.9006968641114983, 0.9026086956521739, 0.8994708994708995, 0.8975265017667845, 0.8984995586937334, 0.8994708994708995, 0.8994708994708995, 0.8984995586937334, 0.9004405286343613, 0.9007901668129937, 0.8998242530755712, 0.9025460930640913, 0.9006156552330695, 0.8973451327433628, 0.8973451327433628, 0.8971631205673759, 0.8971631205673759, 0.8981399468556244, 0.8981399468556244]\n"
     ]
    }
   ],
   "source": [
    "train_results_accuracy = []\n",
    "test_results_accuracy = []\n",
    "train_results_f1 = []\n",
    "test_results_f1 = []\n",
    "\n",
    "for i in range(2,50): # feel free to change these, I just threw out a reasonable option here.\n",
    "\n",
    "    dtc = DecisionTreeClassifier(min_samples_split = i)  #select a parameter to check\n",
    "    dtc.fit(X_train, y_train)                                  # train the model\n",
    "    train_predictions = dtc.predict(X_train)\n",
    "    test_predictions = dtc.predict(X_test)                                  # get predictions for both training and test\n",
    "    accuracy_score_train = accuracy_score(y_train, train_predictions)\n",
    "    train_results_accuracy.append(accuracy_score_train)\n",
    "    accuracy_score_test = accuracy_score(y_test, test_predictions)\n",
    "    test_results_accuracy.append(accuracy_score_test)\n",
    "    f1_score_train = f1_score(y_train, train_predictions)\n",
    "    train_results_f1.append(f1_score_train)\n",
    "    f1_score_test = f1_score(y_test, test_predictions)       \n",
    "    test_results_f1.append(f1_score_test)  # evaluate them and append them into the our lists.\n",
    "\n",
    "print(f\"Accuracy Train: {train_results_accuracy}\")\n",
    "print(f\"Accuracy Test: {test_results_accuracy}\")\n",
    "print(f\"f1 Train: {train_results_f1}\")\n",
    "print(f\"f1 Test: {test_results_f1}\")"
   ]
  },
  {
   "cell_type": "code",
   "execution_count": null,
   "metadata": {},
   "outputs": [],
   "source": []
  },
  {
   "cell_type": "code",
   "execution_count": null,
   "metadata": {},
   "outputs": [],
   "source": []
  },
  {
   "cell_type": "markdown",
   "metadata": {},
   "source": [
    "## That's a lot of numbers!\n",
    "\n",
    "What do all those numbers tell us? Well we can pick out the best values using something like `np.max` and then we can relate it to the best parameter with the argument that correlates to that value (so depth 2 gave us .85 score etc).  But I think we'll find more interesting to plot these points.  I've provided the code for you below."
   ]
  },
  {
   "cell_type": "code",
   "execution_count": 10,
   "metadata": {},
   "outputs": [
    {
     "data": {
      "text/plain": [
       "<matplotlib.legend.Legend at 0x7f3397969610>"
      ]
     },
     "execution_count": 10,
     "metadata": {},
     "output_type": "execute_result"
    },
    {
     "data": {
      "image/png": "[encoded data removed]",
      "text/plain": [
       "<Figure size 720x432 with 1 Axes>"
      ]
     },
     "metadata": {
      "needs_background": "light"
     },
     "output_type": "display_data"
    }
   ],
   "source": [
    "fig,ax = plt.subplots(figsize = (10,6));\n",
    "ax.plot(train_results_f1, color = 'r', label = 'train')\n",
    "ax.plot(test_results_f1, color = 'b', label = 'test')\n",
    "ax.legend()"
   ]
  },
  {
   "cell_type": "markdown",
   "metadata": {},
   "source": [
    "## This graph is called a validation curve\n",
    "\n",
    "What we have done is plotted the performance of the training and testing data against a parameter that was varied. How do we read this graph?\n",
    "What information can you glean?\n",
    "When does our model start to overfit?  \n",
    "Based on what you see here, what do you think the best choice for the parameter you were checking is?  That is, looking at the graph, what value would you choose for a spam detection model that you were going to deploy? Don't forget the purpose of the model!\n"
   ]
  },
  {
   "cell_type": "markdown",
   "metadata": {},
   "source": [
    "#### Your answers here"
   ]
  },
  {
   "cell_type": "code",
   "execution_count": 11,
   "metadata": {},
   "outputs": [
    {
     "name": "stdout",
     "output_type": "stream",
     "text": [
      "I would choose min_split_samples = 2\n"
     ]
    }
   ],
   "source": [
    "print(\"I would choose min_split_samples = 2\")"
   ]
  },
  {
   "cell_type": "markdown",
   "metadata": {},
   "source": [
    "# Finally... we ... made a mistake!\n",
    "Do you see what the giant mistake we did? Go ahead and let us know below.\n",
    "If you don't see the mistake... don't worry I'll explain in the next unit!\n"
   ]
  },
  {
   "cell_type": "markdown",
   "metadata": {},
   "source": [
    "#### Your answer here"
   ]
  },
  {
   "cell_type": "code",
   "execution_count": 12,
   "metadata": {},
   "outputs": [
    {
     "name": "stdout",
     "output_type": "stream",
     "text": [
      "I don't think I see the mistake.  Maybe it has something to do with only evaluating one parameter at a time and not several at a time.  Only the score of all the parameters working together is important.  That's a little too obvious though...I guess I'll find out shortly.\n"
     ]
    }
   ],
   "source": [
    "print(\"I don't think I see the mistake.  Maybe it has something to do with only evaluating one parameter at a time and not several at a time.  Only the score of all the parameters working together is important.  That's a little too obvious though...I guess I'll find out shortly.\")"
   ]
  },
  {
   "cell_type": "code",
   "execution_count": null,
   "metadata": {},
   "outputs": [],
   "source": []
  }
 ],
 "metadata": {
  "kernelspec": {
   "display_name": "Python 3",
   "language": "python",
   "name": "python3"
  },
  "language_info": {
   "codemirror_mode": {
    "name": "ipython",
    "version": 3
   },
   "file_extension": ".py",
   "mimetype": "text/x-python",
   "name": "python",
   "nbconvert_exporter": "python",
   "pygments_lexer": "ipython3",
   "version": "3.9.5"
  }
 },
 "nbformat": 4,
 "nbformat_minor": 4
}
